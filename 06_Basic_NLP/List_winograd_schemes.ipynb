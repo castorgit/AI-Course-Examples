{
 "cells": [
  {
   "cell_type": "code",
   "execution_count": 1,
   "id": "a20ff8c5",
   "metadata": {},
   "outputs": [],
   "source": [
    "# File that lists Winograd Schemes from Winogrande data"
   ]
  },
  {
   "cell_type": "code",
   "execution_count": 1,
   "id": "37d3bd4a",
   "metadata": {},
   "outputs": [],
   "source": [
    "import yaml\n",
    "import math\n",
    "import sys\n",
    "import json\n",
    "import argparse\n",
    "from typing import List\n",
    "from sklearn.metrics import accuracy_score, auc"
   ]
  },
  {
   "cell_type": "code",
   "execution_count": 6,
   "id": "12311642",
   "metadata": {},
   "outputs": [],
   "source": [
    "input_file = './winogrande_1.1/train_l.jsonl' # file name\n",
    "n = 24                           # total number of winograd schemes to list"
   ]
  },
  {
   "cell_type": "code",
   "execution_count": 14,
   "id": "99c40626",
   "metadata": {},
   "outputs": [
    {
     "name": "stdout",
     "output_type": "stream",
     "text": [
      "0 - Ian volunteered to eat Dennis's menudo after already having a bowl because _ despised eating intestine.\n",
      "--Ian\n",
      "--Dennis <<<<<<<\n",
      "1 - Ian volunteered to eat Dennis's menudo after already having a bowl because _ enjoyed eating intestine.\n",
      "--Ian <<<<<<<\n",
      "--Dennis\n",
      "2 - He never comes to my home, but I always go to his house because the _ is smaller.\n",
      "--home <<<<<<<\n",
      "--house\n",
      "3 - He never comes to my home, but I always go to his house because the _ is bigger.\n",
      "--home\n",
      "--house <<<<<<<\n",
      "4 - Kyle doesn't wear leg warmers to bed, while Logan almost always does. _ is more likely to live in a colder climate.\n",
      "--Kyle\n",
      "--Logan <<<<<<<\n",
      "5 - Kyle doesn't wear leg warmers to bed, while Logan almost always does. _ is more likely to live in a warmer climate.\n",
      "--Kyle <<<<<<<\n",
      "--Logan\n",
      "6 - The GPS and map helped me navigate home.  I got lost when the _ got turned upside down.\n",
      "--GPS\n",
      "--map <<<<<<<\n",
      "7 - The GPS and map helped me navigate home.  I got lost when the _ got turned off.\n",
      "--GPS <<<<<<<\n",
      "--map\n",
      "8 - Emily looked up and saw Patricia racing by overhead, as _ was on the ramp .\n",
      "--Emily\n",
      "--Patricia <<<<<<<\n",
      "9 - Emily looked up and saw Patricia racing by overhead, as _ was under the ramp .\n",
      "--Emily <<<<<<<\n",
      "--Patricia\n",
      "10 - The treasury workers took the gold bars off of the trolley and stacked them in the safe until the _ was empty.\n",
      "--safe\n",
      "--trolley <<<<<<<\n",
      "11 - The treasury workers took the gold bars off of the trolley and stacked them in the safe until the _ was full.\n",
      "--safe <<<<<<<\n",
      "--trolley\n",
      "12 - He thought he had time to take the scenic route to the store, but the _ was under construction.\n",
      "--route <<<<<<<\n",
      "--store\n",
      "13 - He thought he had time to take the scenic route to the store, but the _ was closed early.\n",
      "--route\n",
      "--store <<<<<<<\n",
      "14 - She remembered how annoying it is to dust her wood chair so she bought a plastic table instead.  Cleaning the _ is quick.\n",
      "--chair\n",
      "--table <<<<<<<\n",
      "15 - She remembered how annoying it is to dust her wood chair so she bought a plastic table instead.  Cleaning the _ is time consuming.\n",
      "--chair <<<<<<<\n",
      "--table\n",
      "16 - To overcome behavioural bias, we need to focus more on changing the conscious actions instead of the unconscious actions because the _ actions are voluntary.\n",
      "--unconscious\n",
      "--conscious <<<<<<<\n",
      "17 - To overcome behavioural bias, we need to focus more on changing the conscious actions instead of the unconscious actions because the _ actions are involuntary.\n",
      "--unconscious <<<<<<<\n",
      "--conscious\n",
      "18 - Megan has a lot less money than Jessica because _ just bought the winning lottery ticket.\n",
      "--Megan\n",
      "--Jessica <<<<<<<\n",
      "19 - Megan has a lot more money than Jessica because _ just bought the winning lottery ticket.\n",
      "--Megan <<<<<<<\n",
      "--Jessica\n",
      "20 - I picked up a bag of peanuts and raisins for a snack. I wanted a sweeter snack out so I stored the _ for now.\n",
      "--raisins\n",
      "--peanuts <<<<<<<\n",
      "21 - I picked up a bag of peanuts and raisins for a snack. I wanted a sweeter snack out so I ate the _ for now.\n",
      "--raisins <<<<<<<\n",
      "--peanuts\n",
      "22 - Craig really loves to clean all the time but Derrick does not because _ is very neat.\n",
      "--Craig <<<<<<<\n",
      "--Derrick\n",
      "23 - Craig really loves to clean all the time but Derrick does not because _ is very untidy.\n",
      "--Craig\n",
      "--Derrick <<<<<<<\n",
      "24 - Dennis gave his hammer to Robert so he could hammer the nails. _ had plenty of hammers.\n",
      "--Dennis <<<<<<<\n",
      "--Robert\n"
     ]
    },
    {
     "ename": "SystemExit",
     "evalue": "",
     "output_type": "error",
     "traceback": [
      "An exception has occurred, use %tb to see the full traceback.\n",
      "\u001b[0;31mSystemExit\u001b[0m\n"
     ]
    },
    {
     "name": "stderr",
     "output_type": "stream",
     "text": [
      "/home/manero/anaconda3/lib/python3.8/site-packages/IPython/core/interactiveshell.py:3449: UserWarning: To exit: use 'exit', 'quit', or Ctrl-D.\n",
      "  warn(\"To exit: use 'exit', 'quit', or Ctrl-D.\", stacklevel=1)\n"
     ]
    }
   ],
   "source": [
    "i=0\n",
    "lines = []\n",
    "\n",
    "with open(input_file, \"rb\") as f:\n",
    "    for l in f:\n",
    "         lines.append(l.decode().strip())\n",
    "         res = json.loads(l)\n",
    "         good_response = res[\"answer\"]\n",
    "         print (i, \"- \" + res['sentence'])\n",
    "         if good_response == '1':\n",
    "            print (\"--\" + res['option1']+' <<<<<<<')\n",
    "         else:\n",
    "            print (\"--\" + res['option1'])\n",
    "         if good_response == '2':\n",
    "          print (\"--\" + res['option2']+' <<<<<<<')\n",
    "         else:\n",
    "          print (\"--\" + res['option2'])\n",
    "         i = i +1\n",
    "         if (i>n):\n",
    "            sys.exit()"
   ]
  }
 ],
 "metadata": {
  "kernelspec": {
   "display_name": "Python 3 (ipykernel)",
   "language": "python",
   "name": "python3"
  },
  "language_info": {
   "codemirror_mode": {
    "name": "ipython",
    "version": 3
   },
   "file_extension": ".py",
   "mimetype": "text/x-python",
   "name": "python",
   "nbconvert_exporter": "python",
   "pygments_lexer": "ipython3",
   "version": "3.8.11"
  }
 },
 "nbformat": 4,
 "nbformat_minor": 5
}
