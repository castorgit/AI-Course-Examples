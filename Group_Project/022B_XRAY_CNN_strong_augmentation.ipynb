{
 "cells": [
  {
   "cell_type": "markdown",
   "metadata": {},
   "source": [
    "# Chest X-Ray (Pneumonia): Deeper CNN Network \n",
    "\n",
    "Deeper CNN Network + some complications + class balancing + Strong Data augmentation\n",
    "\n",
    "Similar 021 but solving the class balancing issue\n"
   ]
  },
  {
   "cell_type": "code",
   "execution_count": 1,
   "metadata": {
    "execution": {
     "iopub.execute_input": "2021-09-21T06:50:25.577006Z",
     "iopub.status.busy": "2021-09-21T06:50:25.576634Z",
     "iopub.status.idle": "2021-09-21T06:50:25.603025Z",
     "shell.execute_reply": "2021-09-21T06:50:25.602053Z",
     "shell.execute_reply.started": "2021-09-21T06:50:25.576967Z"
    }
   },
   "outputs": [],
   "source": [
    "import pandas as pd       \n",
    "import matplotlib as mat\n",
    "import matplotlib.pyplot as plt    \n",
    "import numpy as np\n",
    "import seaborn as sns\n",
    "%matplotlib inline\n",
    "\n",
    "pd.options.display.max_colwidth = 100\n",
    "\n",
    "import random\n",
    "import os\n",
    "os.environ['TF_CPP_MIN_LOG_LEVEL'] = '2' # to avoid warning messages\n",
    "\n",
    "from numpy.random import seed\n",
    "seed(42)\n",
    "\n",
    "random.seed(42)\n",
    "os.environ['PYTHONHASHSEED'] = str(42)\n",
    "os.environ['TF_DETERMINISTIC_OPS'] = '1'\n",
    "\n",
    "from sklearn.model_selection import train_test_split\n",
    "from sklearn import metrics\n",
    "from sklearn.metrics import accuracy_score\n",
    "\n",
    "import tensorflow as tf\n",
    "from tensorflow import keras\n",
    "from tensorflow.keras import layers\n",
    "from tensorflow.keras import callbacks\n",
    "from tensorflow.keras.models import Model\n",
    "from tensorflow.keras.preprocessing.image import ImageDataGenerator\n",
    "\n",
    "import glob\n",
    "import cv2\n",
    "\n",
    "from tensorflow.random import set_seed\n",
    "set_seed(42)\n",
    "\n",
    "import warnings\n",
    "warnings.filterwarnings('ignore')"
   ]
  },
  {
   "cell_type": "code",
   "execution_count": 2,
   "metadata": {
    "execution": {
     "iopub.execute_input": "2021-09-21T06:50:25.605966Z",
     "iopub.status.busy": "2021-09-21T06:50:25.605399Z",
     "iopub.status.idle": "2021-09-21T06:50:25.611930Z",
     "shell.execute_reply": "2021-09-21T06:50:25.611215Z",
     "shell.execute_reply.started": "2021-09-21T06:50:25.605929Z"
    }
   },
   "outputs": [],
   "source": [
    "IMG_SIZE = 224\n",
    "BATCH = 32\n",
    "SEED = 42"
   ]
  },
  {
   "cell_type": "code",
   "execution_count": 3,
   "metadata": {
    "execution": {
     "iopub.execute_input": "2021-09-21T06:50:25.616438Z",
     "iopub.status.busy": "2021-09-21T06:50:25.614268Z",
     "iopub.status.idle": "2021-09-21T06:50:25.649779Z",
     "shell.execute_reply": "2021-09-21T06:50:25.649140Z",
     "shell.execute_reply.started": "2021-09-21T06:50:25.616404Z"
    }
   },
   "outputs": [],
   "source": [
    "# folder structure \n",
    "#Notebook\n",
    "#    !------ chest_xray_data\n",
    "#                  !-------------train\n",
    "#                  !-------------test\n",
    "#                  !-------------validation\n",
    "#\n",
    "main_path = \"./chest_xray_data/\"\n",
    "\n",
    "train_path = os.path.join(main_path,\"TRAIN\")\n",
    "test_path = os.path.join(main_path,\"TEST\")\n",
    "val_path  = os.path.join(main_path,\"VALIDATION\")\n",
    "\n",
    "train_normal = glob.glob(train_path+\"/NORMAL/*.jpeg\")\n",
    "train_pneumonia = glob.glob(train_path+\"/PNEUMONIA/*.jpeg\")\n",
    "\n",
    "test_normal = glob.glob(test_path+\"/NORMAL/*.jpeg\")\n",
    "test_pneumonia = glob.glob(test_path+\"/PNEUMONIA/*.jpeg\")\n",
    "\n",
    "val_normal = glob.glob(val_path+\"/NORMAL/*.jpeg\")\n",
    "val_pneumonia = glob.glob(val_path+\"/PNEUMONIA/*.jpeg\")\n",
    "\n",
    "COUNT_NORMAL = len(train_normal)+len(test_normal)+len(val_normal)\n",
    "COUNT_PNEUMONIA = len(train_pneumonia)+len(test_pneumonia)+len(val_pneumonia)"
   ]
  },
  {
   "cell_type": "code",
   "execution_count": 4,
   "metadata": {
    "execution": {
     "iopub.execute_input": "2021-09-21T06:50:25.651296Z",
     "iopub.status.busy": "2021-09-21T06:50:25.651010Z",
     "iopub.status.idle": "2021-09-21T06:50:25.667932Z",
     "shell.execute_reply": "2021-09-21T06:50:25.667042Z",
     "shell.execute_reply.started": "2021-09-21T06:50:25.651262Z"
    }
   },
   "outputs": [],
   "source": [
    "train_list = [x for x in train_normal]\n",
    "train_list.extend([x for x in train_pneumonia])\n",
    "\n",
    "df_train = pd.DataFrame(np.concatenate([['Normal']*len(train_normal) , ['Pneumonia']*len(train_pneumonia)]), \n",
    "                        columns = ['class'])\n",
    "df_train['image'] = [x for x in train_list]\n",
    "\n",
    "test_list = [x for x in test_normal]\n",
    "test_list.extend([x for x in test_pneumonia])\n",
    "\n",
    "df_test = pd.DataFrame(np.concatenate([['Normal']*len(test_normal) , ['Pneumonia']*len(test_pneumonia)]), \n",
    "                       columns = ['class'])\n",
    "df_test['image'] = [x for x in test_list]\n",
    "\n",
    "val_list = [x for x in val_normal]\n",
    "val_list.extend([x for x in val_pneumonia])\n",
    "\n",
    "df_val = pd.DataFrame(np.concatenate([['Normal']*len(val_normal) , ['Pneumonia']*len(val_pneumonia)]), \n",
    "                      columns = ['class'])\n",
    "df_val['image'] = [x for x in val_list]\n",
    "\n",
    "train_df = df_train\n",
    "test_df = df_test\n",
    "val_df = df_val"
   ]
  },
  {
   "cell_type": "markdown",
   "metadata": {},
   "source": [
    "### Data Preparation\n"
   ]
  },
  {
   "cell_type": "code",
   "execution_count": 5,
   "metadata": {
    "execution": {
     "iopub.execute_input": "2021-09-21T06:50:31.175831Z",
     "iopub.status.busy": "2021-09-21T06:50:31.172013Z",
     "iopub.status.idle": "2021-09-21T06:50:33.658002Z",
     "shell.execute_reply": "2021-09-21T06:50:33.657320Z",
     "shell.execute_reply.started": "2021-09-21T06:50:31.175748Z"
    }
   },
   "outputs": [
    {
     "name": "stdout",
     "output_type": "stream",
     "text": [
      "shapes. Train:  (4099, 2) val :  (879, 2) test :  (878, 2)\n",
      "Found 4099 validated image filenames belonging to 2 classes.\n",
      "Found 879 validated image filenames belonging to 2 classes.\n",
      "Found 878 validated image filenames belonging to 2 classes.\n"
     ]
    }
   ],
   "source": [
    "print ('shapes. Train: ',train_df.shape, 'val : ', val_df.shape, 'test : ',df_test.shape)\n",
    "# https://vijayabhaskar96.medium.com/tutorial-on-keras-flow-from-dataframe-1fd4493d237c\n",
    "\n",
    "train_datagen = ImageDataGenerator(rescale=1/255.,\n",
    "                            rotation_range=20,\n",
    "                            width_shift_range=0.1,\n",
    "                            shear_range=10,\n",
    "                            horizontal_flip = True,\n",
    "                            fill_mode = 'nearest',\n",
    "                            zoom_range=0.2\n",
    "#                           samplewise_center=True\n",
    ")\n",
    "\n",
    "val_datagen  = ImageDataGenerator(rescale=1/255.)\n",
    "test_datagen = ImageDataGenerator(rescale=1/255.)\n",
    "\n",
    "ds_train = train_datagen.flow_from_dataframe(train_df,\n",
    "                                             #directory=train_path, #dataframe contains the full paths\n",
    "                                             x_col = 'image',\n",
    "                                             y_col = 'class',\n",
    "                                             target_size = (IMG_SIZE, IMG_SIZE),\n",
    "                                             class_mode = 'binary',\n",
    "                                             batch_size = BATCH,\n",
    "                                             seed = SEED)\n",
    "\n",
    "ds_val = val_datagen.flow_from_dataframe(val_df,\n",
    "                                            #directory=train_path,\n",
    "                                            x_col = 'image',\n",
    "                                            y_col = 'class',\n",
    "                                            target_size = (IMG_SIZE, IMG_SIZE),\n",
    "                                            class_mode = 'binary',\n",
    "                                            batch_size = BATCH,\n",
    "                                            seed = SEED)\n",
    "\n",
    "ds_test = test_datagen.flow_from_dataframe(df_test,\n",
    "                                            #directory=test_path,\n",
    "                                            x_col = 'image',\n",
    "                                            y_col = 'class',\n",
    "                                            target_size = (IMG_SIZE, IMG_SIZE),\n",
    "                                            class_mode = 'binary',\n",
    "                                            batch_size = 1,\n",
    "                                            shuffle = False)"
   ]
  },
  {
   "cell_type": "markdown",
   "metadata": {},
   "source": [
    "## Class balancing using class weight parameter in keras"
   ]
  },
  {
   "cell_type": "code",
   "execution_count": 6,
   "metadata": {},
   "outputs": [
    {
     "name": "stdout",
     "output_type": "stream",
     "text": [
      "Initial bias: 0.99299\n",
      "Weight for class 0: 1.85\n",
      "Weight for class 1: 0.69\n"
     ]
    }
   ],
   "source": [
    "initial_bias = np.log([COUNT_PNEUMONIA / COUNT_NORMAL])\n",
    "print(\"Initial bias: {:.5f}\".format(initial_bias[0]))\n",
    "\n",
    "TRAIN_IMG_COUNT = COUNT_NORMAL + COUNT_PNEUMONIA\n",
    "weight_for_0 = (1 / COUNT_NORMAL) * (TRAIN_IMG_COUNT) / 2.0\n",
    "weight_for_1 = (1 / COUNT_PNEUMONIA) * (TRAIN_IMG_COUNT) / 2.0\n",
    "\n",
    "class_weight = {0: weight_for_0, 1: weight_for_1}\n",
    "\n",
    "print(\"Weight for class 0: {:.2f}\".format(weight_for_0))\n",
    "print(\"Weight for class 1: {:.2f}\".format(weight_for_1))\n",
    "\n"
   ]
  },
  {
   "cell_type": "markdown",
   "metadata": {},
   "source": [
    "### CNN\n",
    "Data is ready. Now we define the CNN network and train "
   ]
  },
  {
   "cell_type": "code",
   "execution_count": 7,
   "metadata": {
    "execution": {
     "iopub.execute_input": "2021-09-21T06:50:33.659445Z",
     "iopub.status.busy": "2021-09-21T06:50:33.659187Z",
     "iopub.status.idle": "2021-09-21T06:50:33.665861Z",
     "shell.execute_reply": "2021-09-21T06:50:33.665031Z",
     "shell.execute_reply.started": "2021-09-21T06:50:33.659411Z"
    }
   },
   "outputs": [],
   "source": [
    "#Setting callbakcs\n",
    "\n",
    "initial_learning_rate = 0.015\n",
    "lr_schedule = tf.keras.optimizers.schedules.ExponentialDecay(\n",
    "    initial_learning_rate, decay_steps=100000, decay_rate=0.96, staircase=True\n",
    ")\n",
    "\n",
    "early_stopping = callbacks.EarlyStopping(\n",
    "    monitor='val_loss',\n",
    "    patience=5,\n",
    "    min_delta=0.0000001,\n",
    "    restore_best_weights=True,\n",
    ")\n",
    "\n",
    "plateau = callbacks.ReduceLROnPlateau(\n",
    "    monitor='val_loss',\n",
    "    factor = 0.2,                                     \n",
    "    patience = 2,                                   \n",
    "    min_delt = 0.0001, \n",
    "    min_lr = 0.00001,\n",
    "    cooldown = 0,                               \n",
    "    verbose = 1\n",
    ") "
   ]
  },
  {
   "cell_type": "markdown",
   "metadata": {},
   "source": [
    "Let’s define our first model ‘from scratch’ and see how it performs."
   ]
  },
  {
   "cell_type": "code",
   "execution_count": 8,
   "metadata": {
    "execution": {
     "iopub.execute_input": "2021-09-21T06:50:33.667482Z",
     "iopub.status.busy": "2021-09-21T06:50:33.667099Z",
     "iopub.status.idle": "2021-09-21T06:50:33.679963Z",
     "shell.execute_reply": "2021-09-21T06:50:33.679207Z",
     "shell.execute_reply.started": "2021-09-21T06:50:33.667445Z"
    }
   },
   "outputs": [],
   "source": [
    "def get_model():\n",
    "    \n",
    "    # CNN Layers\n",
    "    \n",
    "    #Input shape = [width, height, color channels]\n",
    "    inputs = layers.Input(shape=(IMG_SIZE, IMG_SIZE, 3))\n",
    "    \n",
    "    # Block One\n",
    "    x = layers.Conv2D(filters=16, kernel_size=3, padding='valid')(inputs)\n",
    "    x = layers.BatchNormalization()(x)\n",
    "    x = layers.Activation('relu')(x)\n",
    "    x = layers.MaxPool2D()(x)\n",
    "    x = layers.Dropout(0.2)(x)\n",
    "\n",
    "    # Block Two\n",
    "    x = layers.Conv2D(filters=32, kernel_size=3, padding='valid')(x)\n",
    "    x = layers.BatchNormalization()(x)\n",
    "    x = layers.Activation('relu')(x)\n",
    "    x = layers.MaxPool2D()(x)\n",
    "    x = layers.Dropout(0.2)(x)\n",
    "    \n",
    "    # Block Three\n",
    "    x = layers.Conv2D(filters=64, kernel_size=3, padding='valid')(x)\n",
    "    x = layers.Conv2D(filters=64, kernel_size=3, padding='valid')(x)\n",
    "    x = layers.BatchNormalization()(x)\n",
    "    x = layers.Activation('relu')(x)\n",
    "    x = layers.MaxPool2D()(x)\n",
    "    x = layers.Dropout(0.4)(x)\n",
    "\n",
    "    # MLP - Classification layers\n",
    "    \n",
    "    #x = layers.BatchNormalization()(x)\n",
    "    x = layers.Flatten()(x)\n",
    "    x = layers.Dense(64, activation='relu')(x)\n",
    "    x = layers.Dropout(0.5)(x)\n",
    "    \n",
    "    #Final Layer (Output)\n",
    "    output = layers.Dense(1, activation='sigmoid')(x)\n",
    "    \n",
    "    model = keras.Model(inputs=[inputs], outputs=output)\n",
    "    \n",
    "    return model"
   ]
  },
  {
   "cell_type": "code",
   "execution_count": 9,
   "metadata": {
    "execution": {
     "iopub.execute_input": "2021-09-21T06:50:33.681512Z",
     "iopub.status.busy": "2021-09-21T06:50:33.681083Z",
     "iopub.status.idle": "2021-09-21T06:50:33.792110Z",
     "shell.execute_reply": "2021-09-21T06:50:33.790855Z",
     "shell.execute_reply.started": "2021-09-21T06:50:33.681477Z"
    }
   },
   "outputs": [
    {
     "name": "stdout",
     "output_type": "stream",
     "text": [
      "Model: \"model\"\n",
      "_________________________________________________________________\n",
      " Layer (type)                Output Shape              Param #   \n",
      "=================================================================\n",
      " input_1 (InputLayer)        [(None, 224, 224, 3)]     0         \n",
      "                                                                 \n",
      " conv2d (Conv2D)             (None, 222, 222, 16)      448       \n",
      "                                                                 \n",
      " batch_normalization (BatchN  (None, 222, 222, 16)     64        \n",
      " ormalization)                                                   \n",
      "                                                                 \n",
      " activation (Activation)     (None, 222, 222, 16)      0         \n",
      "                                                                 \n",
      " max_pooling2d (MaxPooling2D  (None, 111, 111, 16)     0         \n",
      " )                                                               \n",
      "                                                                 \n",
      " dropout (Dropout)           (None, 111, 111, 16)      0         \n",
      "                                                                 \n",
      " conv2d_1 (Conv2D)           (None, 109, 109, 32)      4640      \n",
      "                                                                 \n",
      " batch_normalization_1 (Batc  (None, 109, 109, 32)     128       \n",
      " hNormalization)                                                 \n",
      "                                                                 \n",
      " activation_1 (Activation)   (None, 109, 109, 32)      0         \n",
      "                                                                 \n",
      " max_pooling2d_1 (MaxPooling  (None, 54, 54, 32)       0         \n",
      " 2D)                                                             \n",
      "                                                                 \n",
      " dropout_1 (Dropout)         (None, 54, 54, 32)        0         \n",
      "                                                                 \n",
      " conv2d_2 (Conv2D)           (None, 52, 52, 64)        18496     \n",
      "                                                                 \n",
      " conv2d_3 (Conv2D)           (None, 50, 50, 64)        36928     \n",
      "                                                                 \n",
      " batch_normalization_2 (Batc  (None, 50, 50, 64)       256       \n",
      " hNormalization)                                                 \n",
      "                                                                 \n",
      " activation_2 (Activation)   (None, 50, 50, 64)        0         \n",
      "                                                                 \n",
      " max_pooling2d_2 (MaxPooling  (None, 25, 25, 64)       0         \n",
      " 2D)                                                             \n",
      "                                                                 \n",
      " dropout_2 (Dropout)         (None, 25, 25, 64)        0         \n",
      "                                                                 \n",
      " flatten (Flatten)           (None, 40000)             0         \n",
      "                                                                 \n",
      " dense (Dense)               (None, 64)                2560064   \n",
      "                                                                 \n",
      " dropout_3 (Dropout)         (None, 64)                0         \n",
      "                                                                 \n",
      " dense_1 (Dense)             (None, 1)                 65        \n",
      "                                                                 \n",
      "=================================================================\n",
      "Total params: 2,621,089\n",
      "Trainable params: 2,620,865\n",
      "Non-trainable params: 224\n",
      "_________________________________________________________________\n"
     ]
    }
   ],
   "source": [
    "keras.backend.clear_session()\n",
    "\n",
    "model = get_model()\n",
    "model.compile(loss='binary_crossentropy'\n",
    "              , optimizer = keras.optimizers.Adam(learning_rate=0.00003), metrics='binary_accuracy')\n",
    "\n",
    "model.summary()"
   ]
  },
  {
   "cell_type": "code",
   "execution_count": 10,
   "metadata": {
    "_kg_hide-output": true,
    "execution": {
     "iopub.execute_input": "2021-09-21T06:50:33.793654Z",
     "iopub.status.busy": "2021-09-21T06:50:33.793409Z",
     "iopub.status.idle": "2021-09-21T07:32:47.116245Z",
     "shell.execute_reply": "2021-09-21T07:32:47.115524Z",
     "shell.execute_reply.started": "2021-09-21T06:50:33.793621Z"
    }
   },
   "outputs": [
    {
     "name": "stdout",
     "output_type": "stream",
     "text": [
      "Epoch 1/50\n",
      "128/128 [==============================] - 214s 2s/step - loss: 0.6661 - binary_accuracy: 0.6489 - val_loss: 0.6153 - val_binary_accuracy: 0.7292 - lr: 3.0000e-05\n",
      "Epoch 2/50\n",
      "128/128 [==============================] - 220s 2s/step - loss: 0.4854 - binary_accuracy: 0.7641 - val_loss: 0.8824 - val_binary_accuracy: 0.7292 - lr: 3.0000e-05\n",
      "Epoch 3/50\n",
      "129/128 [==============================] - ETA: -2s - loss: 0.4018 - binary_accuracy: 0.8258\n",
      "Epoch 3: ReduceLROnPlateau reducing learning rate to 1e-05.\n",
      "128/128 [==============================] - 422s 3s/step - loss: 0.4018 - binary_accuracy: 0.8258 - val_loss: 1.0774 - val_binary_accuracy: 0.7292 - lr: 3.0000e-05\n",
      "Epoch 4/50\n",
      "128/128 [==============================] - 362s 3s/step - loss: 0.3491 - binary_accuracy: 0.8512 - val_loss: 0.9154 - val_binary_accuracy: 0.7292 - lr: 1.0000e-05\n",
      "Epoch 5/50\n",
      "128/128 [==============================] - 346s 3s/step - loss: 0.3317 - binary_accuracy: 0.8639 - val_loss: 0.4458 - val_binary_accuracy: 0.7804 - lr: 1.0000e-05\n",
      "Epoch 6/50\n",
      "128/128 [==============================] - 370s 3s/step - loss: 0.3179 - binary_accuracy: 0.8746 - val_loss: 0.2095 - val_binary_accuracy: 0.9204 - lr: 1.0000e-05\n",
      "Epoch 7/50\n",
      "128/128 [==============================] - 378s 3s/step - loss: 0.3185 - binary_accuracy: 0.8714 - val_loss: 0.2220 - val_binary_accuracy: 0.9067 - lr: 1.0000e-05\n",
      "Epoch 8/50\n",
      "128/128 [==============================] - 380s 3s/step - loss: 0.3046 - binary_accuracy: 0.8739 - val_loss: 0.2293 - val_binary_accuracy: 0.9033 - lr: 1.0000e-05\n",
      "Epoch 9/50\n",
      "128/128 [==============================] - 377s 3s/step - loss: 0.2945 - binary_accuracy: 0.8827 - val_loss: 0.2191 - val_binary_accuracy: 0.9090 - lr: 1.0000e-05\n",
      "Epoch 10/50\n",
      "128/128 [==============================] - 386s 3s/step - loss: 0.2914 - binary_accuracy: 0.8790 - val_loss: 0.2608 - val_binary_accuracy: 0.8851 - lr: 1.0000e-05\n",
      "Epoch 11/50\n",
      "128/128 [==============================] - 376s 3s/step - loss: 0.2946 - binary_accuracy: 0.8802 - val_loss: 0.2234 - val_binary_accuracy: 0.9056 - lr: 1.0000e-05\n"
     ]
    }
   ],
   "source": [
    "history = model.fit(ds_train,\n",
    "          batch_size = BATCH, epochs = 50,\n",
    "          validation_data=ds_val,\n",
    "          class_weight=class_weight,\n",
    "          callbacks=[early_stopping, plateau],\n",
    "          steps_per_epoch=(len(train_df)/BATCH),\n",
    "          validation_steps=(len(val_df)/BATCH));\n"
   ]
  },
  {
   "cell_type": "markdown",
   "metadata": {},
   "source": [
    "## Measuring the accuracy of the CNN Network"
   ]
  },
  {
   "cell_type": "code",
   "execution_count": 11,
   "metadata": {
    "_kg_hide-input": true,
    "execution": {
     "iopub.execute_input": "2021-09-21T07:32:47.118055Z",
     "iopub.status.busy": "2021-09-21T07:32:47.117796Z",
     "iopub.status.idle": "2021-09-21T07:32:47.380527Z",
     "shell.execute_reply": "2021-09-21T07:32:47.379875Z",
     "shell.execute_reply.started": "2021-09-21T07:32:47.118023Z"
    }
   },
   "outputs": [
    {
     "data": {
      "image/png": "[encoded data removed]",
      "text/plain": [
       "<Figure size 1152x504 with 2 Axes>"
      ]
     },
     "metadata": {
      "needs_background": "light"
     },
     "output_type": "display_data"
    }
   ],
   "source": [
    "fig, (ax1, ax2) = plt.subplots(1,2,figsize=(16,7))\n",
    "sns.lineplot(x = history.epoch, y = history.history['loss'], ax=ax1)\n",
    "sns.lineplot(x = history.epoch, y = history.history['val_loss'], ax=ax1)\n",
    "ax1.set_title('Learning Curve (Loss)')\n",
    "ax1.set_ylabel('Loss')\n",
    "ax1.set_xlabel('Epoch')\n",
    "ax1.set_ylim(0, 1)\n",
    "ax1.legend(['train', 'val'], loc='best')\n",
    "#\n",
    "sns.lineplot(x = history.epoch, y = history.history['binary_accuracy'], ax=ax2)\n",
    "sns.lineplot(x = history.epoch, y = history.history['val_binary_accuracy'], ax=ax2)\n",
    "ax2.set_title('Learning Curve (Accuracy)')\n",
    "ax2.set_ylabel('Accuracy')\n",
    "ax2.set_xlabel('Epoch')\n",
    "ax2.set_ylim(0.80, 1.0)\n",
    "ax2.legend(['train', 'val'], loc='best')\n",
    "plt.show()"
   ]
  },
  {
   "cell_type": "code",
   "execution_count": 12,
   "metadata": {
    "execution": {
     "iopub.execute_input": "2021-09-21T07:32:47.651965Z",
     "iopub.status.busy": "2021-09-21T07:32:47.651686Z",
     "iopub.status.idle": "2021-09-21T07:32:59.539926Z",
     "shell.execute_reply": "2021-09-21T07:32:59.539200Z",
     "shell.execute_reply.started": "2021-09-21T07:32:47.651932Z"
    }
   },
   "outputs": [
    {
     "name": "stdout",
     "output_type": "stream",
     "text": [
      "Val loss: 0.20949001610279083\n",
      "Val accuracy: 0.9203640222549438\n"
     ]
    }
   ],
   "source": [
    "score = model.evaluate(ds_val, steps = len(val_df)/BATCH, verbose = 0)\n",
    "print('Val loss:', score[0])\n",
    "print('Val accuracy:', score[1])"
   ]
  },
  {
   "cell_type": "code",
   "execution_count": 13,
   "metadata": {
    "_kg_hide-input": false,
    "execution": {
     "iopub.execute_input": "2021-09-21T07:32:59.541808Z",
     "iopub.status.busy": "2021-09-21T07:32:59.541306Z",
     "iopub.status.idle": "2021-09-21T07:33:11.537571Z",
     "shell.execute_reply": "2021-09-21T07:33:11.536848Z",
     "shell.execute_reply.started": "2021-09-21T07:32:59.541759Z"
    }
   },
   "outputs": [
    {
     "name": "stdout",
     "output_type": "stream",
     "text": [
      "Test loss: 0.21394149959087372\n",
      "Test accuracy: 0.9259681105613708\n"
     ]
    }
   ],
   "source": [
    "score = model.evaluate(ds_test, verbose = 0)\n",
    "\n",
    "print('Test loss:', score[0])\n",
    "print('Test accuracy:', score[1])"
   ]
  },
  {
   "cell_type": "markdown",
   "metadata": {},
   "source": [
    "## Confusion Matrix and ROC Curve"
   ]
  },
  {
   "cell_type": "code",
   "execution_count": 14,
   "metadata": {
    "_kg_hide-input": true,
    "execution": {
     "iopub.execute_input": "2021-09-21T08:52:22.266371Z",
     "iopub.status.busy": "2021-09-21T08:52:22.264464Z",
     "iopub.status.idle": "2021-09-21T08:52:22.275386Z",
     "shell.execute_reply": "2021-09-21T08:52:22.274556Z",
     "shell.execute_reply.started": "2021-09-21T08:52:22.266332Z"
    }
   },
   "outputs": [],
   "source": [
    "num_label = {'Normal': 0, 'Pneumonia' : 1}\n",
    "Y_test = df_test['class'].copy().map(num_label).astype('int')"
   ]
  },
  {
   "cell_type": "code",
   "execution_count": 15,
   "metadata": {
    "execution": {
     "iopub.execute_input": "2021-09-21T08:52:22.280022Z",
     "iopub.status.busy": "2021-09-21T08:52:22.278653Z",
     "iopub.status.idle": "2021-09-21T08:52:40.368433Z",
     "shell.execute_reply": "2021-09-21T08:52:40.367682Z",
     "shell.execute_reply.started": "2021-09-21T08:52:22.279987Z"
    }
   },
   "outputs": [],
   "source": [
    "ds_test.reset()\n",
    "predictions = model.predict(ds_test, steps=len(ds_test), verbose=0)\n",
    "pred_labels= np.where(predictions>0.5, 1, 0)"
   ]
  },
  {
   "cell_type": "code",
   "execution_count": 16,
   "metadata": {
    "execution": {
     "iopub.execute_input": "2021-09-21T08:52:40.369810Z",
     "iopub.status.busy": "2021-09-21T08:52:40.369536Z",
     "iopub.status.idle": "2021-09-21T08:52:40.379306Z",
     "shell.execute_reply": "2021-09-21T08:52:40.378505Z",
     "shell.execute_reply.started": "2021-09-21T08:52:40.369769Z"
    }
   },
   "outputs": [
    {
     "name": "stdout",
     "output_type": "stream",
     "text": [
      "Test Accuracy:  0.9259681093394078\n"
     ]
    }
   ],
   "source": [
    "print(\"Test Accuracy: \", accuracy_score(Y_test, pred_labels))"
   ]
  },
  {
   "cell_type": "code",
   "execution_count": 17,
   "metadata": {
    "_kg_hide-input": true,
    "_kg_hide-output": false,
    "execution": {
     "iopub.execute_input": "2021-09-21T08:52:40.382218Z",
     "iopub.status.busy": "2021-09-21T08:52:40.382026Z",
     "iopub.status.idle": "2021-09-21T08:52:40.596093Z",
     "shell.execute_reply": "2021-09-21T08:52:40.595419Z",
     "shell.execute_reply.started": "2021-09-21T08:52:40.382196Z"
    }
   },
   "outputs": [
    {
     "data": {
      "image/png": "[encoded data removed]",
      "text/plain": [
       "<Figure size 432x288 with 2 Axes>"
      ]
     },
     "metadata": {
      "needs_background": "light"
     },
     "output_type": "display_data"
    }
   ],
   "source": [
    "confusion_matrix = metrics.confusion_matrix(Y_test, pred_labels)\n",
    "sns.heatmap(confusion_matrix, annot=True, fmt=\"d\")\n",
    "\n",
    "plt.xlabel(\"Predicted Label\", fontsize= 12)\n",
    "plt.ylabel(\"True Label\", fontsize= 12)\n",
    "\n",
    "plt.show()"
   ]
  },
  {
   "cell_type": "code",
   "execution_count": 18,
   "metadata": {
    "_kg_hide-input": true,
    "execution": {
     "iopub.execute_input": "2021-09-21T08:52:40.597617Z",
     "iopub.status.busy": "2021-09-21T08:52:40.597366Z",
     "iopub.status.idle": "2021-09-21T08:52:40.608447Z",
     "shell.execute_reply": "2021-09-21T08:52:40.607586Z",
     "shell.execute_reply.started": "2021-09-21T08:52:40.597583Z"
    }
   },
   "outputs": [
    {
     "name": "stdout",
     "output_type": "stream",
     "text": [
      "              precision    recall  f1-score   support\n",
      "\n",
      "           0       0.86      0.86      0.86       237\n",
      "           1       0.95      0.95      0.95       641\n",
      "\n",
      "    accuracy                           0.93       878\n",
      "   macro avg       0.91      0.91      0.91       878\n",
      "weighted avg       0.93      0.93      0.93       878\n",
      "\n"
     ]
    }
   ],
   "source": [
    "print(metrics.classification_report(Y_test, pred_labels, labels = [0, 1]))"
   ]
  },
  {
   "cell_type": "code",
   "execution_count": 19,
   "metadata": {
    "_kg_hide-input": true,
    "execution": {
     "iopub.execute_input": "2021-09-21T08:52:40.610070Z",
     "iopub.status.busy": "2021-09-21T08:52:40.609803Z",
     "iopub.status.idle": "2021-09-21T08:52:40.798635Z",
     "shell.execute_reply": "2021-09-21T08:52:40.797989Z",
     "shell.execute_reply.started": "2021-09-21T08:52:40.610036Z"
    }
   },
   "outputs": [
    {
     "name": "stdout",
     "output_type": "stream",
     "text": [
      "ROC_AUC:  0.9624992594640494\n"
     ]
    },
    {
     "data": {
      "image/png": "[encoded data removed]",
      "text/plain": [
       "<Figure size 432x288 with 1 Axes>"
      ]
     },
     "metadata": {
      "needs_background": "light"
     },
     "output_type": "display_data"
    }
   ],
   "source": [
    "roc_auc = metrics.roc_auc_score(Y_test, predictions)\n",
    "print('ROC_AUC: ', roc_auc)\n",
    "\n",
    "fpr, tpr, thresholds = metrics.roc_curve(Y_test, predictions)\n",
    "\n",
    "plt.plot(fpr, tpr, label = 'ROC_AUC = %0.3f' % roc_auc)\n",
    "\n",
    "plt.xlabel(\"False Positive Rate\", fontsize= 12)\n",
    "plt.ylabel(\"True Positive Rate\", fontsize= 12)\n",
    "plt.legend(loc=\"lower right\")\n",
    "\n",
    "plt.show()"
   ]
  },
  {
   "cell_type": "code",
   "execution_count": 20,
   "metadata": {},
   "outputs": [],
   "source": [
    "#EOF"
   ]
  }
 ],
 "metadata": {
  "kernelspec": {
   "display_name": "DL",
   "language": "python",
   "name": "dl"
  },
  "language_info": {
   "codemirror_mode": {
    "name": "ipython",
    "version": 3
   },
   "file_extension": ".py",
   "mimetype": "text/x-python",
   "name": "python",
   "nbconvert_exporter": "python",
   "pygments_lexer": "ipython3",
   "version": "3.8.12"
  }
 },
 "nbformat": 4,
 "nbformat_minor": 4
}
