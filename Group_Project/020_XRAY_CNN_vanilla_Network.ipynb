{
 "cells": [
  {
   "cell_type": "markdown",
   "metadata": {},
   "source": [
    "# Chest X-Ray (Pneumonia): CNN Network \n",
    "\n",
    "Baseline CNN Network\n",
    "\n",
    "We develop a CNN Network with four CNN layers structured in three blocks \\\n",
    "The dataset is split in three files, Train, Test and Validation \\\n",
    "The Validation dataset is too small, for this reason we modify the approach \\\n",
    "We use 80% of train for training \\\n",
    "20% of train for validation (training the network) \\\n",
    "We use the test dataset for Testing the network to obtain the final result \\\n",
    "\\\n"
   ]
  },
  {
   "cell_type": "code",
   "execution_count": 1,
   "metadata": {
    "execution": {
     "iopub.execute_input": "2021-09-21T06:50:25.577006Z",
     "iopub.status.busy": "2021-09-21T06:50:25.576634Z",
     "iopub.status.idle": "2021-09-21T06:50:25.603025Z",
     "shell.execute_reply": "2021-09-21T06:50:25.602053Z",
     "shell.execute_reply.started": "2021-09-21T06:50:25.576967Z"
    }
   },
   "outputs": [],
   "source": [
    "import pandas as pd       \n",
    "import matplotlib as mat\n",
    "import matplotlib.pyplot as plt    \n",
    "import numpy as np\n",
    "import seaborn as sns\n",
    "%matplotlib inline\n",
    "\n",
    "pd.options.display.max_colwidth = 100\n",
    "\n",
    "import random\n",
    "import os\n",
    "os.environ['TF_CPP_MIN_LOG_LEVEL'] = '2' # to avoid warning messages\n",
    "\n",
    "from numpy.random import seed\n",
    "seed(42)\n",
    "\n",
    "random.seed(42)\n",
    "os.environ['PYTHONHASHSEED'] = str(42)\n",
    "os.environ['TF_DETERMINISTIC_OPS'] = '1'\n",
    "\n",
    "from sklearn.model_selection import train_test_split\n",
    "from sklearn import metrics\n",
    "from sklearn.metrics import accuracy_score\n",
    "\n",
    "import tensorflow as tf\n",
    "from tensorflow import keras\n",
    "from tensorflow.keras import layers\n",
    "from tensorflow.keras import callbacks\n",
    "from tensorflow.keras.models import Model\n",
    "from tensorflow.keras.preprocessing.image import ImageDataGenerator\n",
    "\n",
    "import glob\n",
    "import cv2\n",
    "\n",
    "from tensorflow.random import set_seed\n",
    "set_seed(42)\n",
    "\n",
    "import warnings\n",
    "warnings.filterwarnings('ignore')"
   ]
  },
  {
   "cell_type": "code",
   "execution_count": 2,
   "metadata": {
    "execution": {
     "iopub.execute_input": "2021-09-21T06:50:25.605966Z",
     "iopub.status.busy": "2021-09-21T06:50:25.605399Z",
     "iopub.status.idle": "2021-09-21T06:50:25.611930Z",
     "shell.execute_reply": "2021-09-21T06:50:25.611215Z",
     "shell.execute_reply.started": "2021-09-21T06:50:25.605929Z"
    }
   },
   "outputs": [],
   "source": [
    "IMG_SIZE = 224\n",
    "BATCH = 32\n",
    "SEED = 42\n",
    "main_path = \"./chest_xray_data/\""
   ]
  },
  {
   "cell_type": "code",
   "execution_count": 3,
   "metadata": {
    "execution": {
     "iopub.execute_input": "2021-09-21T06:50:25.616438Z",
     "iopub.status.busy": "2021-09-21T06:50:25.614268Z",
     "iopub.status.idle": "2021-09-21T06:50:25.649779Z",
     "shell.execute_reply": "2021-09-21T06:50:25.649140Z",
     "shell.execute_reply.started": "2021-09-21T06:50:25.616404Z"
    }
   },
   "outputs": [],
   "source": [
    "# folder structure \n",
    "#Notebook folder\n",
    "#    !------ chest_xray_data\n",
    "#                  !-------------train\n",
    "#                          !-------------normal\n",
    "#                          !-------------pneumonia\n",
    "#                  !-------------test\n",
    "#                          !-------------normal\n",
    "#                          !-------------pneumonia\n",
    "#                  !-------------val\n",
    "#                          !-------------normal\n",
    "#                          !-------------pneumonia\n",
    "\n",
    "\n",
    "train_path = os.path.join(main_path,\"TRAIN\")\n",
    "test_path = os.path.join(main_path,\"TEST\")\n",
    "val_path  = os.path.join(main_path,\"VALIDATION\")\n",
    "\n",
    "train_normal = glob.glob(train_path+\"/NORMAL/*.jpeg\")\n",
    "train_pneumonia = glob.glob(train_path+\"/PNEUMONIA/*.jpeg\")\n",
    "\n",
    "test_normal = glob.glob(test_path+\"/NORMAL/*.jpeg\")\n",
    "test_pneumonia = glob.glob(test_path+\"/PNEUMONIA/*.jpeg\")\n",
    "\n",
    "val_normal = glob.glob(val_path+\"/NORMAL/*.jpeg\")\n",
    "val_pneumonia = glob.glob(val_path+\"/PNEUMONIA/*.jpeg\")"
   ]
  },
  {
   "cell_type": "code",
   "execution_count": 4,
   "metadata": {
    "execution": {
     "iopub.execute_input": "2021-09-21T06:50:25.651296Z",
     "iopub.status.busy": "2021-09-21T06:50:25.651010Z",
     "iopub.status.idle": "2021-09-21T06:50:25.667932Z",
     "shell.execute_reply": "2021-09-21T06:50:25.667042Z",
     "shell.execute_reply.started": "2021-09-21T06:50:25.651262Z"
    }
   },
   "outputs": [
    {
     "name": "stdout",
     "output_type": "stream",
     "text": [
      "shapes. Train:  (4099, 2) val :  (879, 2) test :  (878, 2)\n"
     ]
    }
   ],
   "source": [
    "train_list = [x for x in train_normal]\n",
    "train_list.extend([x for x in train_pneumonia])\n",
    "\n",
    "df_train = pd.DataFrame(np.concatenate([['Normal']*len(train_normal) , ['Pneumonia']*len(train_pneumonia)]), \n",
    "                        columns = ['class'])\n",
    "df_train['image'] = [x for x in train_list]\n",
    "\n",
    "test_list = [x for x in test_normal]\n",
    "test_list.extend([x for x in test_pneumonia])\n",
    "\n",
    "df_test = pd.DataFrame(np.concatenate([['Normal']*len(test_normal) , ['Pneumonia']*len(test_pneumonia)]), \n",
    "                       columns = ['class'])\n",
    "df_test['image'] = [x for x in test_list]\n",
    "\n",
    "val_list = [x for x in val_normal]\n",
    "val_list.extend([x for x in val_pneumonia])\n",
    "\n",
    "df_val = pd.DataFrame(np.concatenate([['Normal']*len(val_normal) , ['Pneumonia']*len(val_pneumonia)]), \n",
    "                      columns = ['class'])\n",
    "df_val['image'] = [x for x in val_list]\n",
    "\n",
    "train_df = df_train\n",
    "test_df = df_test\n",
    "val_df = df_val\n",
    "print ('shapes. Train: ',train_df.shape, 'val : ', val_df.shape, 'test : ',test_df.shape)"
   ]
  },
  {
   "cell_type": "markdown",
   "metadata": {},
   "source": [
    "### Data Preparation\n",
    "The validation set has too few images, we change the structure of the datasets, we will use 80% of df_train for training, 20% of df_training for validation and df_test to verify the final result"
   ]
  },
  {
   "cell_type": "markdown",
   "metadata": {},
   "source": [
    "Now, we’re going to load the images from the folders and prepare them to feed our models. \n",
    "\n",
    "We begin by defining the data generators. With Keras Image Data Generator, we can rescale the pixel values and apply random transformation techniques for data augmentation on the fly. We define two different generators. The val_datagen is used to simply rescale the validation and test sets. The train_datagen includes some transformations to augment the train set.\n",
    "\n",
    "We apply those generators on each dataset using the flow_from_dataframe method. Apart from the transformations defined in each generator, the images are also resized based on the target_size set."
   ]
  },
  {
   "cell_type": "code",
   "execution_count": 5,
   "metadata": {
    "execution": {
     "iopub.execute_input": "2021-09-21T06:50:31.175831Z",
     "iopub.status.busy": "2021-09-21T06:50:31.172013Z",
     "iopub.status.idle": "2021-09-21T06:50:33.658002Z",
     "shell.execute_reply": "2021-09-21T06:50:33.657320Z",
     "shell.execute_reply.started": "2021-09-21T06:50:31.175748Z"
    }
   },
   "outputs": [
    {
     "name": "stdout",
     "output_type": "stream",
     "text": [
      "shapes. Train:  (4099, 2) val :  (879, 2) test :  (878, 2)\n",
      "Found 4099 validated image filenames belonging to 2 classes.\n",
      "Found 879 validated image filenames belonging to 2 classes.\n",
      "Found 878 validated image filenames belonging to 2 classes.\n"
     ]
    }
   ],
   "source": [
    "print ('shapes. Train: ',train_df.shape, 'val : ', val_df.shape, 'test : ',df_test.shape)\n",
    "# https://vijayabhaskar96.medium.com/tutorial-on-keras-flow-from-dataframe-1fd4493d237c\n",
    "\n",
    "train_datagen = ImageDataGenerator(rescale=1/255.,\n",
    "                                  zoom_range = 0.1,\n",
    "                                  #rotation_range = 0.1,\n",
    "                                  width_shift_range = 0.1,\n",
    "                                  height_shift_range = 0.1)\n",
    "\n",
    "val_datagen = ImageDataGenerator(rescale=1/255.)\n",
    "\n",
    "ds_train = train_datagen.flow_from_dataframe(train_df,\n",
    "                                             #directory=train_path, #dataframe contains the full paths\n",
    "                                             x_col = 'image',\n",
    "                                             y_col = 'class',\n",
    "                                             target_size = (IMG_SIZE, IMG_SIZE),\n",
    "                                             class_mode = 'binary',\n",
    "                                             batch_size = BATCH,\n",
    "                                             seed = SEED)\n",
    "\n",
    "ds_val = val_datagen.flow_from_dataframe(val_df,\n",
    "                                            #directory=train_path,\n",
    "                                            x_col = 'image',\n",
    "                                            y_col = 'class',\n",
    "                                            target_size = (IMG_SIZE, IMG_SIZE),\n",
    "                                            class_mode = 'binary',\n",
    "                                            batch_size = BATCH,\n",
    "                                            seed = SEED)\n",
    "\n",
    "ds_test = val_datagen.flow_from_dataframe(test_df,\n",
    "                                            #directory=test_path,\n",
    "                                            x_col = 'image',\n",
    "                                            y_col = 'class',\n",
    "                                            target_size = (IMG_SIZE, IMG_SIZE),\n",
    "                                            class_mode = 'binary',\n",
    "                                            batch_size = 1,\n",
    "                                            shuffle = False)"
   ]
  },
  {
   "cell_type": "code",
   "execution_count": 6,
   "metadata": {},
   "outputs": [
    {
     "name": "stdout",
     "output_type": "stream",
     "text": [
      "Shape of one element of the iterator (1, 224, 224, 3) (1,)\n"
     ]
    }
   ],
   "source": [
    "import itertools\n",
    "one_item = list(itertools.islice(ds_test,1))\n",
    "a = one_item[0]\n",
    "print('Shape of one element of the iterator', a[0].shape, a[1].shape)"
   ]
  },
  {
   "cell_type": "markdown",
   "metadata": {},
   "source": [
    "### CNN Network and Training\n",
    "We define a convolutional network\n",
    "Let’s define our first model ‘from scratch’ and see how it performs. This is a very simple model with only 3 convolutional layers, without any normalization or maxpooling layer"
   ]
  },
  {
   "cell_type": "code",
   "execution_count": 7,
   "metadata": {
    "execution": {
     "iopub.execute_input": "2021-09-21T06:50:33.667482Z",
     "iopub.status.busy": "2021-09-21T06:50:33.667099Z",
     "iopub.status.idle": "2021-09-21T06:50:33.679963Z",
     "shell.execute_reply": "2021-09-21T06:50:33.679207Z",
     "shell.execute_reply.started": "2021-09-21T06:50:33.667445Z"
    }
   },
   "outputs": [],
   "source": [
    "def get_model():\n",
    "    \n",
    "    # CNN Layers\n",
    "    \n",
    "    #Input shape = [width, height, color channels]\n",
    "    inputs = layers.Input(shape=(IMG_SIZE, IMG_SIZE, 3))\n",
    "    \n",
    "    x = layers.Conv2D(filters=32, kernel_size=3, padding='valid')(inputs)\n",
    "    x = layers.Activation('relu')(x)\n",
    "    x = layers.Conv2D(filters=16, kernel_size=3, padding='valid')(x)\n",
    "    x = layers.Activation('relu')(x)\n",
    "    x = layers.Conv2D(filters=16, kernel_size=3, padding='valid')(x)  \n",
    "    x = layers.Activation('relu')(x)\n",
    "    \n",
    "    # MLP - Classification layers\n",
    "    \n",
    "    x = layers.Flatten()(x)\n",
    "    x = layers.Dense(64, activation='relu')(x)\n",
    "    x = layers.Dropout(0.5)(x)\n",
    "    \n",
    "    #Final Layer (Output)\n",
    "    output = layers.Dense(1, activation='sigmoid')(x)\n",
    "    \n",
    "    model = keras.Model(inputs=[inputs], outputs=output)\n",
    "    \n",
    "    return model"
   ]
  },
  {
   "cell_type": "code",
   "execution_count": 8,
   "metadata": {
    "execution": {
     "iopub.execute_input": "2021-09-21T06:50:33.681512Z",
     "iopub.status.busy": "2021-09-21T06:50:33.681083Z",
     "iopub.status.idle": "2021-09-21T06:50:33.792110Z",
     "shell.execute_reply": "2021-09-21T06:50:33.790855Z",
     "shell.execute_reply.started": "2021-09-21T06:50:33.681477Z"
    }
   },
   "outputs": [
    {
     "name": "stdout",
     "output_type": "stream",
     "text": [
      "Model: \"model\"\n",
      "_________________________________________________________________\n",
      " Layer (type)                Output Shape              Param #   \n",
      "=================================================================\n",
      " input_1 (InputLayer)        [(None, 224, 224, 3)]     0         \n",
      "                                                                 \n",
      " conv2d (Conv2D)             (None, 222, 222, 32)      896       \n",
      "                                                                 \n",
      " activation (Activation)     (None, 222, 222, 32)      0         \n",
      "                                                                 \n",
      " conv2d_1 (Conv2D)           (None, 220, 220, 16)      4624      \n",
      "                                                                 \n",
      " activation_1 (Activation)   (None, 220, 220, 16)      0         \n",
      "                                                                 \n",
      " conv2d_2 (Conv2D)           (None, 218, 218, 16)      2320      \n",
      "                                                                 \n",
      " activation_2 (Activation)   (None, 218, 218, 16)      0         \n",
      "                                                                 \n",
      " flatten (Flatten)           (None, 760384)            0         \n",
      "                                                                 \n",
      " dense (Dense)               (None, 64)                48664640  \n",
      "                                                                 \n",
      " dropout (Dropout)           (None, 64)                0         \n",
      "                                                                 \n",
      " dense_1 (Dense)             (None, 1)                 65        \n",
      "                                                                 \n",
      "=================================================================\n",
      "Total params: 48,672,545\n",
      "Trainable params: 48,672,545\n",
      "Non-trainable params: 0\n",
      "_________________________________________________________________\n"
     ]
    }
   ],
   "source": [
    "keras.backend.clear_session()\n",
    "\n",
    "model = get_model()\n",
    "model.compile(loss='binary_crossentropy'\n",
    "              , optimizer = keras.optimizers.Adam(learning_rate=0.00003), metrics='binary_accuracy')\n",
    "\n",
    "model.summary()"
   ]
  },
  {
   "cell_type": "code",
   "execution_count": 9,
   "metadata": {
    "_kg_hide-output": true,
    "execution": {
     "iopub.execute_input": "2021-09-21T06:50:33.793654Z",
     "iopub.status.busy": "2021-09-21T06:50:33.793409Z",
     "iopub.status.idle": "2021-09-21T07:32:47.116245Z",
     "shell.execute_reply": "2021-09-21T07:32:47.115524Z",
     "shell.execute_reply.started": "2021-09-21T06:50:33.793621Z"
    }
   },
   "outputs": [
    {
     "name": "stdout",
     "output_type": "stream",
     "text": [
      "Epoch 1/50\n",
      "128/128 [==============================] - 570s 4s/step - loss: 0.5740 - binary_accuracy: 0.7251 - val_loss: 0.5899 - val_binary_accuracy: 0.8646\n",
      "Epoch 2/50\n",
      "128/128 [==============================] - 488s 4s/step - loss: 0.4954 - binary_accuracy: 0.7626 - val_loss: 0.4028 - val_binary_accuracy: 0.8805\n",
      "Epoch 3/50\n",
      "128/128 [==============================] - 451s 4s/step - loss: 0.4148 - binary_accuracy: 0.7975 - val_loss: 0.3429 - val_binary_accuracy: 0.8999\n",
      "Epoch 4/50\n",
      "128/128 [==============================] - 463s 4s/step - loss: 0.3741 - binary_accuracy: 0.8014 - val_loss: 0.2845 - val_binary_accuracy: 0.9101\n",
      "Epoch 5/50\n",
      "128/128 [==============================] - 467s 4s/step - loss: 0.3495 - binary_accuracy: 0.8009 - val_loss: 0.2493 - val_binary_accuracy: 0.9192\n",
      "Epoch 6/50\n",
      "128/128 [==============================] - 462s 4s/step - loss: 0.3255 - binary_accuracy: 0.8139 - val_loss: 0.3129 - val_binary_accuracy: 0.8771\n",
      "Epoch 7/50\n",
      "128/128 [==============================] - 471s 4s/step - loss: 0.3145 - binary_accuracy: 0.8580 - val_loss: 0.3102 - val_binary_accuracy: 0.8760\n",
      "Epoch 8/50\n",
      "128/128 [==============================] - 472s 4s/step - loss: 0.3100 - binary_accuracy: 0.8668 - val_loss: 0.3285 - val_binary_accuracy: 0.8714\n",
      "Epoch 9/50\n",
      "128/128 [==============================] - 472s 4s/step - loss: 0.2951 - binary_accuracy: 0.8707 - val_loss: 0.2517 - val_binary_accuracy: 0.8999\n",
      "Epoch 10/50\n",
      "128/128 [==============================] - 364s 3s/step - loss: 0.2903 - binary_accuracy: 0.8897 - val_loss: 0.2283 - val_binary_accuracy: 0.9090\n",
      "Epoch 11/50\n",
      "128/128 [==============================] - 335s 3s/step - loss: 0.2888 - binary_accuracy: 0.8809 - val_loss: 0.2205 - val_binary_accuracy: 0.9329\n",
      "Epoch 12/50\n",
      "128/128 [==============================] - 334s 3s/step - loss: 0.2864 - binary_accuracy: 0.8919 - val_loss: 0.2199 - val_binary_accuracy: 0.9272\n",
      "Epoch 13/50\n",
      "128/128 [==============================] - 335s 3s/step - loss: 0.2856 - binary_accuracy: 0.8931 - val_loss: 0.2291 - val_binary_accuracy: 0.9090\n",
      "Epoch 14/50\n",
      "128/128 [==============================] - 333s 3s/step - loss: 0.2655 - binary_accuracy: 0.9019 - val_loss: 0.2462 - val_binary_accuracy: 0.9113\n",
      "Epoch 15/50\n",
      "128/128 [==============================] - 332s 3s/step - loss: 0.2655 - binary_accuracy: 0.9031 - val_loss: 0.2552 - val_binary_accuracy: 0.8851\n",
      "Epoch 16/50\n",
      "128/128 [==============================] - 332s 3s/step - loss: 0.2745 - binary_accuracy: 0.8966 - val_loss: 0.1988 - val_binary_accuracy: 0.9204\n",
      "Epoch 17/50\n",
      "128/128 [==============================] - 332s 3s/step - loss: 0.2609 - binary_accuracy: 0.9092 - val_loss: 0.2071 - val_binary_accuracy: 0.9101\n",
      "Epoch 18/50\n",
      "128/128 [==============================] - 332s 3s/step - loss: 0.2759 - binary_accuracy: 0.9066 - val_loss: 0.2501 - val_binary_accuracy: 0.8874\n",
      "Epoch 19/50\n",
      "128/128 [==============================] - 333s 3s/step - loss: 0.2689 - binary_accuracy: 0.9024 - val_loss: 0.2849 - val_binary_accuracy: 0.8623\n",
      "Epoch 20/50\n",
      "128/128 [==============================] - 331s 3s/step - loss: 0.2510 - binary_accuracy: 0.9102 - val_loss: 0.2134 - val_binary_accuracy: 0.8999\n",
      "Epoch 21/50\n",
      "128/128 [==============================] - 332s 3s/step - loss: 0.2616 - binary_accuracy: 0.9044 - val_loss: 0.2203 - val_binary_accuracy: 0.8987\n",
      "Epoch 22/50\n",
      "128/128 [==============================] - 332s 3s/step - loss: 0.2577 - binary_accuracy: 0.9107 - val_loss: 0.2030 - val_binary_accuracy: 0.9170\n",
      "Epoch 23/50\n",
      "128/128 [==============================] - 332s 3s/step - loss: 0.2551 - binary_accuracy: 0.9136 - val_loss: 0.2475 - val_binary_accuracy: 0.8874\n",
      "Epoch 24/50\n",
      "128/128 [==============================] - 332s 3s/step - loss: 0.2475 - binary_accuracy: 0.9163 - val_loss: 0.2580 - val_binary_accuracy: 0.8862\n",
      "Epoch 25/50\n",
      "128/128 [==============================] - 332s 3s/step - loss: 0.2521 - binary_accuracy: 0.9183 - val_loss: 0.2479 - val_binary_accuracy: 0.8817\n",
      "Epoch 26/50\n",
      "128/128 [==============================] - 332s 3s/step - loss: 0.2645 - binary_accuracy: 0.9083 - val_loss: 0.2356 - val_binary_accuracy: 0.8896\n",
      "Epoch 27/50\n",
      "128/128 [==============================] - 331s 3s/step - loss: 0.2532 - binary_accuracy: 0.9144 - val_loss: 0.2210 - val_binary_accuracy: 0.9010\n",
      "Epoch 28/50\n",
      "128/128 [==============================] - 331s 3s/step - loss: 0.2471 - binary_accuracy: 0.9156 - val_loss: 0.2010 - val_binary_accuracy: 0.9135\n",
      "Epoch 29/50\n",
      "128/128 [==============================] - 332s 3s/step - loss: 0.2457 - binary_accuracy: 0.9178 - val_loss: 0.2084 - val_binary_accuracy: 0.9124\n",
      "Epoch 30/50\n",
      "128/128 [==============================] - 331s 3s/step - loss: 0.2506 - binary_accuracy: 0.9156 - val_loss: 0.2121 - val_binary_accuracy: 0.9056\n",
      "Epoch 31/50\n",
      "128/128 [==============================] - 331s 3s/step - loss: 0.2523 - binary_accuracy: 0.9107 - val_loss: 0.2577 - val_binary_accuracy: 0.8726\n",
      "Epoch 32/50\n",
      "128/128 [==============================] - 330s 3s/step - loss: 0.2386 - binary_accuracy: 0.9214 - val_loss: 0.1918 - val_binary_accuracy: 0.9352\n",
      "Epoch 33/50\n",
      "128/128 [==============================] - 330s 3s/step - loss: 0.2477 - binary_accuracy: 0.9273 - val_loss: 0.2243 - val_binary_accuracy: 0.8987\n",
      "Epoch 34/50\n",
      "128/128 [==============================] - 330s 3s/step - loss: 0.2455 - binary_accuracy: 0.9129 - val_loss: 0.2432 - val_binary_accuracy: 0.8862\n",
      "Epoch 35/50\n",
      "128/128 [==============================] - 330s 3s/step - loss: 0.2497 - binary_accuracy: 0.9178 - val_loss: 0.1947 - val_binary_accuracy: 0.9386\n",
      "Epoch 36/50\n",
      "128/128 [==============================] - 330s 3s/step - loss: 0.2413 - binary_accuracy: 0.9236 - val_loss: 0.1976 - val_binary_accuracy: 0.9113\n",
      "Epoch 37/50\n",
      "128/128 [==============================] - 330s 3s/step - loss: 0.2459 - binary_accuracy: 0.9227 - val_loss: 0.2192 - val_binary_accuracy: 0.9408\n",
      "Epoch 38/50\n",
      "128/128 [==============================] - 330s 3s/step - loss: 0.2438 - binary_accuracy: 0.9236 - val_loss: 0.2214 - val_binary_accuracy: 0.8942\n",
      "Epoch 39/50\n",
      "128/128 [==============================] - 331s 3s/step - loss: 0.2359 - binary_accuracy: 0.9239 - val_loss: 0.1962 - val_binary_accuracy: 0.9124\n",
      "Epoch 40/50\n",
      "128/128 [==============================] - 330s 3s/step - loss: 0.2356 - binary_accuracy: 0.9251 - val_loss: 0.1834 - val_binary_accuracy: 0.9340\n",
      "Epoch 41/50\n",
      "128/128 [==============================] - 331s 3s/step - loss: 0.2339 - binary_accuracy: 0.9224 - val_loss: 0.2149 - val_binary_accuracy: 0.9226\n",
      "Epoch 42/50\n",
      "128/128 [==============================] - 330s 3s/step - loss: 0.2556 - binary_accuracy: 0.9161 - val_loss: 0.2031 - val_binary_accuracy: 0.9113\n",
      "Epoch 43/50\n",
      "128/128 [==============================] - 332s 3s/step - loss: 0.2388 - binary_accuracy: 0.9212 - val_loss: 0.1958 - val_binary_accuracy: 0.9192\n",
      "Epoch 44/50\n",
      "128/128 [==============================] - 331s 3s/step - loss: 0.2439 - binary_accuracy: 0.9217 - val_loss: 0.1859 - val_binary_accuracy: 0.9306\n",
      "Epoch 45/50\n",
      "128/128 [==============================] - 330s 3s/step - loss: 0.2441 - binary_accuracy: 0.9188 - val_loss: 0.1938 - val_binary_accuracy: 0.9431\n",
      "Epoch 46/50\n",
      "128/128 [==============================] - 330s 3s/step - loss: 0.2430 - binary_accuracy: 0.9166 - val_loss: 0.1960 - val_binary_accuracy: 0.9215\n",
      "Epoch 47/50\n",
      "128/128 [==============================] - 330s 3s/step - loss: 0.2340 - binary_accuracy: 0.9217 - val_loss: 0.1825 - val_binary_accuracy: 0.9374\n",
      "Epoch 48/50\n",
      "128/128 [==============================] - 330s 3s/step - loss: 0.2446 - binary_accuracy: 0.9183 - val_loss: 0.2740 - val_binary_accuracy: 0.8623\n",
      "Epoch 49/50\n",
      "128/128 [==============================] - 330s 3s/step - loss: 0.2317 - binary_accuracy: 0.9263 - val_loss: 0.2510 - val_binary_accuracy: 0.8817\n",
      "Epoch 50/50\n",
      "128/128 [==============================] - 330s 3s/step - loss: 0.2368 - binary_accuracy: 0.9222 - val_loss: 0.2233 - val_binary_accuracy: 0.8919\n"
     ]
    }
   ],
   "source": [
    "history = model.fit(ds_train,\n",
    "          batch_size = BATCH, epochs = 50,\n",
    "          validation_data=ds_val,\n",
    "          steps_per_epoch=(len(train_df)/BATCH),\n",
    "          validation_steps=(len(val_df)/BATCH));"
   ]
  },
  {
   "cell_type": "markdown",
   "metadata": {},
   "source": [
    "## Measuring the accuracy of the CNN Network"
   ]
  },
  {
   "cell_type": "code",
   "execution_count": 25,
   "metadata": {
    "_kg_hide-input": true,
    "execution": {
     "iopub.execute_input": "2021-09-21T07:32:47.118055Z",
     "iopub.status.busy": "2021-09-21T07:32:47.117796Z",
     "iopub.status.idle": "2021-09-21T07:32:47.380527Z",
     "shell.execute_reply": "2021-09-21T07:32:47.379875Z",
     "shell.execute_reply.started": "2021-09-21T07:32:47.118023Z"
    }
   },
   "outputs": [
    {
     "data": {
      "image/png": "[encoded data removed]",
      "text/plain": [
       "<Figure size 1152x504 with 2 Axes>"
      ]
     },
     "metadata": {
      "needs_background": "light"
     },
     "output_type": "display_data"
    }
   ],
   "source": [
    "fig, (ax1, ax2) = plt.subplots(1,2,figsize=(16,7))\n",
    "sns.lineplot(x = history.epoch, y = history.history['loss'], ax=ax1)\n",
    "sns.lineplot(x = history.epoch, y = history.history['val_loss'], ax=ax1)\n",
    "ax1.set_title('Learning Curve (Loss)')\n",
    "ax1.set_ylabel('Loss')\n",
    "ax1.set_xlabel('Epoch')\n",
    "ax1.set_ylim(0, 1)\n",
    "ax1.legend(['train', 'val'], loc='best')\n",
    "#\n",
    "sns.lineplot(x = history.epoch, y = history.history['binary_accuracy'], ax=ax2)\n",
    "sns.lineplot(x = history.epoch, y = history.history['val_binary_accuracy'], ax=ax2)\n",
    "ax2.set_title('Learning Curve (Accuracy)')\n",
    "ax2.set_ylabel('Accuracy')\n",
    "ax2.set_xlabel('Epoch')\n",
    "ax2.set_ylim(0.80, 1.0)\n",
    "ax2.legend(['train', 'val'], loc='best')\n",
    "plt.show()"
   ]
  },
  {
   "cell_type": "code",
   "execution_count": 12,
   "metadata": {},
   "outputs": [
    {
     "name": "stdout",
     "output_type": "stream",
     "text": [
      "Val loss: 0.2233089953660965\n",
      "Val accuracy: 0.891922652721405\n"
     ]
    }
   ],
   "source": [
    "score = model.evaluate(ds_val, steps = len(val_df)/BATCH, verbose = 0)\n",
    "print('Val loss:', score[0])\n",
    "print('Val accuracy:', score[1])"
   ]
  },
  {
   "cell_type": "code",
   "execution_count": 26,
   "metadata": {
    "execution": {
     "iopub.execute_input": "2021-09-21T07:32:47.651965Z",
     "iopub.status.busy": "2021-09-21T07:32:47.651686Z",
     "iopub.status.idle": "2021-09-21T07:32:59.539926Z",
     "shell.execute_reply": "2021-09-21T07:32:59.539200Z",
     "shell.execute_reply.started": "2021-09-21T07:32:47.651932Z"
    }
   },
   "outputs": [
    {
     "name": "stdout",
     "output_type": "stream",
     "text": [
      "Test loss: 0.1965256780385971\n",
      "Test accuracy: 0.912300705909729\n"
     ]
    }
   ],
   "source": [
    "score = model.evaluate(ds_test,  verbose = 0)\n",
    "print('Test loss:', score[0])\n",
    "print('Test accuracy:', score[1])"
   ]
  },
  {
   "cell_type": "markdown",
   "metadata": {},
   "source": [
    "## Confusion Matrix and ROC Curve"
   ]
  },
  {
   "cell_type": "code",
   "execution_count": 14,
   "metadata": {},
   "outputs": [],
   "source": [
    "#for item in os.listdir(test_path):\n",
    "#    full_path = os.path.join(test_path, item)\n",
    "#    img = tf.keras.preprocessing.image.load_img(full_path, target_size=(300, 300))\n",
    "#    img_tensor = tf.keras.preprocessing.image.img_to_array(img)  # (height, width, channels)\n",
    "#    img_tensor = np.expand_dims(img_tensor, axis=0) \n",
    "#    img_tensor /= 255. \n",
    "#    pred = model.predict(img_tensor)\n",
    "#    print(pred)\n"
   ]
  },
  {
   "cell_type": "code",
   "execution_count": 15,
   "metadata": {},
   "outputs": [],
   "source": [
    "num_label = {'Normal': 0, 'Pneumonia' : 1}\n",
    "Y_test = df_test['class'].copy().map(num_label).astype('int')"
   ]
  },
  {
   "cell_type": "code",
   "execution_count": 16,
   "metadata": {},
   "outputs": [
    {
     "name": "stdout",
     "output_type": "stream",
     "text": [
      "Test Accuracy:  0.9123006833712984\n"
     ]
    }
   ],
   "source": [
    "ds_test.reset()\n",
    "predictions = model.predict(ds_test, steps=len(ds_test), verbose=0)\n",
    "pred_labels= np.where(predictions>0.5, 1, 0)\n",
    "print(\"Test Accuracy: \", accuracy_score(Y_test, pred_labels))"
   ]
  },
  {
   "cell_type": "code",
   "execution_count": 17,
   "metadata": {
    "_kg_hide-input": true,
    "_kg_hide-output": false,
    "execution": {
     "iopub.execute_input": "2021-09-21T08:52:40.382218Z",
     "iopub.status.busy": "2021-09-21T08:52:40.382026Z",
     "iopub.status.idle": "2021-09-21T08:52:40.596093Z",
     "shell.execute_reply": "2021-09-21T08:52:40.595419Z",
     "shell.execute_reply.started": "2021-09-21T08:52:40.382196Z"
    }
   },
   "outputs": [
    {
     "data": {
      "image/png": "[encoded data removed]",
      "text/plain": [
       "<Figure size 432x288 with 2 Axes>"
      ]
     },
     "metadata": {
      "needs_background": "light"
     },
     "output_type": "display_data"
    }
   ],
   "source": [
    "confusion_matrix = metrics.confusion_matrix(Y_test, pred_labels)\n",
    "sns.heatmap(confusion_matrix, annot=True, fmt=\"d\")\n",
    "\n",
    "plt.xlabel(\"Predicted Label\", fontsize= 12)\n",
    "plt.ylabel(\"True Label\", fontsize= 12)\n",
    "\n",
    "plt.show()"
   ]
  },
  {
   "cell_type": "code",
   "execution_count": 18,
   "metadata": {
    "_kg_hide-input": true,
    "execution": {
     "iopub.execute_input": "2021-09-21T08:52:40.597617Z",
     "iopub.status.busy": "2021-09-21T08:52:40.597366Z",
     "iopub.status.idle": "2021-09-21T08:52:40.608447Z",
     "shell.execute_reply": "2021-09-21T08:52:40.607586Z",
     "shell.execute_reply.started": "2021-09-21T08:52:40.597583Z"
    }
   },
   "outputs": [
    {
     "name": "stdout",
     "output_type": "stream",
     "text": [
      "              precision    recall  f1-score   support\n",
      "\n",
      "           0       0.76      0.97      0.86       237\n",
      "           1       0.99      0.89      0.94       641\n",
      "\n",
      "    accuracy                           0.91       878\n",
      "   macro avg       0.88      0.93      0.90       878\n",
      "weighted avg       0.93      0.91      0.92       878\n",
      "\n"
     ]
    }
   ],
   "source": [
    "print(metrics.classification_report(Y_test, pred_labels, labels = [0, 1]))"
   ]
  },
  {
   "cell_type": "code",
   "execution_count": 19,
   "metadata": {
    "_kg_hide-input": true,
    "execution": {
     "iopub.execute_input": "2021-09-21T08:52:40.610070Z",
     "iopub.status.busy": "2021-09-21T08:52:40.609803Z",
     "iopub.status.idle": "2021-09-21T08:52:40.798635Z",
     "shell.execute_reply": "2021-09-21T08:52:40.797989Z",
     "shell.execute_reply.started": "2021-09-21T08:52:40.610036Z"
    }
   },
   "outputs": [
    {
     "name": "stdout",
     "output_type": "stream",
     "text": [
      "ROC_AUC:  0.9851432031964822\n"
     ]
    },
    {
     "data": {
      "image/png": "[encoded data removed]",
      "text/plain": [
       "<Figure size 432x288 with 1 Axes>"
      ]
     },
     "metadata": {
      "needs_background": "light"
     },
     "output_type": "display_data"
    }
   ],
   "source": [
    "roc_auc = metrics.roc_auc_score(Y_test, predictions)\n",
    "print('ROC_AUC: ', roc_auc)\n",
    "\n",
    "fpr, tpr, thresholds = metrics.roc_curve(Y_test, predictions)\n",
    "\n",
    "plt.plot(fpr, tpr, label = 'ROC_AUC = %0.3f' % roc_auc)\n",
    "\n",
    "plt.xlabel(\"False Positive Rate\", fontsize= 12)\n",
    "plt.ylabel(\"True Positive Rate\", fontsize= 12)\n",
    "plt.legend(loc=\"lower right\")\n",
    "\n",
    "plt.show()"
   ]
  },
  {
   "cell_type": "markdown",
   "metadata": {},
   "source": [
    "Recall is quite high. Even without expertise on the medical field, it’s reasonable to assume that false negatives are more ‘costly’ than false positives in this case. Reaching such recall with a relatively small dataset for training as this one, while also reaching a pretty good recall, is a good indicative of the model’s capabilities. Such capabilities are also confirmed by the high ROC-AUC value."
   ]
  },
  {
   "cell_type": "markdown",
   "metadata": {},
   "source": [
    "# <a id=\"9\">References</a> "
   ]
  },
  {
   "cell_type": "markdown",
   "metadata": {},
   "source": [
    "- https://vijayabhaskar96.medium.com/tutorial-on-keras-flow-from-dataframe-1fd4493d237c\n",
    "- https://github.com/mrdbourke/tensorflow-deep-learning/blob/main/03_convolutional_neural_networks_in_tensorflow.ipynb\n",
    "- https://www.tensorflow.org/guide/keras/transfer_learning\n",
    "- https://www.tensorflow.org/api_docs/python/tf/keras/preprocessing/image/ImageDataGenerator\n",
    "- https://keras.io/api/applications/\n",
    "- https://keras.io/api/applications/resnet/#resnet152v2-function"
   ]
  }
 ],
 "metadata": {
  "kernelspec": {
   "display_name": "DL",
   "language": "python",
   "name": "dl"
  },
  "language_info": {
   "codemirror_mode": {
    "name": "ipython",
    "version": 3
   },
   "file_extension": ".py",
   "mimetype": "text/x-python",
   "name": "python",
   "nbconvert_exporter": "python",
   "pygments_lexer": "ipython3",
   "version": "3.8.12"
  }
 },
 "nbformat": 4,
 "nbformat_minor": 4
}
