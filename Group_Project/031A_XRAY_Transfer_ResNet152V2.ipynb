{
 "cells": [
  {
   "cell_type": "markdown",
   "metadata": {},
   "source": [
    "### Chest X-Ray (Pneumonia): Transfer Learning (a)\n",
    "\n",
    "Using Several estandard models trained on Imagenet \\\n",
    "This example uses a ResNet152V2 network + some additional layers \\\n",
    "Only the new added layers are trained, the layers from the original ResNet152V2 network are not trained \n",
    "\n",
    "Train accuracy 96% \\\n",
    "Val accuracy 96% \\\n",
    "Test accuracy 96% \\\n",
    "ROC 99%\n",
    "\n",
    "We perform two variants, one training new layers and another training the last 13 layers of the ResNet152V2 Net \\\n",
    "This notebook adds a balancing calculation in both variants \\ \n",
    "We use adaptive learning rate as well"
   ]
  },
  {
   "cell_type": "code",
   "execution_count": 1,
   "metadata": {
    "execution": {
     "iopub.execute_input": "2021-09-21T06:50:25.577006Z",
     "iopub.status.busy": "2021-09-21T06:50:25.576634Z",
     "iopub.status.idle": "2021-09-21T06:50:25.603025Z",
     "shell.execute_reply": "2021-09-21T06:50:25.602053Z",
     "shell.execute_reply.started": "2021-09-21T06:50:25.576967Z"
    }
   },
   "outputs": [],
   "source": [
    "import pandas as pd       \n",
    "import matplotlib as mat\n",
    "import matplotlib.pyplot as plt    \n",
    "import numpy as np\n",
    "import seaborn as sns\n",
    "%matplotlib inline\n",
    "\n",
    "pd.options.display.max_colwidth = 100\n",
    "\n",
    "import random\n",
    "import os\n",
    "os.environ['TF_CPP_MIN_LOG_LEVEL'] = '2' # to avoid warning messages\n",
    "\n",
    "from numpy.random import seed\n",
    "seed(42)\n",
    "\n",
    "random.seed(42)\n",
    "os.environ['PYTHONHASHSEED'] = str(42)\n",
    "os.environ['TF_DETERMINISTIC_OPS'] = '1'\n",
    "\n",
    "from sklearn.model_selection import train_test_split\n",
    "from sklearn import metrics\n",
    "from sklearn.metrics import accuracy_score\n",
    "\n",
    "import tensorflow as tf\n",
    "from tensorflow import keras\n",
    "from tensorflow.keras import layers\n",
    "from tensorflow.keras import callbacks\n",
    "from tensorflow.keras.models import Model\n",
    "from keras.applications.resnet import ResNet152\n",
    "from tensorflow.keras.preprocessing.image import ImageDataGenerator\n",
    "\n",
    "import glob\n",
    "import cv2\n",
    "\n",
    "from tensorflow.random import set_seed\n",
    "set_seed(42)\n",
    "\n",
    "import warnings\n",
    "warnings.filterwarnings('ignore')"
   ]
  },
  {
   "cell_type": "code",
   "execution_count": 2,
   "metadata": {
    "execution": {
     "iopub.execute_input": "2021-09-21T06:50:25.605966Z",
     "iopub.status.busy": "2021-09-21T06:50:25.605399Z",
     "iopub.status.idle": "2021-09-21T06:50:25.611930Z",
     "shell.execute_reply": "2021-09-21T06:50:25.611215Z",
     "shell.execute_reply.started": "2021-09-21T06:50:25.605929Z"
    }
   },
   "outputs": [],
   "source": [
    "IMG_SIZE = 224\n",
    "BATCH = 32\n",
    "SEED = 42"
   ]
  },
  {
   "cell_type": "code",
   "execution_count": 3,
   "metadata": {},
   "outputs": [],
   "source": [
    "# folder structure \n",
    "#Notebook folder\n",
    "#    !------ chest_xray_data\n",
    "#                  !-------------train\n",
    "#                          !-------------normal\n",
    "#                          !-------------pneumonia\n",
    "#                  !-------------test\n",
    "#                          !-------------normal\n",
    "#                          !-------------pneumonia\n",
    "#                  !-------------val\n",
    "#                          !-------------normal\n",
    "#                          !-------------pneumonia\n",
    "\n",
    "main_path = \"./chest_xray_data/\"\n",
    "train_path = os.path.join(main_path,\"TRAIN\")\n",
    "test_path = os.path.join(main_path,\"TEST\")\n",
    "val_path  = os.path.join(main_path,\"VALIDATION\")\n",
    "\n",
    "train_normal = glob.glob(train_path+\"/NORMAL/*.jpeg\")\n",
    "train_pneumonia = glob.glob(train_path+\"/PNEUMONIA/*.jpeg\")\n",
    "\n",
    "test_normal = glob.glob(test_path+\"/NORMAL/*.jpeg\")\n",
    "test_pneumonia = glob.glob(test_path+\"/PNEUMONIA/*.jpeg\")\n",
    "\n",
    "val_normal = glob.glob(val_path+\"/NORMAL/*.jpeg\")\n",
    "val_pneumonia = glob.glob(val_path+\"/PNEUMONIA/*.jpeg\")\n",
    "\n",
    "COUNT_NORMAL = len(train_normal)+len(test_normal)+len(val_normal)\n",
    "COUNT_PNEUMONIA = len(train_pneumonia)+len(test_pneumonia)+len(val_pneumonia)"
   ]
  },
  {
   "cell_type": "code",
   "execution_count": 4,
   "metadata": {},
   "outputs": [
    {
     "name": "stdout",
     "output_type": "stream",
     "text": [
      "shapes. Train:  (4099, 2) val :  (879, 2) test :  (878, 2)\n"
     ]
    }
   ],
   "source": [
    "train_list = [x for x in train_normal]\n",
    "train_list.extend([x for x in train_pneumonia])\n",
    "\n",
    "df_train = pd.DataFrame(np.concatenate([['Normal']*len(train_normal) , ['Pneumonia']*len(train_pneumonia)]), \n",
    "                        columns = ['class'])\n",
    "df_train['image'] = [x for x in train_list]\n",
    "\n",
    "test_list = [x for x in test_normal]\n",
    "test_list.extend([x for x in test_pneumonia])\n",
    "\n",
    "df_test = pd.DataFrame(np.concatenate([['Normal']*len(test_normal) , ['Pneumonia']*len(test_pneumonia)]), \n",
    "                       columns = ['class'])\n",
    "df_test['image'] = [x for x in test_list]\n",
    "\n",
    "val_list = [x for x in val_normal]\n",
    "val_list.extend([x for x in val_pneumonia])\n",
    "\n",
    "df_val = pd.DataFrame(np.concatenate([['Normal']*len(val_normal) , ['Pneumonia']*len(val_pneumonia)]), \n",
    "                      columns = ['class'])\n",
    "df_val['image'] = [x for x in val_list]\n",
    "\n",
    "train_df = df_train\n",
    "test_df = df_test\n",
    "val_df = df_val\n",
    "print ('shapes. Train: ',train_df.shape, 'val : ', val_df.shape, 'test : ',test_df.shape)"
   ]
  },
  {
   "cell_type": "code",
   "execution_count": 5,
   "metadata": {},
   "outputs": [
    {
     "name": "stdout",
     "output_type": "stream",
     "text": [
      "Initial bias: 0.99299\n",
      "Weight for class 0: 1.85\n",
      "Weight for class 1: 0.69\n"
     ]
    }
   ],
   "source": [
    "# to improve class balancing we calculate the weights to add to the training process\n",
    "\n",
    "initial_bias = np.log([COUNT_PNEUMONIA / COUNT_NORMAL])\n",
    "print(\"Initial bias: {:.5f}\".format(initial_bias[0]))\n",
    "\n",
    "TRAIN_IMG_COUNT = COUNT_NORMAL + COUNT_PNEUMONIA\n",
    "weight_for_0 = (1 / COUNT_NORMAL) * (TRAIN_IMG_COUNT) / 2.0\n",
    "weight_for_1 = (1 / COUNT_PNEUMONIA) * (TRAIN_IMG_COUNT) / 2.0\n",
    "\n",
    "calculated_class_weight = {0: weight_for_0, 1: weight_for_1}\n",
    "\n",
    "print(\"Weight for class 0: {:.2f}\".format(weight_for_0))\n",
    "print(\"Weight for class 1: {:.2f}\".format(weight_for_1))"
   ]
  },
  {
   "cell_type": "markdown",
   "metadata": {},
   "source": [
    "### Data Preparation "
   ]
  },
  {
   "cell_type": "code",
   "execution_count": 6,
   "metadata": {
    "execution": {
     "iopub.execute_input": "2021-09-21T06:50:31.175831Z",
     "iopub.status.busy": "2021-09-21T06:50:31.172013Z",
     "iopub.status.idle": "2021-09-21T06:50:33.658002Z",
     "shell.execute_reply": "2021-09-21T06:50:33.657320Z",
     "shell.execute_reply.started": "2021-09-21T06:50:31.175748Z"
    }
   },
   "outputs": [
    {
     "name": "stdout",
     "output_type": "stream",
     "text": [
      "shapes. Train:  (4099, 2) val :  (879, 2) test :  (878, 2)\n",
      "Found 4099 validated image filenames belonging to 2 classes.\n",
      "Found 879 validated image filenames belonging to 2 classes.\n",
      "Found 878 validated image filenames belonging to 2 classes.\n"
     ]
    }
   ],
   "source": [
    "print ('shapes. Train: ',train_df.shape, 'val : ', val_df.shape, 'test : ',df_test.shape)\n",
    "# https://vijayabhaskar96.medium.com/tutorial-on-keras-flow-from-dataframe-1fd4493d237c\n",
    "\n",
    "train_datagen = ImageDataGenerator(rescale=1/255.,\n",
    "                            rotation_range=20,\n",
    "                            width_shift_range=0.1,\n",
    "                            shear_range=10,\n",
    "                            horizontal_flip = True,\n",
    "                            fill_mode = 'nearest',\n",
    "                            zoom_range=0.2\n",
    "#                           samplewise_center=True\n",
    ")\n",
    "\n",
    "val_datagen  = ImageDataGenerator(rescale=1/255.)\n",
    "test_datagen = ImageDataGenerator(rescale=1/255.)\n",
    "\n",
    "ds_train = train_datagen.flow_from_dataframe(train_df,\n",
    "                                             #directory=train_path, #dataframe contains the full paths\n",
    "                                             x_col = 'image',\n",
    "                                             y_col = 'class',\n",
    "                                             target_size = (IMG_SIZE, IMG_SIZE),\n",
    "                                             class_mode = 'binary',\n",
    "                                             batch_size = BATCH,\n",
    "                                             seed = SEED)\n",
    "\n",
    "ds_val = val_datagen.flow_from_dataframe(val_df,\n",
    "                                            #directory=train_path,\n",
    "                                            x_col = 'image',\n",
    "                                            y_col = 'class',\n",
    "                                            target_size = (IMG_SIZE, IMG_SIZE),\n",
    "                                            class_mode = 'binary',\n",
    "                                            batch_size = BATCH,\n",
    "                                            seed = SEED)\n",
    "\n",
    "ds_test = test_datagen.flow_from_dataframe(df_test,\n",
    "                                            #directory=test_path,\n",
    "                                            x_col = 'image',\n",
    "                                            y_col = 'class',\n",
    "                                            target_size = (IMG_SIZE, IMG_SIZE),\n",
    "                                            class_mode = 'binary',\n",
    "                                            batch_size = 1,\n",
    "                                            shuffle = False)"
   ]
  },
  {
   "cell_type": "markdown",
   "metadata": {},
   "source": [
    "### Transfer Learning \n",
    "#### Adding new layers to previously trained network and training only  new added layers"
   ]
  },
  {
   "cell_type": "markdown",
   "metadata": {},
   "source": [
    "This approach, called transfer learning, consists of using a pretrained model as a feature extractor. In this notebook, the selected model was the ResNet152V2 available on the Keras Package [(link)](https://keras.io/api/applications/. \n",
    "\n",
    "This model was already trained in another dataset (ImageNet). What we do here is to set include_top to false, removing the ‘head’, responsible for assigning the classes in this other dataset, and keep all the previous layers. Then, we include our last few layers, including the one responsible for generating the output.\n",
    "\n",
    "We train only the new layers, leaving the ResNet152V2 network with the original Imagenet Training"
   ]
  },
  {
   "cell_type": "code",
   "execution_count": 7,
   "metadata": {},
   "outputs": [],
   "source": [
    "#Setting callbakcs\n",
    "\n",
    "initial_learning_rate = 0.015\n",
    "lr_schedule = tf.keras.optimizers.schedules.ExponentialDecay(\n",
    "    initial_learning_rate, decay_steps=100000, decay_rate=0.96, staircase=False\n",
    ")\n",
    "\n",
    "early_stopping = callbacks.EarlyStopping(\n",
    "    monitor='val_loss',\n",
    "    patience=5,\n",
    "    min_delta=0.0000001,\n",
    "    restore_best_weights=True,\n",
    ")\n",
    "\n",
    "plateau = callbacks.ReduceLROnPlateau(\n",
    "    monitor='val_loss',\n",
    "    factor = 0.2,                                     \n",
    "    patience = 10,                                   \n",
    "    min_delt = 0.0000001,                                \n",
    "    cooldown = 0,                               \n",
    "    verbose = 1\n",
    ") \n",
    "\n",
    "checkpoint_cb = tf.keras.callbacks.ModelCheckpoint(\"xray_model.h5\", save_best_only=True)\n",
    "\n",
    "early_stopping_cb = tf.keras.callbacks.EarlyStopping(\n",
    "    patience=10, restore_best_weights=True\n",
    ")"
   ]
  },
  {
   "cell_type": "code",
   "execution_count": 8,
   "metadata": {
    "execution": {
     "iopub.execute_input": "2021-09-21T07:33:11.539239Z",
     "iopub.status.busy": "2021-09-21T07:33:11.538990Z",
     "iopub.status.idle": "2021-09-21T07:33:16.487892Z",
     "shell.execute_reply": "2021-09-21T07:33:16.487140Z",
     "shell.execute_reply.started": "2021-09-21T07:33:11.539207Z"
    }
   },
   "outputs": [],
   "source": [
    "base_model = tf.keras.applications.ResNet152V2(      \n",
    "    weights='imagenet',\n",
    "    input_shape=(IMG_SIZE, IMG_SIZE, 3),\n",
    "    include_top=False)\n",
    "\n",
    "base_model.trainable = False\n",
    "\n",
    "def get_pretrained():\n",
    "    \n",
    "    #Input shape = [width, height, color channels]\n",
    "    inputs = layers.Input(shape=(IMG_SIZE, IMG_SIZE, 3))\n",
    "    \n",
    "    x = base_model(inputs)\n",
    "\n",
    "    # Head\n",
    "    x = layers.GlobalAveragePooling2D()(x)\n",
    "    x = layers.Dense(128, activation='relu')(x)\n",
    "    x = layers.Dropout(0.1)(x)\n",
    "    \n",
    "    #Final Layer (Output)\n",
    "    output = layers.Dense(1, activation='sigmoid')(x)\n",
    "    \n",
    "    model = keras.Model(inputs=[inputs], outputs=output)\n",
    "    \n",
    "    return model"
   ]
  },
  {
   "cell_type": "code",
   "execution_count": 9,
   "metadata": {
    "execution": {
     "iopub.execute_input": "2021-09-21T07:33:16.489387Z",
     "iopub.status.busy": "2021-09-21T07:33:16.489135Z",
     "iopub.status.idle": "2021-09-21T07:33:17.694248Z",
     "shell.execute_reply": "2021-09-21T07:33:17.693474Z",
     "shell.execute_reply.started": "2021-09-21T07:33:16.489357Z"
    }
   },
   "outputs": [
    {
     "name": "stdout",
     "output_type": "stream",
     "text": [
      "Model: \"model\"\n",
      "_________________________________________________________________\n",
      " Layer (type)                Output Shape              Param #   \n",
      "=================================================================\n",
      " input_1 (InputLayer)        [(None, 224, 224, 3)]     0         \n",
      "                                                                 \n",
      " resnet152v2 (Functional)    (None, 7, 7, 2048)        58331648  \n",
      "                                                                 \n",
      " global_average_pooling2d (G  (None, 2048)             0         \n",
      " lobalAveragePooling2D)                                          \n",
      "                                                                 \n",
      " dense (Dense)               (None, 128)               262272    \n",
      "                                                                 \n",
      " dropout (Dropout)           (None, 128)               0         \n",
      "                                                                 \n",
      " dense_1 (Dense)             (None, 1)                 129       \n",
      "                                                                 \n",
      "=================================================================\n",
      "Total params: 58,594,049\n",
      "Trainable params: 262,401\n",
      "Non-trainable params: 58,331,648\n",
      "_________________________________________________________________\n"
     ]
    }
   ],
   "source": [
    "keras.backend.clear_session()\n",
    "\n",
    "model_pretrained = get_pretrained()\n",
    "model_pretrained.compile(loss='binary_crossentropy'\n",
    "                    , optimizer = keras.optimizers.Adam(learning_rate=lr_schedule), metrics='binary_accuracy')\n",
    "\n",
    "model_pretrained.summary()"
   ]
  },
  {
   "cell_type": "code",
   "execution_count": 10,
   "metadata": {
    "_kg_hide-output": true,
    "execution": {
     "iopub.execute_input": "2021-09-21T07:33:17.695604Z",
     "iopub.status.busy": "2021-09-21T07:33:17.695371Z",
     "iopub.status.idle": "2021-09-21T08:14:43.093210Z",
     "shell.execute_reply": "2021-09-21T08:14:43.092428Z",
     "shell.execute_reply.started": "2021-09-21T07:33:17.695571Z"
    }
   },
   "outputs": [
    {
     "name": "stdout",
     "output_type": "stream",
     "text": [
      "Epoch 1/50\n",
      "129/129 [==============================] - 1026s 8s/step - loss: 0.9016 - binary_accuracy: 0.8595 - val_loss: 0.7722 - val_binary_accuracy: 0.6894\n",
      "Epoch 2/50\n",
      "129/129 [==============================] - 925s 7s/step - loss: 0.2202 - binary_accuracy: 0.9097 - val_loss: 0.4201 - val_binary_accuracy: 0.8612\n",
      "Epoch 3/50\n",
      "129/129 [==============================] - 967s 8s/step - loss: 0.1948 - binary_accuracy: 0.9253 - val_loss: 0.2690 - val_binary_accuracy: 0.9033\n",
      "Epoch 4/50\n",
      "129/129 [==============================] - 850s 7s/step - loss: 0.1907 - binary_accuracy: 0.9322 - val_loss: 0.2944 - val_binary_accuracy: 0.8987\n",
      "Epoch 5/50\n",
      "129/129 [==============================] - 688s 5s/step - loss: 0.1953 - binary_accuracy: 0.9273 - val_loss: 0.3822 - val_binary_accuracy: 0.8703\n",
      "Epoch 6/50\n",
      "129/129 [==============================] - 684s 5s/step - loss: 0.2031 - binary_accuracy: 0.9232 - val_loss: 0.2189 - val_binary_accuracy: 0.9090\n",
      "Epoch 7/50\n",
      "129/129 [==============================] - 687s 5s/step - loss: 0.1843 - binary_accuracy: 0.9354 - val_loss: 0.1854 - val_binary_accuracy: 0.9329\n",
      "Epoch 8/50\n",
      "129/129 [==============================] - 687s 5s/step - loss: 0.1754 - binary_accuracy: 0.9349 - val_loss: 0.3497 - val_binary_accuracy: 0.8919\n",
      "Epoch 9/50\n",
      "129/129 [==============================] - 684s 5s/step - loss: 0.1818 - binary_accuracy: 0.9358 - val_loss: 0.4273 - val_binary_accuracy: 0.8498\n",
      "Epoch 10/50\n",
      "129/129 [==============================] - 685s 5s/step - loss: 0.1760 - binary_accuracy: 0.9351 - val_loss: 0.2579 - val_binary_accuracy: 0.9067\n",
      "Epoch 11/50\n",
      "129/129 [==============================] - 682s 5s/step - loss: 0.1845 - binary_accuracy: 0.9334 - val_loss: 0.1678 - val_binary_accuracy: 0.9374\n",
      "Epoch 12/50\n",
      "129/129 [==============================] - 681s 5s/step - loss: 0.1734 - binary_accuracy: 0.9366 - val_loss: 0.3374 - val_binary_accuracy: 0.8794\n",
      "Epoch 13/50\n",
      "129/129 [==============================] - 679s 5s/step - loss: 0.1780 - binary_accuracy: 0.9410 - val_loss: 0.2849 - val_binary_accuracy: 0.9101\n",
      "Epoch 14/50\n",
      "129/129 [==============================] - 681s 5s/step - loss: 0.1832 - binary_accuracy: 0.9373 - val_loss: 0.2425 - val_binary_accuracy: 0.9215\n",
      "Epoch 15/50\n",
      "129/129 [==============================] - 683s 5s/step - loss: 0.1671 - binary_accuracy: 0.9414 - val_loss: 0.3196 - val_binary_accuracy: 0.8908\n",
      "Epoch 16/50\n",
      "129/129 [==============================] - 682s 5s/step - loss: 0.1720 - binary_accuracy: 0.9385 - val_loss: 0.2856 - val_binary_accuracy: 0.9090\n",
      "Epoch 17/50\n",
      "129/129 [==============================] - 679s 5s/step - loss: 0.1790 - binary_accuracy: 0.9449 - val_loss: 0.3484 - val_binary_accuracy: 0.9056\n",
      "Epoch 18/50\n",
      "129/129 [==============================] - 681s 5s/step - loss: 0.1827 - binary_accuracy: 0.9397 - val_loss: 0.2255 - val_binary_accuracy: 0.9215\n",
      "Epoch 19/50\n",
      "129/129 [==============================] - 681s 5s/step - loss: 0.1914 - binary_accuracy: 0.9383 - val_loss: 0.2489 - val_binary_accuracy: 0.9113\n",
      "Epoch 20/50\n",
      "129/129 [==============================] - 680s 5s/step - loss: 0.1732 - binary_accuracy: 0.9446 - val_loss: 0.3001 - val_binary_accuracy: 0.8976\n",
      "Epoch 21/50\n",
      "129/129 [==============================] - 688s 5s/step - loss: 0.1607 - binary_accuracy: 0.9427 - val_loss: 0.2011 - val_binary_accuracy: 0.9340\n"
     ]
    }
   ],
   "source": [
    "history = model_pretrained.fit(ds_train,\n",
    "          batch_size = BATCH, epochs = 50,\n",
    "          validation_data=ds_val,\n",
    "          class_weight = calculated_class_weight,\n",
    "          callbacks=[early_stopping_cb,checkpoint_cb]);"
   ]
  },
  {
   "cell_type": "markdown",
   "metadata": {},
   "source": [
    "#### CNN Training evaluation"
   ]
  },
  {
   "cell_type": "code",
   "execution_count": 11,
   "metadata": {
    "_kg_hide-input": true,
    "execution": {
     "iopub.execute_input": "2021-09-21T08:14:43.095020Z",
     "iopub.status.busy": "2021-09-21T08:14:43.094763Z",
     "iopub.status.idle": "2021-09-21T08:14:43.428910Z",
     "shell.execute_reply": "2021-09-21T08:14:43.428249Z",
     "shell.execute_reply.started": "2021-09-21T08:14:43.094986Z"
    }
   },
   "outputs": [
    {
     "data": {
      "image/png": "[encoded data removed]",
      "text/plain": [
       "<Figure size 1152x504 with 2 Axes>"
      ]
     },
     "metadata": {
      "needs_background": "light"
     },
     "output_type": "display_data"
    }
   ],
   "source": [
    "fig, (ax1, ax2) = plt.subplots(1,2,figsize=(16,7))\n",
    "sns.lineplot(x = history.epoch, y = history.history['loss'], ax=ax1)\n",
    "sns.lineplot(x = history.epoch, y = history.history['val_loss'], ax=ax1)\n",
    "ax1.set_title('Learning Curve (Loss)')\n",
    "ax1.set_ylabel('Loss')\n",
    "ax1.set_xlabel('Epoch')\n",
    "ax1.set_ylim(0, 1)\n",
    "ax1.legend(['train', 'val'], loc='best')\n",
    "#\n",
    "sns.lineplot(x = history.epoch, y = history.history['binary_accuracy'], ax=ax2)\n",
    "sns.lineplot(x = history.epoch, y = history.history['val_binary_accuracy'], ax=ax2)\n",
    "ax2.set_title('Learning Curve (Accuracy)')\n",
    "ax2.set_ylabel('Accuracy')\n",
    "ax2.set_xlabel('Epoch')\n",
    "ax2.set_ylim(0.80, 1.0)\n",
    "ax2.legend(['train', 'val'], loc='best')\n",
    "plt.show()"
   ]
  },
  {
   "cell_type": "code",
   "execution_count": 12,
   "metadata": {
    "execution": {
     "iopub.execute_input": "2021-09-21T08:14:43.771683Z",
     "iopub.status.busy": "2021-09-21T08:14:43.769498Z",
     "iopub.status.idle": "2021-09-21T08:14:57.190558Z",
     "shell.execute_reply": "2021-09-21T08:14:57.189827Z",
     "shell.execute_reply.started": "2021-09-21T08:14:43.771646Z"
    }
   },
   "outputs": [
    {
     "name": "stdout",
     "output_type": "stream",
     "text": [
      "Val loss: 0.1678057760000229\n",
      "Val accuracy: 0.937428891658783\n"
     ]
    }
   ],
   "source": [
    "score = model_pretrained.evaluate(ds_val, steps = len(val_df)/BATCH, verbose = 0)\n",
    "print('Val loss:', score[0])\n",
    "print('Val accuracy:', score[1])"
   ]
  },
  {
   "cell_type": "code",
   "execution_count": 13,
   "metadata": {
    "_kg_hide-input": false,
    "execution": {
     "iopub.execute_input": "2021-09-21T08:14:57.192472Z",
     "iopub.status.busy": "2021-09-21T08:14:57.191679Z",
     "iopub.status.idle": "2021-09-21T08:15:15.705981Z",
     "shell.execute_reply": "2021-09-21T08:15:15.705205Z",
     "shell.execute_reply.started": "2021-09-21T08:14:57.192435Z"
    }
   },
   "outputs": [
    {
     "name": "stdout",
     "output_type": "stream",
     "text": [
      "Test loss: 0.15132391452789307\n",
      "Test accuracy: 0.9430524110794067\n"
     ]
    }
   ],
   "source": [
    "score = model_pretrained.evaluate(ds_test, verbose = 0)\n",
    "print('Test loss:', score[0])\n",
    "print('Test accuracy:', score[1])"
   ]
  },
  {
   "cell_type": "markdown",
   "metadata": {},
   "source": [
    "### Result Performance Evaluation</a> "
   ]
  },
  {
   "cell_type": "code",
   "execution_count": 14,
   "metadata": {
    "_kg_hide-input": true,
    "execution": {
     "iopub.execute_input": "2021-09-21T08:52:22.266371Z",
     "iopub.status.busy": "2021-09-21T08:52:22.264464Z",
     "iopub.status.idle": "2021-09-21T08:52:22.275386Z",
     "shell.execute_reply": "2021-09-21T08:52:22.274556Z",
     "shell.execute_reply.started": "2021-09-21T08:52:22.266332Z"
    }
   },
   "outputs": [],
   "source": [
    "num_label = {'Normal': 0, 'Pneumonia' : 1}\n",
    "Y_test = test_df['class'].copy().map(num_label).astype('int')"
   ]
  },
  {
   "cell_type": "code",
   "execution_count": 15,
   "metadata": {
    "execution": {
     "iopub.execute_input": "2021-09-21T08:52:22.280022Z",
     "iopub.status.busy": "2021-09-21T08:52:22.278653Z",
     "iopub.status.idle": "2021-09-21T08:52:40.368433Z",
     "shell.execute_reply": "2021-09-21T08:52:40.367682Z",
     "shell.execute_reply.started": "2021-09-21T08:52:22.279987Z"
    }
   },
   "outputs": [],
   "source": [
    "ds_test.reset()\n",
    "predictions = model_pretrained.predict(ds_test, steps=len(ds_test), verbose=0)\n",
    "pred_labels= np.where(predictions>0.5, 1, 0)"
   ]
  },
  {
   "cell_type": "code",
   "execution_count": 16,
   "metadata": {
    "execution": {
     "iopub.execute_input": "2021-09-21T08:52:40.369810Z",
     "iopub.status.busy": "2021-09-21T08:52:40.369536Z",
     "iopub.status.idle": "2021-09-21T08:52:40.379306Z",
     "shell.execute_reply": "2021-09-21T08:52:40.378505Z",
     "shell.execute_reply.started": "2021-09-21T08:52:40.369769Z"
    }
   },
   "outputs": [
    {
     "name": "stdout",
     "output_type": "stream",
     "text": [
      "Test Accuracy:  0.9430523917995444\n"
     ]
    }
   ],
   "source": [
    "print(\"Test Accuracy: \", accuracy_score(Y_test, pred_labels))"
   ]
  },
  {
   "cell_type": "code",
   "execution_count": 17,
   "metadata": {
    "_kg_hide-input": true,
    "_kg_hide-output": false,
    "execution": {
     "iopub.execute_input": "2021-09-21T08:52:40.382218Z",
     "iopub.status.busy": "2021-09-21T08:52:40.382026Z",
     "iopub.status.idle": "2021-09-21T08:52:40.596093Z",
     "shell.execute_reply": "2021-09-21T08:52:40.595419Z",
     "shell.execute_reply.started": "2021-09-21T08:52:40.382196Z"
    }
   },
   "outputs": [
    {
     "data": {
      "image/png": "[encoded data removed]",
      "text/plain": [
       "<Figure size 432x288 with 2 Axes>"
      ]
     },
     "metadata": {
      "needs_background": "light"
     },
     "output_type": "display_data"
    }
   ],
   "source": [
    "confusion_matrix = metrics.confusion_matrix(Y_test, pred_labels)\n",
    "sns.heatmap(confusion_matrix, annot=True, fmt=\"d\")\n",
    "\n",
    "plt.xlabel(\"Predicted Label\", fontsize= 12)\n",
    "plt.ylabel(\"True Label\", fontsize= 12)\n",
    "\n",
    "plt.show()"
   ]
  },
  {
   "cell_type": "code",
   "execution_count": 18,
   "metadata": {
    "_kg_hide-input": true,
    "execution": {
     "iopub.execute_input": "2021-09-21T08:52:40.597617Z",
     "iopub.status.busy": "2021-09-21T08:52:40.597366Z",
     "iopub.status.idle": "2021-09-21T08:52:40.608447Z",
     "shell.execute_reply": "2021-09-21T08:52:40.607586Z",
     "shell.execute_reply.started": "2021-09-21T08:52:40.597583Z"
    }
   },
   "outputs": [
    {
     "name": "stdout",
     "output_type": "stream",
     "text": [
      "              precision    recall  f1-score   support\n",
      "\n",
      "           0       0.85      0.96      0.90       237\n",
      "           1       0.98      0.94      0.96       641\n",
      "\n",
      "    accuracy                           0.94       878\n",
      "   macro avg       0.92      0.95      0.93       878\n",
      "weighted avg       0.95      0.94      0.94       878\n",
      "\n"
     ]
    }
   ],
   "source": [
    "print(metrics.classification_report(Y_test, pred_labels, labels = [0, 1]))"
   ]
  },
  {
   "cell_type": "code",
   "execution_count": 19,
   "metadata": {
    "_kg_hide-input": true,
    "execution": {
     "iopub.execute_input": "2021-09-21T08:52:40.610070Z",
     "iopub.status.busy": "2021-09-21T08:52:40.609803Z",
     "iopub.status.idle": "2021-09-21T08:52:40.798635Z",
     "shell.execute_reply": "2021-09-21T08:52:40.797989Z",
     "shell.execute_reply.started": "2021-09-21T08:52:40.610036Z"
    }
   },
   "outputs": [
    {
     "name": "stdout",
     "output_type": "stream",
     "text": [
      "ROC_AUC:  0.9898497205711014\n"
     ]
    },
    {
     "data": {
      "image/png": "[encoded data removed]",
      "text/plain": [
       "<Figure size 432x288 with 1 Axes>"
      ]
     },
     "metadata": {
      "needs_background": "light"
     },
     "output_type": "display_data"
    }
   ],
   "source": [
    "roc_auc = metrics.roc_auc_score(Y_test, predictions)\n",
    "print('ROC_AUC: ', roc_auc)\n",
    "\n",
    "fpr, tpr, thresholds = metrics.roc_curve(Y_test, predictions)\n",
    "\n",
    "plt.plot(fpr, tpr, label = 'ROC_AUC = %0.3f' % roc_auc)\n",
    "\n",
    "plt.xlabel(\"False Positive Rate\", fontsize= 12)\n",
    "plt.ylabel(\"True Positive Rate\", fontsize= 12)\n",
    "plt.legend(loc=\"lower right\")\n",
    "\n",
    "plt.show()"
   ]
  }
 ],
 "metadata": {
  "kernelspec": {
   "display_name": "DL",
   "language": "python",
   "name": "dl"
  },
  "language_info": {
   "codemirror_mode": {
    "name": "ipython",
    "version": 3
   },
   "file_extension": ".py",
   "mimetype": "text/x-python",
   "name": "python",
   "nbconvert_exporter": "python",
   "pygments_lexer": "ipython3",
   "version": "3.8.12"
  }
 },
 "nbformat": 4,
 "nbformat_minor": 4
}
