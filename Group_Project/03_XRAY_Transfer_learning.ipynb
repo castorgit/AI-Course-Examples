{
 "cells": [
  {
   "cell_type": "markdown",
   "metadata": {},
   "source": [
    "#### Chest X-Ray (Pneumonia): Transfer Learning "
   ]
  },
  {
   "cell_type": "code",
   "execution_count": 1,
   "metadata": {
    "execution": {
     "iopub.execute_input": "2021-09-21T06:50:25.577006Z",
     "iopub.status.busy": "2021-09-21T06:50:25.576634Z",
     "iopub.status.idle": "2021-09-21T06:50:25.603025Z",
     "shell.execute_reply": "2021-09-21T06:50:25.602053Z",
     "shell.execute_reply.started": "2021-09-21T06:50:25.576967Z"
    }
   },
   "outputs": [
    {
     "name": "stderr",
     "output_type": "stream",
     "text": [
      "2021-11-17 22:26:04.002536: W tensorflow/stream_executor/platform/default/dso_loader.cc:64] Could not load dynamic library 'libcudart.so.11.0'; dlerror: libcudart.so.11.0: cannot open shared object file: No such file or directory\n",
      "2021-11-17 22:26:04.002566: I tensorflow/stream_executor/cuda/cudart_stub.cc:29] Ignore above cudart dlerror if you do not have a GPU set up on your machine.\n"
     ]
    }
   ],
   "source": [
    "import pandas as pd       \n",
    "import matplotlib as mat\n",
    "import matplotlib.pyplot as plt    \n",
    "import numpy as np\n",
    "import seaborn as sns\n",
    "%matplotlib inline\n",
    "\n",
    "pd.options.display.max_colwidth = 100\n",
    "\n",
    "import random\n",
    "import os\n",
    "os.environ['TF_CPP_MIN_LOG_LEVEL'] = '2' # to avoid warning messages\n",
    "\n",
    "from numpy.random import seed\n",
    "seed(42)\n",
    "\n",
    "random.seed(42)\n",
    "os.environ['PYTHONHASHSEED'] = str(42)\n",
    "os.environ['TF_DETERMINISTIC_OPS'] = '1'\n",
    "\n",
    "from sklearn.model_selection import train_test_split\n",
    "from sklearn import metrics\n",
    "from sklearn.metrics import accuracy_score\n",
    "\n",
    "import tensorflow as tf\n",
    "from tensorflow import keras\n",
    "from tensorflow.keras import layers\n",
    "from tensorflow.keras import callbacks\n",
    "from tensorflow.keras.models import Model\n",
    "from tensorflow.keras.preprocessing.image import ImageDataGenerator\n",
    "\n",
    "import glob\n",
    "import cv2\n",
    "\n",
    "from tensorflow.random import set_seed\n",
    "set_seed(42)\n",
    "\n",
    "import warnings\n",
    "warnings.filterwarnings('ignore')"
   ]
  },
  {
   "cell_type": "code",
   "execution_count": 2,
   "metadata": {
    "execution": {
     "iopub.execute_input": "2021-09-21T06:50:25.605966Z",
     "iopub.status.busy": "2021-09-21T06:50:25.605399Z",
     "iopub.status.idle": "2021-09-21T06:50:25.611930Z",
     "shell.execute_reply": "2021-09-21T06:50:25.611215Z",
     "shell.execute_reply.started": "2021-09-21T06:50:25.605929Z"
    }
   },
   "outputs": [],
   "source": [
    "IMG_SIZE = 224\n",
    "BATCH = 32\n",
    "SEED = 42"
   ]
  },
  {
   "cell_type": "code",
   "execution_count": 3,
   "metadata": {
    "execution": {
     "iopub.execute_input": "2021-09-21T06:50:25.616438Z",
     "iopub.status.busy": "2021-09-21T06:50:25.614268Z",
     "iopub.status.idle": "2021-09-21T06:50:25.649779Z",
     "shell.execute_reply": "2021-09-21T06:50:25.649140Z",
     "shell.execute_reply.started": "2021-09-21T06:50:25.616404Z"
    }
   },
   "outputs": [],
   "source": [
    "# folder structure \n",
    "#Notebook\n",
    "#    !------ chest_xray_data\n",
    "#                  !-------------train\n",
    "#                  !-------------test\n",
    "#                  !-------------val\n",
    "#\n",
    "main_path = \"./chest_xray_data/\"\n",
    "\n",
    "\n",
    "train_path = os.path.join(main_path,\"train\")\n",
    "test_path=os.path.join(main_path,\"test\")\n",
    "\n",
    "train_normal = glob.glob(train_path+\"/NORMAL/*.jpeg\")\n",
    "train_pneumonia = glob.glob(train_path+\"/PNEUMONIA/*.jpeg\")\n",
    "\n",
    "test_normal = glob.glob(test_path+\"/NORMAL/*.jpeg\")\n",
    "test_pneumonia = glob.glob(test_path+\"/PNEUMONIA/*.jpeg\")"
   ]
  },
  {
   "cell_type": "code",
   "execution_count": 4,
   "metadata": {
    "execution": {
     "iopub.execute_input": "2021-09-21T06:50:25.651296Z",
     "iopub.status.busy": "2021-09-21T06:50:25.651010Z",
     "iopub.status.idle": "2021-09-21T06:50:25.667932Z",
     "shell.execute_reply": "2021-09-21T06:50:25.667042Z",
     "shell.execute_reply.started": "2021-09-21T06:50:25.651262Z"
    }
   },
   "outputs": [],
   "source": [
    "train_list = [x for x in train_normal]\n",
    "train_list.extend([x for x in train_pneumonia])\n",
    "\n",
    "df_train = pd.DataFrame(np.concatenate([['Normal']*len(train_normal) , ['Pneumonia']*len(train_pneumonia)]), columns = ['class'])\n",
    "df_train['image'] = [x for x in train_list]\n",
    "\n",
    "test_list = [x for x in test_normal]\n",
    "test_list.extend([x for x in test_pneumonia])\n",
    "\n",
    "df_test = pd.DataFrame(np.concatenate([['Normal']*len(test_normal) , ['Pneumonia']*len(test_pneumonia)]), columns = ['class'])\n",
    "df_test['image'] = [x for x in test_list]"
   ]
  },
  {
   "cell_type": "markdown",
   "metadata": {},
   "source": [
    "### Data Preparation\n",
    "The validation set has too few images, we change the structure of the datasets, we will use 80% of df_train for training, 20% of df_training for validation and df_test to verify the final result"
   ]
  },
  {
   "cell_type": "code",
   "execution_count": 37,
   "metadata": {
    "execution": {
     "iopub.execute_input": "2021-09-21T06:50:31.119375Z",
     "iopub.status.busy": "2021-09-21T06:50:31.118585Z",
     "iopub.status.idle": "2021-09-21T06:50:31.139681Z",
     "shell.execute_reply": "2021-09-21T06:50:31.138987Z",
     "shell.execute_reply.started": "2021-09-21T06:50:31.119339Z"
    }
   },
   "outputs": [],
   "source": [
    "train_df, val_df = train_test_split(df_train, test_size = 0.20, random_state = SEED, stratify = df_train['class'])"
   ]
  },
  {
   "cell_type": "markdown",
   "metadata": {},
   "source": [
    "Now, we’re going to load the images from the folders and prepare them to feed our models. \n",
    "\n",
    "We begin by defining the data generators. With Keras Image Data Generator, we can rescale the pixel values and apply random transformation techniques for data augmentation on the fly. We define two different generators. The val_datagen is used to simply rescale the validation and test sets. The train_datagen includes some transformations to augment the train set.\n",
    "\n",
    "We apply those generators on each dataset using the flow_from_dataframe method. Apart from the transformations defined in each generator, the images are also resized based on the target_size set."
   ]
  },
  {
   "cell_type": "code",
   "execution_count": 40,
   "metadata": {
    "execution": {
     "iopub.execute_input": "2021-09-21T06:50:31.175831Z",
     "iopub.status.busy": "2021-09-21T06:50:31.172013Z",
     "iopub.status.idle": "2021-09-21T06:50:33.658002Z",
     "shell.execute_reply": "2021-09-21T06:50:33.657320Z",
     "shell.execute_reply.started": "2021-09-21T06:50:31.175748Z"
    }
   },
   "outputs": [
    {
     "name": "stdout",
     "output_type": "stream",
     "text": [
      "Found 4185 validated image filenames belonging to 2 classes.\n",
      "Found 1047 validated image filenames belonging to 2 classes.\n",
      "Found 624 validated image filenames belonging to 2 classes.\n"
     ]
    }
   ],
   "source": [
    "# https://vijayabhaskar96.medium.com/tutorial-on-keras-flow-from-dataframe-1fd4493d237c\n",
    "\n",
    "train_datagen = ImageDataGenerator(rescale=1/255.,\n",
    "                                  zoom_range = 0.1,\n",
    "                                  #rotation_range = 0.1,\n",
    "                                  width_shift_range = 0.1,\n",
    "                                  height_shift_range = 0.1)\n",
    "\n",
    "val_datagen = ImageDataGenerator(rescale=1/255.)\n",
    "\n",
    "ds_train = train_datagen.flow_from_dataframe(train_df,\n",
    "                                             #directory=train_path, #dataframe contains the full paths\n",
    "                                             x_col = 'image',\n",
    "                                             y_col = 'class',\n",
    "                                             target_size = (IMG_SIZE, IMG_SIZE),\n",
    "                                             class_mode = 'binary',\n",
    "                                             batch_size = BATCH,\n",
    "                                             seed = SEED)\n",
    "\n",
    "ds_val = val_datagen.flow_from_dataframe(val_df,\n",
    "                                            #directory=train_path,\n",
    "                                            x_col = 'image',\n",
    "                                            y_col = 'class',\n",
    "                                            target_size = (IMG_SIZE, IMG_SIZE),\n",
    "                                            class_mode = 'binary',\n",
    "                                            batch_size = BATCH,\n",
    "                                            seed = SEED)\n",
    "\n",
    "ds_test = val_datagen.flow_from_dataframe(df_test,\n",
    "                                            #directory=test_path,\n",
    "                                            x_col = 'image',\n",
    "                                            y_col = 'class',\n",
    "                                            target_size = (IMG_SIZE, IMG_SIZE),\n",
    "                                            class_mode = 'binary',\n",
    "                                            batch_size = 1,\n",
    "                                            shuffle = False)"
   ]
  },
  {
   "cell_type": "markdown",
   "metadata": {},
   "source": [
    "### CNN\n",
    "Data is ready. Now we define the CNN network and train "
   ]
  },
  {
   "cell_type": "code",
   "execution_count": 41,
   "metadata": {
    "execution": {
     "iopub.execute_input": "2021-09-21T06:50:33.659445Z",
     "iopub.status.busy": "2021-09-21T06:50:33.659187Z",
     "iopub.status.idle": "2021-09-21T06:50:33.665861Z",
     "shell.execute_reply": "2021-09-21T06:50:33.665031Z",
     "shell.execute_reply.started": "2021-09-21T06:50:33.659411Z"
    }
   },
   "outputs": [],
   "source": [
    "#Setting callbakcs\n",
    "\n",
    "early_stopping = callbacks.EarlyStopping(\n",
    "    monitor='val_loss',\n",
    "    patience=5,\n",
    "    min_delta=0.0000001,\n",
    "    restore_best_weights=True,\n",
    ")\n",
    "\n",
    "plateau = callbacks.ReduceLROnPlateau(\n",
    "    monitor='val_loss',\n",
    "    factor = 0.2,                                     \n",
    "    patience = 2,                                   \n",
    "    min_delt = 0.0000001,                                \n",
    "    cooldown = 0,                               \n",
    "    verbose = 1\n",
    ") "
   ]
  },
  {
   "cell_type": "markdown",
   "metadata": {},
   "source": [
    "Let’s define our first model ‘from scratch’ and see how it performs."
   ]
  },
  {
   "cell_type": "code",
   "execution_count": 2,
   "metadata": {
    "execution": {
     "iopub.execute_input": "2021-09-21T06:50:33.667482Z",
     "iopub.status.busy": "2021-09-21T06:50:33.667099Z",
     "iopub.status.idle": "2021-09-21T06:50:33.679963Z",
     "shell.execute_reply": "2021-09-21T06:50:33.679207Z",
     "shell.execute_reply.started": "2021-09-21T06:50:33.667445Z"
    }
   },
   "outputs": [],
   "source": [
    "def get_model():\n",
    "    \n",
    "    # CNN Layers\n",
    "    \n",
    "    #Input shape = [width, height, color channels]\n",
    "    inputs = layers.Input(shape=(IMG_SIZE, IMG_SIZE, 3))\n",
    "    \n",
    "    # Block One\n",
    "    x = layers.Conv2D(filters=16, kernel_size=3, padding='valid')(inputs)\n",
    "    x = layers.BatchNormalization()(x)\n",
    "    x = layers.Activation('relu')(x)\n",
    "    x = layers.MaxPool2D()(x)\n",
    "    x = layers.Dropout(0.2)(x)\n",
    "\n",
    "    # Block Two\n",
    "    x = layers.Conv2D(filters=32, kernel_size=3, padding='valid')(x)\n",
    "    x = layers.BatchNormalization()(x)\n",
    "    x = layers.Activation('relu')(x)\n",
    "    x = layers.MaxPool2D()(x)\n",
    "    x = layers.Dropout(0.2)(x)\n",
    "    \n",
    "    # Block Three\n",
    "    x = layers.Conv2D(filters=64, kernel_size=3, padding='valid')(x)\n",
    "    x = layers.Conv2D(filters=64, kernel_size=3, padding='valid')(x)\n",
    "    x = layers.BatchNormalization()(x)\n",
    "    x = layers.Activation('relu')(x)\n",
    "    x = layers.MaxPool2D()(x)\n",
    "    x = layers.Dropout(0.4)(x)\n",
    "\n",
    "    # MLP - Classification layers\n",
    "    \n",
    "    #x = layers.BatchNormalization()(x)\n",
    "    x = layers.Flatten()(x)\n",
    "    x = layers.Dense(64, activation='relu')(x)\n",
    "    x = layers.Dropout(0.5)(x)\n",
    "    \n",
    "    #Final Layer (Output)\n",
    "    output = layers.Dense(1, activation='sigmoid')(x)\n",
    "    \n",
    "    model = keras.Model(inputs=[inputs], outputs=output)\n",
    "    \n",
    "    return model"
   ]
  },
  {
   "cell_type": "code",
   "execution_count": 43,
   "metadata": {
    "execution": {
     "iopub.execute_input": "2021-09-21T06:50:33.681512Z",
     "iopub.status.busy": "2021-09-21T06:50:33.681083Z",
     "iopub.status.idle": "2021-09-21T06:50:33.792110Z",
     "shell.execute_reply": "2021-09-21T06:50:33.790855Z",
     "shell.execute_reply.started": "2021-09-21T06:50:33.681477Z"
    }
   },
   "outputs": [
    {
     "name": "stdout",
     "output_type": "stream",
     "text": [
      "Model: \"model\"\n",
      "_________________________________________________________________\n",
      "Layer (type)                 Output Shape              Param #   \n",
      "=================================================================\n",
      "input_1 (InputLayer)         [(None, 224, 224, 3)]     0         \n",
      "_________________________________________________________________\n",
      "conv2d (Conv2D)              (None, 222, 222, 16)      448       \n",
      "_________________________________________________________________\n",
      "batch_normalization (BatchNo (None, 222, 222, 16)      64        \n",
      "_________________________________________________________________\n",
      "activation (Activation)      (None, 222, 222, 16)      0         \n",
      "_________________________________________________________________\n",
      "max_pooling2d (MaxPooling2D) (None, 111, 111, 16)      0         \n",
      "_________________________________________________________________\n",
      "dropout (Dropout)            (None, 111, 111, 16)      0         \n",
      "_________________________________________________________________\n",
      "conv2d_1 (Conv2D)            (None, 109, 109, 32)      4640      \n",
      "_________________________________________________________________\n",
      "batch_normalization_1 (Batch (None, 109, 109, 32)      128       \n",
      "_________________________________________________________________\n",
      "activation_1 (Activation)    (None, 109, 109, 32)      0         \n",
      "_________________________________________________________________\n",
      "max_pooling2d_1 (MaxPooling2 (None, 54, 54, 32)        0         \n",
      "_________________________________________________________________\n",
      "dropout_1 (Dropout)          (None, 54, 54, 32)        0         \n",
      "_________________________________________________________________\n",
      "conv2d_2 (Conv2D)            (None, 52, 52, 64)        18496     \n",
      "_________________________________________________________________\n",
      "conv2d_3 (Conv2D)            (None, 50, 50, 64)        36928     \n",
      "_________________________________________________________________\n",
      "batch_normalization_2 (Batch (None, 50, 50, 64)        256       \n",
      "_________________________________________________________________\n",
      "activation_2 (Activation)    (None, 50, 50, 64)        0         \n",
      "_________________________________________________________________\n",
      "max_pooling2d_2 (MaxPooling2 (None, 25, 25, 64)        0         \n",
      "_________________________________________________________________\n",
      "dropout_2 (Dropout)          (None, 25, 25, 64)        0         \n",
      "_________________________________________________________________\n",
      "flatten (Flatten)            (None, 40000)             0         \n",
      "_________________________________________________________________\n",
      "dense (Dense)                (None, 64)                2560064   \n",
      "_________________________________________________________________\n",
      "dropout_3 (Dropout)          (None, 64)                0         \n",
      "_________________________________________________________________\n",
      "dense_1 (Dense)              (None, 1)                 65        \n",
      "=================================================================\n",
      "Total params: 2,621,089\n",
      "Trainable params: 2,620,865\n",
      "Non-trainable params: 224\n",
      "_________________________________________________________________\n"
     ]
    }
   ],
   "source": [
    "keras.backend.clear_session()\n",
    "\n",
    "model = get_model()\n",
    "model.compile(loss='binary_crossentropy'\n",
    "              , optimizer = keras.optimizers.Adam(learning_rate=0.00003), metrics='binary_accuracy')\n",
    "\n",
    "model.summary()"
   ]
  },
  {
   "cell_type": "code",
   "execution_count": 44,
   "metadata": {
    "_kg_hide-output": true,
    "execution": {
     "iopub.execute_input": "2021-09-21T06:50:33.793654Z",
     "iopub.status.busy": "2021-09-21T06:50:33.793409Z",
     "iopub.status.idle": "2021-09-21T07:32:47.116245Z",
     "shell.execute_reply": "2021-09-21T07:32:47.115524Z",
     "shell.execute_reply.started": "2021-09-21T06:50:33.793621Z"
    }
   },
   "outputs": [
    {
     "name": "stdout",
     "output_type": "stream",
     "text": [
      "Epoch 1/50\n",
      "130/130 [==============================] - 128s 973ms/step - loss: 0.6391 - binary_accuracy: 0.7145 - val_loss: 0.7722 - val_binary_accuracy: 0.7421\n",
      "Epoch 2/50\n",
      "130/130 [==============================] - 101s 773ms/step - loss: 0.3928 - binary_accuracy: 0.8159 - val_loss: 1.2521 - val_binary_accuracy: 0.7421\n",
      "Epoch 3/50\n",
      "130/130 [==============================] - 101s 772ms/step - loss: 0.3035 - binary_accuracy: 0.8698 - val_loss: 1.4061 - val_binary_accuracy: 0.7421\n",
      "\n",
      "Epoch 00003: ReduceLROnPlateau reducing learning rate to 5.9999998484272515e-06.\n",
      "Epoch 4/50\n",
      "130/130 [==============================] - 101s 771ms/step - loss: 0.2445 - binary_accuracy: 0.8957 - val_loss: 1.1610 - val_binary_accuracy: 0.7421\n",
      "Epoch 5/50\n",
      "130/130 [==============================] - 106s 808ms/step - loss: 0.2176 - binary_accuracy: 0.9116 - val_loss: 0.5502 - val_binary_accuracy: 0.7784\n",
      "Epoch 6/50\n",
      "130/130 [==============================] - 101s 771ms/step - loss: 0.2325 - binary_accuracy: 0.9110 - val_loss: 0.2100 - val_binary_accuracy: 0.9102\n",
      "Epoch 7/50\n",
      "130/130 [==============================] - 100s 763ms/step - loss: 0.2114 - binary_accuracy: 0.9126 - val_loss: 0.1620 - val_binary_accuracy: 0.9389\n",
      "Epoch 8/50\n",
      "130/130 [==============================] - 100s 765ms/step - loss: 0.1958 - binary_accuracy: 0.9197 - val_loss: 0.1553 - val_binary_accuracy: 0.9446\n",
      "Epoch 9/50\n",
      "130/130 [==============================] - 100s 768ms/step - loss: 0.2095 - binary_accuracy: 0.9100 - val_loss: 0.1469 - val_binary_accuracy: 0.9456\n",
      "Epoch 10/50\n",
      "130/130 [==============================] - 100s 768ms/step - loss: 0.1932 - binary_accuracy: 0.9221 - val_loss: 0.1443 - val_binary_accuracy: 0.9465\n",
      "Epoch 11/50\n",
      "130/130 [==============================] - 100s 766ms/step - loss: 0.1942 - binary_accuracy: 0.9264 - val_loss: 0.1410 - val_binary_accuracy: 0.9475\n",
      "Epoch 12/50\n",
      "130/130 [==============================] - 100s 762ms/step - loss: 0.1806 - binary_accuracy: 0.9248 - val_loss: 0.1417 - val_binary_accuracy: 0.9513\n",
      "Epoch 13/50\n",
      "130/130 [==============================] - 100s 762ms/step - loss: 0.1887 - binary_accuracy: 0.9236 - val_loss: 0.1476 - val_binary_accuracy: 0.9446\n",
      "\n",
      "Epoch 00013: ReduceLROnPlateau reducing learning rate to 1.1999999514955563e-06.\n",
      "Epoch 14/50\n",
      "130/130 [==============================] - 99s 761ms/step - loss: 0.1752 - binary_accuracy: 0.9334 - val_loss: 0.1391 - val_binary_accuracy: 0.9456\n",
      "Epoch 15/50\n",
      "130/130 [==============================] - 100s 762ms/step - loss: 0.1896 - binary_accuracy: 0.9262 - val_loss: 0.1384 - val_binary_accuracy: 0.9484\n",
      "Epoch 16/50\n",
      "130/130 [==============================] - 100s 759ms/step - loss: 0.2044 - binary_accuracy: 0.9254 - val_loss: 0.1369 - val_binary_accuracy: 0.9484\n",
      "Epoch 17/50\n",
      "130/130 [==============================] - 99s 758ms/step - loss: 0.1856 - binary_accuracy: 0.9278 - val_loss: 0.1363 - val_binary_accuracy: 0.9513\n",
      "Epoch 18/50\n",
      "130/130 [==============================] - 100s 762ms/step - loss: 0.1729 - binary_accuracy: 0.9312 - val_loss: 0.1361 - val_binary_accuracy: 0.9513\n",
      "Epoch 19/50\n",
      "130/130 [==============================] - 100s 765ms/step - loss: 0.1774 - binary_accuracy: 0.9335 - val_loss: 0.1364 - val_binary_accuracy: 0.9484\n",
      "Epoch 20/50\n",
      "130/130 [==============================] - 100s 762ms/step - loss: 0.1673 - binary_accuracy: 0.9365 - val_loss: 0.1349 - val_binary_accuracy: 0.9522\n",
      "Epoch 21/50\n",
      "130/130 [==============================] - 99s 760ms/step - loss: 0.1823 - binary_accuracy: 0.9253 - val_loss: 0.1358 - val_binary_accuracy: 0.9513\n",
      "Epoch 22/50\n",
      "130/130 [==============================] - 100s 761ms/step - loss: 0.1670 - binary_accuracy: 0.9395 - val_loss: 0.1355 - val_binary_accuracy: 0.9503\n",
      "\n",
      "Epoch 00022: ReduceLROnPlateau reducing learning rate to 2.3999998575163774e-07.\n",
      "Epoch 23/50\n",
      "130/130 [==============================] - 99s 760ms/step - loss: 0.1986 - binary_accuracy: 0.9197 - val_loss: 0.1353 - val_binary_accuracy: 0.9503\n",
      "Epoch 24/50\n",
      "130/130 [==============================] - 100s 762ms/step - loss: 0.1758 - binary_accuracy: 0.9293 - val_loss: 0.1352 - val_binary_accuracy: 0.9503\n",
      "\n",
      "Epoch 00024: ReduceLROnPlateau reducing learning rate to 4.799999828719592e-08.\n",
      "Epoch 25/50\n",
      "130/130 [==============================] - 100s 761ms/step - loss: 0.1900 - binary_accuracy: 0.9283 - val_loss: 0.1351 - val_binary_accuracy: 0.9503\n"
     ]
    }
   ],
   "source": [
    "history = model.fit(ds_train,\n",
    "          batch_size = BATCH, epochs = 50,\n",
    "          validation_data=ds_val,\n",
    "          callbacks=[early_stopping, plateau],\n",
    "          steps_per_epoch=(len(train_df)/BATCH),\n",
    "          validation_steps=(len(val_df)/BATCH));"
   ]
  },
  {
   "cell_type": "code",
   "execution_count": 45,
   "metadata": {
    "_kg_hide-input": true,
    "execution": {
     "iopub.execute_input": "2021-09-21T07:32:47.118055Z",
     "iopub.status.busy": "2021-09-21T07:32:47.117796Z",
     "iopub.status.idle": "2021-09-21T07:32:47.380527Z",
     "shell.execute_reply": "2021-09-21T07:32:47.379875Z",
     "shell.execute_reply.started": "2021-09-21T07:32:47.118023Z"
    }
   },
   "outputs": [
    {
     "data": {
      "image/png": "[encoded data removed]",
      "text/plain": [
       "<Figure size 1440x576 with 1 Axes>"
      ]
     },
     "metadata": {
      "needs_background": "light"
     },
     "output_type": "display_data"
    }
   ],
   "source": [
    "fig, ax = plt.subplots(figsize=(20,8))\n",
    "sns.lineplot(x = history.epoch, y = history.history['loss'])\n",
    "sns.lineplot(x = history.epoch, y = history.history['val_loss'])\n",
    "ax.set_title('Learning Curve (Loss)')\n",
    "ax.set_ylabel('Loss')\n",
    "ax.set_xlabel('Epoch')\n",
    "ax.set_ylim(0, 0.5)\n",
    "ax.legend(['train', 'val'], loc='best')\n",
    "plt.show()"
   ]
  },
  {
   "cell_type": "code",
   "execution_count": 46,
   "metadata": {
    "_kg_hide-input": true,
    "execution": {
     "iopub.execute_input": "2021-09-21T07:32:47.382133Z",
     "iopub.status.busy": "2021-09-21T07:32:47.381888Z",
     "iopub.status.idle": "2021-09-21T07:32:47.650381Z",
     "shell.execute_reply": "2021-09-21T07:32:47.649710Z",
     "shell.execute_reply.started": "2021-09-21T07:32:47.382101Z"
    }
   },
   "outputs": [
    {
     "data": {
      "image/png": "[encoded data removed]",
      "text/plain": [
       "<Figure size 1440x576 with 1 Axes>"
      ]
     },
     "metadata": {
      "needs_background": "light"
     },
     "output_type": "display_data"
    }
   ],
   "source": [
    "fig, ax = plt.subplots(figsize=(20,8))\n",
    "sns.lineplot(x = history.epoch, y = history.history['binary_accuracy'])\n",
    "sns.lineplot(x = history.epoch, y = history.history['val_binary_accuracy'])\n",
    "ax.set_title('Learning Curve (Accuracy)')\n",
    "ax.set_ylabel('Accuracy')\n",
    "ax.set_xlabel('Epoch')\n",
    "ax.set_ylim(0.80, 1.0)\n",
    "ax.legend(['train', 'val'], loc='best')\n",
    "plt.show()"
   ]
  },
  {
   "cell_type": "code",
   "execution_count": 47,
   "metadata": {
    "execution": {
     "iopub.execute_input": "2021-09-21T07:32:47.651965Z",
     "iopub.status.busy": "2021-09-21T07:32:47.651686Z",
     "iopub.status.idle": "2021-09-21T07:32:59.539926Z",
     "shell.execute_reply": "2021-09-21T07:32:59.539200Z",
     "shell.execute_reply.started": "2021-09-21T07:32:47.651932Z"
    }
   },
   "outputs": [
    {
     "name": "stdout",
     "output_type": "stream",
     "text": [
      "Val loss: 0.1349286437034607\n",
      "Val accuracy: 0.9522445201873779\n"
     ]
    }
   ],
   "source": [
    "score = model.evaluate(ds_val, steps = len(val_df)/BATCH, verbose = 0)\n",
    "print('Val loss:', score[0])\n",
    "print('Val accuracy:', score[1])"
   ]
  },
  {
   "cell_type": "code",
   "execution_count": 48,
   "metadata": {
    "_kg_hide-input": false,
    "execution": {
     "iopub.execute_input": "2021-09-21T07:32:59.541808Z",
     "iopub.status.busy": "2021-09-21T07:32:59.541306Z",
     "iopub.status.idle": "2021-09-21T07:33:11.537571Z",
     "shell.execute_reply": "2021-09-21T07:33:11.536848Z",
     "shell.execute_reply.started": "2021-09-21T07:32:59.541759Z"
    }
   },
   "outputs": [
    {
     "name": "stdout",
     "output_type": "stream",
     "text": [
      "Test loss: 0.4296790361404419\n",
      "Test accuracy: 0.8493589758872986\n"
     ]
    }
   ],
   "source": [
    "score = model.evaluate(ds_test, steps = len(df_test), verbose = 0)\n",
    "\n",
    "print('Test loss:', score[0])\n",
    "print('Test accuracy:', score[1])"
   ]
  },
  {
   "cell_type": "markdown",
   "metadata": {},
   "source": [
    "# <a id=\"6\">Transfer Learning</a> "
   ]
  },
  {
   "cell_type": "markdown",
   "metadata": {},
   "source": [
    "The second approach, called transfer learning, consists of using a pretrained model as a feature extractor. In this notebook, the selected model was the ResNet152V2 available on the Keras Package [(link)](https://keras.io/api/applications/resnet/#resnet152v2-function). \n",
    "\n",
    "This model was already trained in another dataset (ImageNet). What we do here is to set include_top to false, removing the ‘head’, responsible for assigning the classes in this other dataset, and keep all the previous layers. Then, we include our last few layers, including the one responsible for generating the output.\n",
    "\n"
   ]
  },
  {
   "cell_type": "code",
   "execution_count": 49,
   "metadata": {
    "execution": {
     "iopub.execute_input": "2021-09-21T07:33:11.539239Z",
     "iopub.status.busy": "2021-09-21T07:33:11.538990Z",
     "iopub.status.idle": "2021-09-21T07:33:16.487892Z",
     "shell.execute_reply": "2021-09-21T07:33:16.487140Z",
     "shell.execute_reply.started": "2021-09-21T07:33:11.539207Z"
    }
   },
   "outputs": [
    {
     "name": "stdout",
     "output_type": "stream",
     "text": [
      "Downloading data from https://storage.googleapis.com/tensorflow/keras-applications/resnet/resnet152v2_weights_tf_dim_ordering_tf_kernels_notop.h5\n",
      "234553344/234545216 [==============================] - 1s 0us/step\n"
     ]
    }
   ],
   "source": [
    "base_model = tf.keras.applications.ResNet152V2(\n",
    "    weights='imagenet',\n",
    "    input_shape=(IMG_SIZE, IMG_SIZE, 3),\n",
    "    include_top=False)\n",
    "\n",
    "base_model.trainable = False\n",
    "\n",
    "def get_pretrained():\n",
    "    \n",
    "    #Input shape = [width, height, color channels]\n",
    "    inputs = layers.Input(shape=(IMG_SIZE, IMG_SIZE, 3))\n",
    "    \n",
    "    x = base_model(inputs)\n",
    "\n",
    "    # Head\n",
    "    x = layers.GlobalAveragePooling2D()(x)\n",
    "    x = layers.Dense(128, activation='relu')(x)\n",
    "    x = layers.Dropout(0.1)(x)\n",
    "    \n",
    "    #Final Layer (Output)\n",
    "    output = layers.Dense(1, activation='sigmoid')(x)\n",
    "    \n",
    "    model = keras.Model(inputs=[inputs], outputs=output)\n",
    "    \n",
    "    return model"
   ]
  },
  {
   "cell_type": "code",
   "execution_count": 50,
   "metadata": {
    "execution": {
     "iopub.execute_input": "2021-09-21T07:33:16.489387Z",
     "iopub.status.busy": "2021-09-21T07:33:16.489135Z",
     "iopub.status.idle": "2021-09-21T07:33:17.694248Z",
     "shell.execute_reply": "2021-09-21T07:33:17.693474Z",
     "shell.execute_reply.started": "2021-09-21T07:33:16.489357Z"
    }
   },
   "outputs": [
    {
     "name": "stdout",
     "output_type": "stream",
     "text": [
      "Model: \"model\"\n",
      "_________________________________________________________________\n",
      "Layer (type)                 Output Shape              Param #   \n",
      "=================================================================\n",
      "input_1 (InputLayer)         [(None, 224, 224, 3)]     0         \n",
      "_________________________________________________________________\n",
      "resnet152v2 (Functional)     (None, 7, 7, 2048)        58331648  \n",
      "_________________________________________________________________\n",
      "global_average_pooling2d (Gl (None, 2048)              0         \n",
      "_________________________________________________________________\n",
      "dense (Dense)                (None, 128)               262272    \n",
      "_________________________________________________________________\n",
      "dropout (Dropout)            (None, 128)               0         \n",
      "_________________________________________________________________\n",
      "dense_1 (Dense)              (None, 1)                 129       \n",
      "=================================================================\n",
      "Total params: 58,594,049\n",
      "Trainable params: 262,401\n",
      "Non-trainable params: 58,331,648\n",
      "_________________________________________________________________\n"
     ]
    }
   ],
   "source": [
    "keras.backend.clear_session()\n",
    "\n",
    "model_pretrained = get_pretrained()\n",
    "model_pretrained.compile(loss='binary_crossentropy'\n",
    "              , optimizer = keras.optimizers.Adam(learning_rate=0.00005), metrics='binary_accuracy')\n",
    "\n",
    "model_pretrained.summary()"
   ]
  },
  {
   "cell_type": "code",
   "execution_count": 51,
   "metadata": {
    "_kg_hide-output": true,
    "execution": {
     "iopub.execute_input": "2021-09-21T07:33:17.695604Z",
     "iopub.status.busy": "2021-09-21T07:33:17.695371Z",
     "iopub.status.idle": "2021-09-21T08:14:43.093210Z",
     "shell.execute_reply": "2021-09-21T08:14:43.092428Z",
     "shell.execute_reply.started": "2021-09-21T07:33:17.695571Z"
    }
   },
   "outputs": [
    {
     "name": "stdout",
     "output_type": "stream",
     "text": [
      "Epoch 1/50\n",
      "130/130 [==============================] - 115s 817ms/step - loss: 0.6397 - binary_accuracy: 0.6697 - val_loss: 0.2379 - val_binary_accuracy: 0.9179\n",
      "Epoch 2/50\n",
      "130/130 [==============================] - 104s 791ms/step - loss: 0.2347 - binary_accuracy: 0.9156 - val_loss: 0.1784 - val_binary_accuracy: 0.9379\n",
      "Epoch 3/50\n",
      "130/130 [==============================] - 103s 789ms/step - loss: 0.1833 - binary_accuracy: 0.9363 - val_loss: 0.1586 - val_binary_accuracy: 0.9475\n",
      "Epoch 4/50\n",
      "130/130 [==============================] - 104s 795ms/step - loss: 0.1761 - binary_accuracy: 0.9292 - val_loss: 0.1418 - val_binary_accuracy: 0.9522\n",
      "Epoch 5/50\n",
      "130/130 [==============================] - 103s 788ms/step - loss: 0.1471 - binary_accuracy: 0.9466 - val_loss: 0.1347 - val_binary_accuracy: 0.9561\n",
      "Epoch 6/50\n",
      "130/130 [==============================] - 104s 792ms/step - loss: 0.1403 - binary_accuracy: 0.9473 - val_loss: 0.1278 - val_binary_accuracy: 0.9561\n",
      "Epoch 7/50\n",
      "130/130 [==============================] - 103s 787ms/step - loss: 0.1185 - binary_accuracy: 0.9540 - val_loss: 0.1201 - val_binary_accuracy: 0.9608\n",
      "Epoch 8/50\n",
      "130/130 [==============================] - 103s 790ms/step - loss: 0.1305 - binary_accuracy: 0.9502 - val_loss: 0.1145 - val_binary_accuracy: 0.9637\n",
      "Epoch 9/50\n",
      "130/130 [==============================] - 103s 786ms/step - loss: 0.1094 - binary_accuracy: 0.9569 - val_loss: 0.1148 - val_binary_accuracy: 0.9599\n",
      "Epoch 10/50\n",
      "130/130 [==============================] - 102s 784ms/step - loss: 0.1166 - binary_accuracy: 0.9581 - val_loss: 0.1089 - val_binary_accuracy: 0.9637\n",
      "Epoch 11/50\n",
      "130/130 [==============================] - 103s 786ms/step - loss: 0.1203 - binary_accuracy: 0.9584 - val_loss: 0.1103 - val_binary_accuracy: 0.9599\n",
      "Epoch 12/50\n",
      "130/130 [==============================] - 102s 784ms/step - loss: 0.1107 - binary_accuracy: 0.9628 - val_loss: 0.1052 - val_binary_accuracy: 0.9618\n",
      "Epoch 13/50\n",
      "130/130 [==============================] - 103s 786ms/step - loss: 0.1032 - binary_accuracy: 0.9651 - val_loss: 0.1158 - val_binary_accuracy: 0.9608\n",
      "Epoch 14/50\n",
      "130/130 [==============================] - 102s 783ms/step - loss: 0.1211 - binary_accuracy: 0.9558 - val_loss: 0.0997 - val_binary_accuracy: 0.9666\n",
      "Epoch 15/50\n",
      "130/130 [==============================] - 102s 781ms/step - loss: 0.1006 - binary_accuracy: 0.9642 - val_loss: 0.1142 - val_binary_accuracy: 0.9618\n",
      "Epoch 16/50\n",
      "130/130 [==============================] - 102s 783ms/step - loss: 0.0930 - binary_accuracy: 0.9648 - val_loss: 0.0987 - val_binary_accuracy: 0.9694\n",
      "Epoch 17/50\n",
      "130/130 [==============================] - 103s 784ms/step - loss: 0.1035 - binary_accuracy: 0.9608 - val_loss: 0.0976 - val_binary_accuracy: 0.9694\n",
      "Epoch 18/50\n",
      "130/130 [==============================] - 103s 789ms/step - loss: 0.0897 - binary_accuracy: 0.9640 - val_loss: 0.0971 - val_binary_accuracy: 0.9694\n",
      "Epoch 19/50\n",
      "130/130 [==============================] - 102s 784ms/step - loss: 0.0979 - binary_accuracy: 0.9607 - val_loss: 0.0960 - val_binary_accuracy: 0.9694\n",
      "Epoch 20/50\n",
      "130/130 [==============================] - 102s 783ms/step - loss: 0.1003 - binary_accuracy: 0.9697 - val_loss: 0.1033 - val_binary_accuracy: 0.9656\n",
      "Epoch 21/50\n",
      "130/130 [==============================] - 103s 784ms/step - loss: 0.0948 - binary_accuracy: 0.9664 - val_loss: 0.1096 - val_binary_accuracy: 0.9647\n",
      "\n",
      "Epoch 00021: ReduceLROnPlateau reducing learning rate to 9.999999747378752e-06.\n",
      "Epoch 22/50\n",
      "130/130 [==============================] - 102s 782ms/step - loss: 0.0757 - binary_accuracy: 0.9710 - val_loss: 0.0983 - val_binary_accuracy: 0.9675\n",
      "Epoch 23/50\n",
      "130/130 [==============================] - 102s 782ms/step - loss: 0.0776 - binary_accuracy: 0.9732 - val_loss: 0.1015 - val_binary_accuracy: 0.9656\n",
      "\n",
      "Epoch 00023: ReduceLROnPlateau reducing learning rate to 1.9999999494757505e-06.\n",
      "Epoch 24/50\n",
      "130/130 [==============================] - 102s 783ms/step - loss: 0.0920 - binary_accuracy: 0.9631 - val_loss: 0.0998 - val_binary_accuracy: 0.9666\n"
     ]
    }
   ],
   "source": [
    "history = model_pretrained.fit(ds_train,\n",
    "          batch_size = BATCH, epochs = 50,\n",
    "          validation_data=ds_val,\n",
    "          callbacks=[early_stopping, plateau],\n",
    "          steps_per_epoch=(len(train_df)/BATCH),\n",
    "          validation_steps=(len(val_df)/BATCH));"
   ]
  },
  {
   "cell_type": "code",
   "execution_count": 52,
   "metadata": {
    "_kg_hide-input": true,
    "execution": {
     "iopub.execute_input": "2021-09-21T08:14:43.095020Z",
     "iopub.status.busy": "2021-09-21T08:14:43.094763Z",
     "iopub.status.idle": "2021-09-21T08:14:43.428910Z",
     "shell.execute_reply": "2021-09-21T08:14:43.428249Z",
     "shell.execute_reply.started": "2021-09-21T08:14:43.094986Z"
    }
   },
   "outputs": [
    {
     "data": {
      "image/png": "[encoded data removed]",
      "text/plain": [
       "<Figure size 1440x576 with 1 Axes>"
      ]
     },
     "metadata": {
      "needs_background": "light"
     },
     "output_type": "display_data"
    }
   ],
   "source": [
    "fig, ax = plt.subplots(figsize=(20,8))\n",
    "sns.lineplot(x = history.epoch, y = history.history['loss'])\n",
    "sns.lineplot(x = history.epoch, y = history.history['val_loss'])\n",
    "ax.set_title('Learning Curve (Loss)')\n",
    "ax.set_ylabel('Loss')\n",
    "ax.set_xlabel('Epoch')\n",
    "ax.set_ylim(0, 0.5)\n",
    "ax.legend(['train', 'val'], loc='best')\n",
    "plt.show()"
   ]
  },
  {
   "cell_type": "code",
   "execution_count": 53,
   "metadata": {
    "_kg_hide-input": true,
    "execution": {
     "iopub.execute_input": "2021-09-21T08:14:43.435469Z",
     "iopub.status.busy": "2021-09-21T08:14:43.432402Z",
     "iopub.status.idle": "2021-09-21T08:14:43.765906Z",
     "shell.execute_reply": "2021-09-21T08:14:43.765231Z",
     "shell.execute_reply.started": "2021-09-21T08:14:43.435431Z"
    }
   },
   "outputs": [
    {
     "data": {
      "image/png": "[encoded data removed]",
      "text/plain": [
       "<Figure size 1440x576 with 1 Axes>"
      ]
     },
     "metadata": {
      "needs_background": "light"
     },
     "output_type": "display_data"
    }
   ],
   "source": [
    "fig, ax = plt.subplots(figsize=(20,8))\n",
    "sns.lineplot(x = history.epoch, y = history.history['binary_accuracy'])\n",
    "sns.lineplot(x = history.epoch, y = history.history['val_binary_accuracy'])\n",
    "ax.set_title('Learning Curve (Accuracy)')\n",
    "ax.set_ylabel('Accuracy')\n",
    "ax.set_xlabel('Epoch')\n",
    "ax.set_ylim(0.80, 1.0)\n",
    "ax.legend(['train', 'val'], loc='best')\n",
    "plt.show()"
   ]
  },
  {
   "cell_type": "code",
   "execution_count": 54,
   "metadata": {
    "execution": {
     "iopub.execute_input": "2021-09-21T08:14:43.771683Z",
     "iopub.status.busy": "2021-09-21T08:14:43.769498Z",
     "iopub.status.idle": "2021-09-21T08:14:57.190558Z",
     "shell.execute_reply": "2021-09-21T08:14:57.189827Z",
     "shell.execute_reply.started": "2021-09-21T08:14:43.771646Z"
    }
   },
   "outputs": [
    {
     "name": "stdout",
     "output_type": "stream",
     "text": [
      "Val loss: 0.09604005515575409\n",
      "Val accuracy: 0.9694364666938782\n"
     ]
    }
   ],
   "source": [
    "score = model_pretrained.evaluate(ds_val, steps = len(val_df)/BATCH, verbose = 0)\n",
    "print('Val loss:', score[0])\n",
    "print('Val accuracy:', score[1])"
   ]
  },
  {
   "cell_type": "code",
   "execution_count": 55,
   "metadata": {
    "_kg_hide-input": false,
    "execution": {
     "iopub.execute_input": "2021-09-21T08:14:57.192472Z",
     "iopub.status.busy": "2021-09-21T08:14:57.191679Z",
     "iopub.status.idle": "2021-09-21T08:15:15.705981Z",
     "shell.execute_reply": "2021-09-21T08:15:15.705205Z",
     "shell.execute_reply.started": "2021-09-21T08:14:57.192435Z"
    }
   },
   "outputs": [
    {
     "name": "stdout",
     "output_type": "stream",
     "text": [
      "Test loss: 0.28737810254096985\n",
      "Test accuracy: 0.8814102411270142\n"
     ]
    }
   ],
   "source": [
    "score = model_pretrained.evaluate(ds_test, steps = len(df_test), verbose = 0)\n",
    "print('Test loss:', score[0])\n",
    "print('Test accuracy:', score[1])"
   ]
  },
  {
   "cell_type": "markdown",
   "metadata": {},
   "source": [
    "# <a id=\"7\">Fine Tuning</a> "
   ]
  },
  {
   "cell_type": "markdown",
   "metadata": {},
   "source": [
    "Our last approach is called Fine Tuning. In the last section, all the layers from the pretrained model were ‘frozen’, preserving the weights calculated during its training on the ImageNet dataset. Now, we are going to unfreeze a few of its last layers and continue the training, tuning the weights from these layers according to our dataset."
   ]
  },
  {
   "cell_type": "code",
   "execution_count": 56,
   "metadata": {
    "execution": {
     "iopub.execute_input": "2021-09-21T08:15:15.707649Z",
     "iopub.status.busy": "2021-09-21T08:15:15.707243Z",
     "iopub.status.idle": "2021-09-21T08:15:15.744581Z",
     "shell.execute_reply": "2021-09-21T08:15:15.743923Z",
     "shell.execute_reply.started": "2021-09-21T08:15:15.707612Z"
    }
   },
   "outputs": [],
   "source": [
    "base_model.trainable = True\n",
    "\n",
    "# Freeze all layers except for the\n",
    "for layer in base_model.layers[:-13]:\n",
    "    layer.trainable = False"
   ]
  },
  {
   "cell_type": "code",
   "execution_count": 57,
   "metadata": {
    "_kg_hide-input": true,
    "_kg_hide-output": true,
    "execution": {
     "iopub.execute_input": "2021-09-21T08:15:15.746084Z",
     "iopub.status.busy": "2021-09-21T08:15:15.745766Z",
     "iopub.status.idle": "2021-09-21T08:15:15.941767Z",
     "shell.execute_reply": "2021-09-21T08:15:15.928807Z",
     "shell.execute_reply.started": "2021-09-21T08:15:15.746048Z"
    }
   },
   "outputs": [
    {
     "name": "stdout",
     "output_type": "stream",
     "text": [
      "0 input_2 False\n",
      "1 conv1_pad False\n",
      "2 conv1_conv False\n",
      "3 pool1_pad False\n",
      "4 pool1_pool False\n",
      "5 conv2_block1_preact_bn False\n",
      "6 conv2_block1_preact_relu False\n",
      "7 conv2_block1_1_conv False\n",
      "8 conv2_block1_1_bn False\n",
      "9 conv2_block1_1_relu False\n",
      "10 conv2_block1_2_pad False\n",
      "11 conv2_block1_2_conv False\n",
      "12 conv2_block1_2_bn False\n",
      "13 conv2_block1_2_relu False\n",
      "14 conv2_block1_0_conv False\n",
      "15 conv2_block1_3_conv False\n",
      "16 conv2_block1_out False\n",
      "17 conv2_block2_preact_bn False\n",
      "18 conv2_block2_preact_relu False\n",
      "19 conv2_block2_1_conv False\n",
      "20 conv2_block2_1_bn False\n",
      "21 conv2_block2_1_relu False\n",
      "22 conv2_block2_2_pad False\n",
      "23 conv2_block2_2_conv False\n",
      "24 conv2_block2_2_bn False\n",
      "25 conv2_block2_2_relu False\n",
      "26 conv2_block2_3_conv False\n",
      "27 conv2_block2_out False\n",
      "28 conv2_block3_preact_bn False\n",
      "29 conv2_block3_preact_relu False\n",
      "30 conv2_block3_1_conv False\n",
      "31 conv2_block3_1_bn False\n",
      "32 conv2_block3_1_relu False\n",
      "33 conv2_block3_2_pad False\n",
      "34 conv2_block3_2_conv False\n",
      "35 conv2_block3_2_bn False\n",
      "36 conv2_block3_2_relu False\n",
      "37 max_pooling2d_3 False\n",
      "38 conv2_block3_3_conv False\n",
      "39 conv2_block3_out False\n",
      "40 conv3_block1_preact_bn False\n",
      "41 conv3_block1_preact_relu False\n",
      "42 conv3_block1_1_conv False\n",
      "43 conv3_block1_1_bn False\n",
      "44 conv3_block1_1_relu False\n",
      "45 conv3_block1_2_pad False\n",
      "46 conv3_block1_2_conv False\n",
      "47 conv3_block1_2_bn False\n",
      "48 conv3_block1_2_relu False\n",
      "49 conv3_block1_0_conv False\n",
      "50 conv3_block1_3_conv False\n",
      "51 conv3_block1_out False\n",
      "52 conv3_block2_preact_bn False\n",
      "53 conv3_block2_preact_relu False\n",
      "54 conv3_block2_1_conv False\n",
      "55 conv3_block2_1_bn False\n",
      "56 conv3_block2_1_relu False\n",
      "57 conv3_block2_2_pad False\n",
      "58 conv3_block2_2_conv False\n",
      "59 conv3_block2_2_bn False\n",
      "60 conv3_block2_2_relu False\n",
      "61 conv3_block2_3_conv False\n",
      "62 conv3_block2_out False\n",
      "63 conv3_block3_preact_bn False\n",
      "64 conv3_block3_preact_relu False\n",
      "65 conv3_block3_1_conv False\n",
      "66 conv3_block3_1_bn False\n",
      "67 conv3_block3_1_relu False\n",
      "68 conv3_block3_2_pad False\n",
      "69 conv3_block3_2_conv False\n",
      "70 conv3_block3_2_bn False\n",
      "71 conv3_block3_2_relu False\n",
      "72 conv3_block3_3_conv False\n",
      "73 conv3_block3_out False\n",
      "74 conv3_block4_preact_bn False\n",
      "75 conv3_block4_preact_relu False\n",
      "76 conv3_block4_1_conv False\n",
      "77 conv3_block4_1_bn False\n",
      "78 conv3_block4_1_relu False\n",
      "79 conv3_block4_2_pad False\n",
      "80 conv3_block4_2_conv False\n",
      "81 conv3_block4_2_bn False\n",
      "82 conv3_block4_2_relu False\n",
      "83 conv3_block4_3_conv False\n",
      "84 conv3_block4_out False\n",
      "85 conv3_block5_preact_bn False\n",
      "86 conv3_block5_preact_relu False\n",
      "87 conv3_block5_1_conv False\n",
      "88 conv3_block5_1_bn False\n",
      "89 conv3_block5_1_relu False\n",
      "90 conv3_block5_2_pad False\n",
      "91 conv3_block5_2_conv False\n",
      "92 conv3_block5_2_bn False\n",
      "93 conv3_block5_2_relu False\n",
      "94 conv3_block5_3_conv False\n",
      "95 conv3_block5_out False\n",
      "96 conv3_block6_preact_bn False\n",
      "97 conv3_block6_preact_relu False\n",
      "98 conv3_block6_1_conv False\n",
      "99 conv3_block6_1_bn False\n",
      "100 conv3_block6_1_relu False\n",
      "101 conv3_block6_2_pad False\n",
      "102 conv3_block6_2_conv False\n",
      "103 conv3_block6_2_bn False\n",
      "104 conv3_block6_2_relu False\n",
      "105 conv3_block6_3_conv False\n",
      "106 conv3_block6_out False\n",
      "107 conv3_block7_preact_bn False\n",
      "108 conv3_block7_preact_relu False\n",
      "109 conv3_block7_1_conv False\n",
      "110 conv3_block7_1_bn False\n",
      "111 conv3_block7_1_relu False\n",
      "112 conv3_block7_2_pad False\n",
      "113 conv3_block7_2_conv False\n",
      "114 conv3_block7_2_bn False\n",
      "115 conv3_block7_2_relu False\n",
      "116 conv3_block7_3_conv False\n",
      "117 conv3_block7_out False\n",
      "118 conv3_block8_preact_bn False\n",
      "119 conv3_block8_preact_relu False\n",
      "120 conv3_block8_1_conv False\n",
      "121 conv3_block8_1_bn False\n",
      "122 conv3_block8_1_relu False\n",
      "123 conv3_block8_2_pad False\n",
      "124 conv3_block8_2_conv False\n",
      "125 conv3_block8_2_bn False\n",
      "126 conv3_block8_2_relu False\n",
      "127 max_pooling2d_4 False\n",
      "128 conv3_block8_3_conv False\n",
      "129 conv3_block8_out False\n",
      "130 conv4_block1_preact_bn False\n",
      "131 conv4_block1_preact_relu False\n",
      "132 conv4_block1_1_conv False\n",
      "133 conv4_block1_1_bn False\n",
      "134 conv4_block1_1_relu False\n",
      "135 conv4_block1_2_pad False\n",
      "136 conv4_block1_2_conv False\n",
      "137 conv4_block1_2_bn False\n",
      "138 conv4_block1_2_relu False\n",
      "139 conv4_block1_0_conv False\n",
      "140 conv4_block1_3_conv False\n",
      "141 conv4_block1_out False\n",
      "142 conv4_block2_preact_bn False\n",
      "143 conv4_block2_preact_relu False\n",
      "144 conv4_block2_1_conv False\n",
      "145 conv4_block2_1_bn False\n",
      "146 conv4_block2_1_relu False\n",
      "147 conv4_block2_2_pad False\n",
      "148 conv4_block2_2_conv False\n",
      "149 conv4_block2_2_bn False\n",
      "150 conv4_block2_2_relu False\n",
      "151 conv4_block2_3_conv False\n",
      "152 conv4_block2_out False\n",
      "153 conv4_block3_preact_bn False\n",
      "154 conv4_block3_preact_relu False\n",
      "155 conv4_block3_1_conv False\n",
      "156 conv4_block3_1_bn False\n",
      "157 conv4_block3_1_relu False\n",
      "158 conv4_block3_2_pad False\n",
      "159 conv4_block3_2_conv False\n",
      "160 conv4_block3_2_bn False\n",
      "161 conv4_block3_2_relu False\n",
      "162 conv4_block3_3_conv False\n",
      "163 conv4_block3_out False\n",
      "164 conv4_block4_preact_bn False\n",
      "165 conv4_block4_preact_relu False\n",
      "166 conv4_block4_1_conv False\n",
      "167 conv4_block4_1_bn False\n",
      "168 conv4_block4_1_relu False\n",
      "169 conv4_block4_2_pad False\n",
      "170 conv4_block4_2_conv False\n",
      "171 conv4_block4_2_bn False\n",
      "172 conv4_block4_2_relu False\n",
      "173 conv4_block4_3_conv False\n",
      "174 conv4_block4_out False\n",
      "175 conv4_block5_preact_bn False\n",
      "176 conv4_block5_preact_relu False\n",
      "177 conv4_block5_1_conv False\n",
      "178 conv4_block5_1_bn False\n",
      "179 conv4_block5_1_relu False\n",
      "180 conv4_block5_2_pad False\n",
      "181 conv4_block5_2_conv False\n",
      "182 conv4_block5_2_bn False\n",
      "183 conv4_block5_2_relu False\n",
      "184 conv4_block5_3_conv False\n",
      "185 conv4_block5_out False\n",
      "186 conv4_block6_preact_bn False\n",
      "187 conv4_block6_preact_relu False\n",
      "188 conv4_block6_1_conv False\n",
      "189 conv4_block6_1_bn False\n",
      "190 conv4_block6_1_relu False\n",
      "191 conv4_block6_2_pad False\n",
      "192 conv4_block6_2_conv False\n",
      "193 conv4_block6_2_bn False\n",
      "194 conv4_block6_2_relu False\n",
      "195 conv4_block6_3_conv False\n",
      "196 conv4_block6_out False\n",
      "197 conv4_block7_preact_bn False\n",
      "198 conv4_block7_preact_relu False\n",
      "199 conv4_block7_1_conv False\n",
      "200 conv4_block7_1_bn False\n",
      "201 conv4_block7_1_relu False\n",
      "202 conv4_block7_2_pad False\n",
      "203 conv4_block7_2_conv False\n",
      "204 conv4_block7_2_bn False\n",
      "205 conv4_block7_2_relu False\n",
      "206 conv4_block7_3_conv False\n",
      "207 conv4_block7_out False\n",
      "208 conv4_block8_preact_bn False\n",
      "209 conv4_block8_preact_relu False\n",
      "210 conv4_block8_1_conv False\n",
      "211 conv4_block8_1_bn False\n",
      "212 conv4_block8_1_relu False\n",
      "213 conv4_block8_2_pad False\n",
      "214 conv4_block8_2_conv False\n",
      "215 conv4_block8_2_bn False\n",
      "216 conv4_block8_2_relu False\n",
      "217 conv4_block8_3_conv False\n",
      "218 conv4_block8_out False\n",
      "219 conv4_block9_preact_bn False\n",
      "220 conv4_block9_preact_relu False\n",
      "221 conv4_block9_1_conv False\n",
      "222 conv4_block9_1_bn False\n",
      "223 conv4_block9_1_relu False\n",
      "224 conv4_block9_2_pad False\n",
      "225 conv4_block9_2_conv False\n",
      "226 conv4_block9_2_bn False\n",
      "227 conv4_block9_2_relu False\n",
      "228 conv4_block9_3_conv False\n",
      "229 conv4_block9_out False\n",
      "230 conv4_block10_preact_bn False\n",
      "231 conv4_block10_preact_relu False\n",
      "232 conv4_block10_1_conv False\n",
      "233 conv4_block10_1_bn False\n",
      "234 conv4_block10_1_relu False\n",
      "235 conv4_block10_2_pad False\n",
      "236 conv4_block10_2_conv False\n",
      "237 conv4_block10_2_bn False\n",
      "238 conv4_block10_2_relu False\n",
      "239 conv4_block10_3_conv False\n",
      "240 conv4_block10_out False\n",
      "241 conv4_block11_preact_bn False\n",
      "242 conv4_block11_preact_relu False\n",
      "243 conv4_block11_1_conv False\n",
      "244 conv4_block11_1_bn False\n",
      "245 conv4_block11_1_relu False\n",
      "246 conv4_block11_2_pad False\n",
      "247 conv4_block11_2_conv False\n",
      "248 conv4_block11_2_bn False\n",
      "249 conv4_block11_2_relu False\n",
      "250 conv4_block11_3_conv False\n",
      "251 conv4_block11_out False\n",
      "252 conv4_block12_preact_bn False\n",
      "253 conv4_block12_preact_relu False\n",
      "254 conv4_block12_1_conv False\n",
      "255 conv4_block12_1_bn False\n",
      "256 conv4_block12_1_relu False\n",
      "257 conv4_block12_2_pad False\n",
      "258 conv4_block12_2_conv False\n",
      "259 conv4_block12_2_bn False\n",
      "260 conv4_block12_2_relu False\n",
      "261 conv4_block12_3_conv False\n",
      "262 conv4_block12_out False\n",
      "263 conv4_block13_preact_bn False\n",
      "264 conv4_block13_preact_relu False\n",
      "265 conv4_block13_1_conv False\n",
      "266 conv4_block13_1_bn False\n",
      "267 conv4_block13_1_relu False\n",
      "268 conv4_block13_2_pad False\n",
      "269 conv4_block13_2_conv False\n",
      "270 conv4_block13_2_bn False\n",
      "271 conv4_block13_2_relu False\n",
      "272 conv4_block13_3_conv False\n",
      "273 conv4_block13_out False\n",
      "274 conv4_block14_preact_bn False\n",
      "275 conv4_block14_preact_relu False\n",
      "276 conv4_block14_1_conv False\n",
      "277 conv4_block14_1_bn False\n",
      "278 conv4_block14_1_relu False\n",
      "279 conv4_block14_2_pad False\n",
      "280 conv4_block14_2_conv False\n",
      "281 conv4_block14_2_bn False\n",
      "282 conv4_block14_2_relu False\n",
      "283 conv4_block14_3_conv False\n",
      "284 conv4_block14_out False\n",
      "285 conv4_block15_preact_bn False\n",
      "286 conv4_block15_preact_relu False\n",
      "287 conv4_block15_1_conv False\n",
      "288 conv4_block15_1_bn False\n",
      "289 conv4_block15_1_relu False\n",
      "290 conv4_block15_2_pad False\n",
      "291 conv4_block15_2_conv False\n",
      "292 conv4_block15_2_bn False\n",
      "293 conv4_block15_2_relu False\n",
      "294 conv4_block15_3_conv False\n",
      "295 conv4_block15_out False\n",
      "296 conv4_block16_preact_bn False\n",
      "297 conv4_block16_preact_relu False\n",
      "298 conv4_block16_1_conv False\n",
      "299 conv4_block16_1_bn False\n",
      "300 conv4_block16_1_relu False\n",
      "301 conv4_block16_2_pad False\n",
      "302 conv4_block16_2_conv False\n",
      "303 conv4_block16_2_bn False\n",
      "304 conv4_block16_2_relu False\n",
      "305 conv4_block16_3_conv False\n",
      "306 conv4_block16_out False\n",
      "307 conv4_block17_preact_bn False\n",
      "308 conv4_block17_preact_relu False\n",
      "309 conv4_block17_1_conv False\n",
      "310 conv4_block17_1_bn False\n",
      "311 conv4_block17_1_relu False\n",
      "312 conv4_block17_2_pad False\n",
      "313 conv4_block17_2_conv False\n",
      "314 conv4_block17_2_bn False\n",
      "315 conv4_block17_2_relu False\n",
      "316 conv4_block17_3_conv False\n",
      "317 conv4_block17_out False\n",
      "318 conv4_block18_preact_bn False\n",
      "319 conv4_block18_preact_relu False\n",
      "320 conv4_block18_1_conv False\n",
      "321 conv4_block18_1_bn False\n",
      "322 conv4_block18_1_relu False\n",
      "323 conv4_block18_2_pad False\n",
      "324 conv4_block18_2_conv False\n",
      "325 conv4_block18_2_bn False\n",
      "326 conv4_block18_2_relu False\n",
      "327 conv4_block18_3_conv False\n",
      "328 conv4_block18_out False\n",
      "329 conv4_block19_preact_bn False\n",
      "330 conv4_block19_preact_relu False\n",
      "331 conv4_block19_1_conv False\n",
      "332 conv4_block19_1_bn False\n",
      "333 conv4_block19_1_relu False\n",
      "334 conv4_block19_2_pad False\n",
      "335 conv4_block19_2_conv False\n",
      "336 conv4_block19_2_bn False\n",
      "337 conv4_block19_2_relu False\n",
      "338 conv4_block19_3_conv False\n",
      "339 conv4_block19_out False\n",
      "340 conv4_block20_preact_bn False\n",
      "341 conv4_block20_preact_relu False\n",
      "342 conv4_block20_1_conv False\n",
      "343 conv4_block20_1_bn False\n",
      "344 conv4_block20_1_relu False\n",
      "345 conv4_block20_2_pad False\n",
      "346 conv4_block20_2_conv False\n",
      "347 conv4_block20_2_bn False\n",
      "348 conv4_block20_2_relu False\n",
      "349 conv4_block20_3_conv False\n",
      "350 conv4_block20_out False\n",
      "351 conv4_block21_preact_bn False\n",
      "352 conv4_block21_preact_relu False\n",
      "353 conv4_block21_1_conv False\n",
      "354 conv4_block21_1_bn False\n",
      "355 conv4_block21_1_relu False\n",
      "356 conv4_block21_2_pad False\n",
      "357 conv4_block21_2_conv False\n",
      "358 conv4_block21_2_bn False\n",
      "359 conv4_block21_2_relu False\n",
      "360 conv4_block21_3_conv False\n",
      "361 conv4_block21_out False\n",
      "362 conv4_block22_preact_bn False\n",
      "363 conv4_block22_preact_relu False\n",
      "364 conv4_block22_1_conv False\n",
      "365 conv4_block22_1_bn False\n",
      "366 conv4_block22_1_relu False\n",
      "367 conv4_block22_2_pad False\n",
      "368 conv4_block22_2_conv False\n",
      "369 conv4_block22_2_bn False\n",
      "370 conv4_block22_2_relu False\n",
      "371 conv4_block22_3_conv False\n",
      "372 conv4_block22_out False\n",
      "373 conv4_block23_preact_bn False\n",
      "374 conv4_block23_preact_relu False\n",
      "375 conv4_block23_1_conv False\n",
      "376 conv4_block23_1_bn False\n",
      "377 conv4_block23_1_relu False\n",
      "378 conv4_block23_2_pad False\n",
      "379 conv4_block23_2_conv False\n",
      "380 conv4_block23_2_bn False\n",
      "381 conv4_block23_2_relu False\n",
      "382 conv4_block23_3_conv False\n",
      "383 conv4_block23_out False\n",
      "384 conv4_block24_preact_bn False\n",
      "385 conv4_block24_preact_relu False\n",
      "386 conv4_block24_1_conv False\n",
      "387 conv4_block24_1_bn False\n",
      "388 conv4_block24_1_relu False\n",
      "389 conv4_block24_2_pad False\n",
      "390 conv4_block24_2_conv False\n",
      "391 conv4_block24_2_bn False\n",
      "392 conv4_block24_2_relu False\n",
      "393 conv4_block24_3_conv False\n",
      "394 conv4_block24_out False\n",
      "395 conv4_block25_preact_bn False\n",
      "396 conv4_block25_preact_relu False\n",
      "397 conv4_block25_1_conv False\n",
      "398 conv4_block25_1_bn False\n",
      "399 conv4_block25_1_relu False\n",
      "400 conv4_block25_2_pad False\n",
      "401 conv4_block25_2_conv False\n",
      "402 conv4_block25_2_bn False\n",
      "403 conv4_block25_2_relu False\n",
      "404 conv4_block25_3_conv False\n",
      "405 conv4_block25_out False\n",
      "406 conv4_block26_preact_bn False\n",
      "407 conv4_block26_preact_relu False\n",
      "408 conv4_block26_1_conv False\n",
      "409 conv4_block26_1_bn False\n",
      "410 conv4_block26_1_relu False\n",
      "411 conv4_block26_2_pad False\n",
      "412 conv4_block26_2_conv False\n",
      "413 conv4_block26_2_bn False\n",
      "414 conv4_block26_2_relu False\n",
      "415 conv4_block26_3_conv False\n",
      "416 conv4_block26_out False\n",
      "417 conv4_block27_preact_bn False\n",
      "418 conv4_block27_preact_relu False\n",
      "419 conv4_block27_1_conv False\n",
      "420 conv4_block27_1_bn False\n",
      "421 conv4_block27_1_relu False\n",
      "422 conv4_block27_2_pad False\n",
      "423 conv4_block27_2_conv False\n",
      "424 conv4_block27_2_bn False\n",
      "425 conv4_block27_2_relu False\n",
      "426 conv4_block27_3_conv False\n",
      "427 conv4_block27_out False\n",
      "428 conv4_block28_preact_bn False\n",
      "429 conv4_block28_preact_relu False\n",
      "430 conv4_block28_1_conv False\n",
      "431 conv4_block28_1_bn False\n",
      "432 conv4_block28_1_relu False\n",
      "433 conv4_block28_2_pad False\n",
      "434 conv4_block28_2_conv False\n",
      "435 conv4_block28_2_bn False\n",
      "436 conv4_block28_2_relu False\n",
      "437 conv4_block28_3_conv False\n",
      "438 conv4_block28_out False\n",
      "439 conv4_block29_preact_bn False\n",
      "440 conv4_block29_preact_relu False\n",
      "441 conv4_block29_1_conv False\n",
      "442 conv4_block29_1_bn False\n",
      "443 conv4_block29_1_relu False\n",
      "444 conv4_block29_2_pad False\n",
      "445 conv4_block29_2_conv False\n",
      "446 conv4_block29_2_bn False\n",
      "447 conv4_block29_2_relu False\n",
      "448 conv4_block29_3_conv False\n",
      "449 conv4_block29_out False\n",
      "450 conv4_block30_preact_bn False\n",
      "451 conv4_block30_preact_relu False\n",
      "452 conv4_block30_1_conv False\n",
      "453 conv4_block30_1_bn False\n",
      "454 conv4_block30_1_relu False\n",
      "455 conv4_block30_2_pad False\n",
      "456 conv4_block30_2_conv False\n",
      "457 conv4_block30_2_bn False\n",
      "458 conv4_block30_2_relu False\n",
      "459 conv4_block30_3_conv False\n",
      "460 conv4_block30_out False\n",
      "461 conv4_block31_preact_bn False\n",
      "462 conv4_block31_preact_relu False\n",
      "463 conv4_block31_1_conv False\n",
      "464 conv4_block31_1_bn False\n",
      "465 conv4_block31_1_relu False\n",
      "466 conv4_block31_2_pad False\n",
      "467 conv4_block31_2_conv False\n",
      "468 conv4_block31_2_bn False\n",
      "469 conv4_block31_2_relu False\n",
      "470 conv4_block31_3_conv False\n",
      "471 conv4_block31_out False\n",
      "472 conv4_block32_preact_bn False\n",
      "473 conv4_block32_preact_relu False\n",
      "474 conv4_block32_1_conv False\n",
      "475 conv4_block32_1_bn False\n",
      "476 conv4_block32_1_relu False\n",
      "477 conv4_block32_2_pad False\n",
      "478 conv4_block32_2_conv False\n",
      "479 conv4_block32_2_bn False\n",
      "480 conv4_block32_2_relu False\n",
      "481 conv4_block32_3_conv False\n",
      "482 conv4_block32_out False\n",
      "483 conv4_block33_preact_bn False\n",
      "484 conv4_block33_preact_relu False\n",
      "485 conv4_block33_1_conv False\n",
      "486 conv4_block33_1_bn False\n",
      "487 conv4_block33_1_relu False\n",
      "488 conv4_block33_2_pad False\n",
      "489 conv4_block33_2_conv False\n",
      "490 conv4_block33_2_bn False\n",
      "491 conv4_block33_2_relu False\n",
      "492 conv4_block33_3_conv False\n",
      "493 conv4_block33_out False\n",
      "494 conv4_block34_preact_bn False\n",
      "495 conv4_block34_preact_relu False\n",
      "496 conv4_block34_1_conv False\n",
      "497 conv4_block34_1_bn False\n",
      "498 conv4_block34_1_relu False\n",
      "499 conv4_block34_2_pad False\n",
      "500 conv4_block34_2_conv False\n",
      "501 conv4_block34_2_bn False\n",
      "502 conv4_block34_2_relu False\n",
      "503 conv4_block34_3_conv False\n",
      "504 conv4_block34_out False\n",
      "505 conv4_block35_preact_bn False\n",
      "506 conv4_block35_preact_relu False\n",
      "507 conv4_block35_1_conv False\n",
      "508 conv4_block35_1_bn False\n",
      "509 conv4_block35_1_relu False\n",
      "510 conv4_block35_2_pad False\n",
      "511 conv4_block35_2_conv False\n",
      "512 conv4_block35_2_bn False\n",
      "513 conv4_block35_2_relu False\n",
      "514 conv4_block35_3_conv False\n",
      "515 conv4_block35_out False\n",
      "516 conv4_block36_preact_bn False\n",
      "517 conv4_block36_preact_relu False\n",
      "518 conv4_block36_1_conv False\n",
      "519 conv4_block36_1_bn False\n",
      "520 conv4_block36_1_relu False\n",
      "521 conv4_block36_2_pad False\n",
      "522 conv4_block36_2_conv False\n",
      "523 conv4_block36_2_bn False\n",
      "524 conv4_block36_2_relu False\n",
      "525 max_pooling2d_5 False\n",
      "526 conv4_block36_3_conv False\n",
      "527 conv4_block36_out False\n",
      "528 conv5_block1_preact_bn False\n",
      "529 conv5_block1_preact_relu False\n",
      "530 conv5_block1_1_conv False\n",
      "531 conv5_block1_1_bn False\n",
      "532 conv5_block1_1_relu False\n",
      "533 conv5_block1_2_pad False\n",
      "534 conv5_block1_2_conv False\n",
      "535 conv5_block1_2_bn False\n",
      "536 conv5_block1_2_relu False\n",
      "537 conv5_block1_0_conv False\n",
      "538 conv5_block1_3_conv False\n",
      "539 conv5_block1_out False\n",
      "540 conv5_block2_preact_bn False\n",
      "541 conv5_block2_preact_relu False\n",
      "542 conv5_block2_1_conv False\n",
      "543 conv5_block2_1_bn False\n",
      "544 conv5_block2_1_relu False\n",
      "545 conv5_block2_2_pad False\n",
      "546 conv5_block2_2_conv False\n",
      "547 conv5_block2_2_bn False\n",
      "548 conv5_block2_2_relu False\n",
      "549 conv5_block2_3_conv False\n",
      "550 conv5_block2_out False\n",
      "551 conv5_block3_preact_bn True\n",
      "552 conv5_block3_preact_relu True\n",
      "553 conv5_block3_1_conv True\n",
      "554 conv5_block3_1_bn True\n",
      "555 conv5_block3_1_relu True\n",
      "556 conv5_block3_2_pad True\n",
      "557 conv5_block3_2_conv True\n",
      "558 conv5_block3_2_bn True\n",
      "559 conv5_block3_2_relu True\n",
      "560 conv5_block3_3_conv True\n",
      "561 conv5_block3_out True\n",
      "562 post_bn True\n",
      "563 post_relu True\n"
     ]
    }
   ],
   "source": [
    "# Check which layers are tuneable (trainable)\n",
    "for layer_number, layer in enumerate(base_model.layers):\n",
    "    print(layer_number, layer.name, layer.trainable)"
   ]
  },
  {
   "cell_type": "code",
   "execution_count": 58,
   "metadata": {
    "execution": {
     "iopub.execute_input": "2021-09-21T08:15:15.954783Z",
     "iopub.status.busy": "2021-09-21T08:15:15.954569Z",
     "iopub.status.idle": "2021-09-21T08:15:16.008401Z",
     "shell.execute_reply": "2021-09-21T08:15:16.007717Z",
     "shell.execute_reply.started": "2021-09-21T08:15:15.954759Z"
    }
   },
   "outputs": [
    {
     "name": "stdout",
     "output_type": "stream",
     "text": [
      "Model: \"model\"\n",
      "_________________________________________________________________\n",
      "Layer (type)                 Output Shape              Param #   \n",
      "=================================================================\n",
      "input_1 (InputLayer)         [(None, 224, 224, 3)]     0         \n",
      "_________________________________________________________________\n",
      "resnet152v2 (Functional)     (None, 7, 7, 2048)        58331648  \n",
      "_________________________________________________________________\n",
      "global_average_pooling2d (Gl (None, 2048)              0         \n",
      "_________________________________________________________________\n",
      "dense (Dense)                (None, 128)               262272    \n",
      "_________________________________________________________________\n",
      "dropout (Dropout)            (None, 128)               0         \n",
      "_________________________________________________________________\n",
      "dense_1 (Dense)              (None, 1)                 129       \n",
      "=================================================================\n",
      "Total params: 58,594,049\n",
      "Trainable params: 4,731,137\n",
      "Non-trainable params: 53,862,912\n",
      "_________________________________________________________________\n"
     ]
    }
   ],
   "source": [
    "model_pretrained.compile(loss='binary_crossentropy'\n",
    "              , optimizer = keras.optimizers.Adam(learning_rate=0.000002), metrics='binary_accuracy')\n",
    "\n",
    "model_pretrained.summary()"
   ]
  },
  {
   "cell_type": "code",
   "execution_count": 59,
   "metadata": {
    "_kg_hide-output": true,
    "execution": {
     "iopub.execute_input": "2021-09-21T08:15:16.009843Z",
     "iopub.status.busy": "2021-09-21T08:15:16.009583Z",
     "iopub.status.idle": "2021-09-21T08:51:49.847313Z",
     "shell.execute_reply": "2021-09-21T08:51:49.846579Z",
     "shell.execute_reply.started": "2021-09-21T08:15:16.009803Z"
    }
   },
   "outputs": [
    {
     "name": "stdout",
     "output_type": "stream",
     "text": [
      "Epoch 1/50\n",
      "130/130 [==============================] - 113s 802ms/step - loss: 0.1846 - binary_accuracy: 0.9259 - val_loss: 0.1790 - val_binary_accuracy: 0.9446\n",
      "Epoch 2/50\n",
      "130/130 [==============================] - 105s 805ms/step - loss: 0.1608 - binary_accuracy: 0.9419 - val_loss: 0.1463 - val_binary_accuracy: 0.9570\n",
      "Epoch 3/50\n",
      "130/130 [==============================] - 107s 818ms/step - loss: 0.1316 - binary_accuracy: 0.9564 - val_loss: 0.1318 - val_binary_accuracy: 0.9608\n",
      "Epoch 4/50\n",
      "130/130 [==============================] - 103s 790ms/step - loss: 0.1370 - binary_accuracy: 0.9554 - val_loss: 0.1272 - val_binary_accuracy: 0.9608\n",
      "Epoch 5/50\n",
      "130/130 [==============================] - 104s 793ms/step - loss: 0.1315 - binary_accuracy: 0.9561 - val_loss: 0.1232 - val_binary_accuracy: 0.9628\n",
      "Epoch 6/50\n",
      "130/130 [==============================] - 104s 792ms/step - loss: 0.1176 - binary_accuracy: 0.9576 - val_loss: 0.1206 - val_binary_accuracy: 0.9618\n",
      "Epoch 7/50\n",
      "130/130 [==============================] - 103s 790ms/step - loss: 0.1156 - binary_accuracy: 0.9597 - val_loss: 0.1210 - val_binary_accuracy: 0.9589\n",
      "Epoch 8/50\n",
      "130/130 [==============================] - 104s 791ms/step - loss: 0.1166 - binary_accuracy: 0.9607 - val_loss: 0.1171 - val_binary_accuracy: 0.9637\n",
      "Epoch 9/50\n",
      "130/130 [==============================] - 103s 790ms/step - loss: 0.1038 - binary_accuracy: 0.9642 - val_loss: 0.1157 - val_binary_accuracy: 0.9647\n",
      "Epoch 10/50\n",
      "130/130 [==============================] - 104s 795ms/step - loss: 0.1038 - binary_accuracy: 0.9660 - val_loss: 0.1121 - val_binary_accuracy: 0.9656\n",
      "Epoch 11/50\n",
      "130/130 [==============================] - 103s 791ms/step - loss: 0.1129 - binary_accuracy: 0.9596 - val_loss: 0.1131 - val_binary_accuracy: 0.9647\n",
      "Epoch 12/50\n",
      "130/130 [==============================] - 103s 791ms/step - loss: 0.1005 - binary_accuracy: 0.9612 - val_loss: 0.1110 - val_binary_accuracy: 0.9647\n",
      "Epoch 13/50\n",
      "130/130 [==============================] - 103s 790ms/step - loss: 0.1088 - binary_accuracy: 0.9600 - val_loss: 0.1109 - val_binary_accuracy: 0.9647\n",
      "Epoch 14/50\n",
      "130/130 [==============================] - 104s 796ms/step - loss: 0.0948 - binary_accuracy: 0.9636 - val_loss: 0.1080 - val_binary_accuracy: 0.9666\n",
      "Epoch 15/50\n",
      "130/130 [==============================] - 105s 799ms/step - loss: 0.0966 - binary_accuracy: 0.9676 - val_loss: 0.1134 - val_binary_accuracy: 0.9618\n",
      "Epoch 16/50\n",
      "130/130 [==============================] - 103s 789ms/step - loss: 0.0954 - binary_accuracy: 0.9653 - val_loss: 0.1070 - val_binary_accuracy: 0.9675\n",
      "Epoch 17/50\n",
      "130/130 [==============================] - 104s 793ms/step - loss: 0.0999 - binary_accuracy: 0.9596 - val_loss: 0.1106 - val_binary_accuracy: 0.9647\n",
      "Epoch 18/50\n",
      "130/130 [==============================] - 104s 794ms/step - loss: 0.0924 - binary_accuracy: 0.9685 - val_loss: 0.1106 - val_binary_accuracy: 0.9656\n",
      "\n",
      "Epoch 00018: ReduceLROnPlateau reducing learning rate to 3.999999989900971e-07.\n",
      "Epoch 19/50\n",
      "130/130 [==============================] - 103s 787ms/step - loss: 0.0888 - binary_accuracy: 0.9708 - val_loss: 0.1080 - val_binary_accuracy: 0.9666\n",
      "Epoch 20/50\n",
      "130/130 [==============================] - 103s 789ms/step - loss: 0.0815 - binary_accuracy: 0.9738 - val_loss: 0.1094 - val_binary_accuracy: 0.9666\n",
      "\n",
      "Epoch 00020: ReduceLROnPlateau reducing learning rate to 8.00000009348878e-08.\n",
      "Epoch 21/50\n",
      "130/130 [==============================] - 103s 791ms/step - loss: 0.0870 - binary_accuracy: 0.9677 - val_loss: 0.1094 - val_binary_accuracy: 0.9666\n"
     ]
    }
   ],
   "source": [
    "history = model_pretrained.fit(ds_train,\n",
    "          batch_size = BATCH, epochs = 50,\n",
    "          validation_data=ds_val,\n",
    "          callbacks=[early_stopping, plateau],\n",
    "          steps_per_epoch=(len(train_df)/BATCH),\n",
    "          validation_steps=(len(val_df)/BATCH));"
   ]
  },
  {
   "cell_type": "code",
   "execution_count": 70,
   "metadata": {
    "_kg_hide-input": true,
    "execution": {
     "iopub.execute_input": "2021-09-21T08:53:14.756897Z",
     "iopub.status.busy": "2021-09-21T08:53:14.756521Z",
     "iopub.status.idle": "2021-09-21T08:53:15.028355Z",
     "shell.execute_reply": "2021-09-21T08:53:15.027712Z",
     "shell.execute_reply.started": "2021-09-21T08:53:14.756863Z"
    }
   },
   "outputs": [
    {
     "data": {
      "image/png": "[encoded data removed]",
      "text/plain": [
       "<Figure size 1440x576 with 1 Axes>"
      ]
     },
     "metadata": {
      "needs_background": "light"
     },
     "output_type": "display_data"
    }
   ],
   "source": [
    "fig, ax = plt.subplots(figsize=(20,8))\n",
    "sns.lineplot(x = history.epoch, y = history.history['loss'])\n",
    "sns.lineplot(x = history.epoch, y = history.history['val_loss'])\n",
    "ax.set_title('Learning Curve (Loss)')\n",
    "ax.set_ylabel('Loss')\n",
    "ax.set_xlabel('Epoch')\n",
    "ax.set_ylim(0, 0.3)\n",
    "ax.legend(['train', 'val'], loc='best')\n",
    "plt.show()"
   ]
  },
  {
   "cell_type": "code",
   "execution_count": 71,
   "metadata": {
    "_kg_hide-input": true,
    "execution": {
     "iopub.execute_input": "2021-09-21T08:53:25.726590Z",
     "iopub.status.busy": "2021-09-21T08:53:25.726167Z",
     "iopub.status.idle": "2021-09-21T08:53:26.118762Z",
     "shell.execute_reply": "2021-09-21T08:53:26.117940Z",
     "shell.execute_reply.started": "2021-09-21T08:53:25.726550Z"
    }
   },
   "outputs": [
    {
     "data": {
      "image/png": "[encoded data removed]",
      "text/plain": [
       "<Figure size 1440x576 with 1 Axes>"
      ]
     },
     "metadata": {
      "needs_background": "light"
     },
     "output_type": "display_data"
    }
   ],
   "source": [
    "fig, ax = plt.subplots(figsize=(20,8))\n",
    "sns.lineplot(x = history.epoch, y = history.history['binary_accuracy'])\n",
    "sns.lineplot(x = history.epoch, y = history.history['val_binary_accuracy'])\n",
    "ax.set_title('Learning Curve (Accuracy)')\n",
    "ax.set_ylabel('Accuracy')\n",
    "ax.set_xlabel('Epoch')\n",
    "ax.set_ylim(0.90, 1.0)\n",
    "ax.legend(['train', 'val'], loc='best')\n",
    "plt.show()"
   ]
  },
  {
   "cell_type": "code",
   "execution_count": 62,
   "metadata": {
    "execution": {
     "iopub.execute_input": "2021-09-21T08:51:50.392697Z",
     "iopub.status.busy": "2021-09-21T08:51:50.392452Z",
     "iopub.status.idle": "2021-09-21T08:52:03.647551Z",
     "shell.execute_reply": "2021-09-21T08:52:03.646837Z",
     "shell.execute_reply.started": "2021-09-21T08:51:50.392665Z"
    }
   },
   "outputs": [
    {
     "name": "stdout",
     "output_type": "stream",
     "text": [
      "Val loss: 0.10701081901788712\n",
      "Val accuracy: 0.9675262570381165\n"
     ]
    }
   ],
   "source": [
    "score = model_pretrained.evaluate(ds_val, steps = len(val_df)/BATCH, verbose = 0)\n",
    "print('Val loss:', score[0])\n",
    "print('Val accuracy:', score[1])"
   ]
  },
  {
   "cell_type": "code",
   "execution_count": 63,
   "metadata": {
    "execution": {
     "iopub.execute_input": "2021-09-21T08:52:03.652974Z",
     "iopub.status.busy": "2021-09-21T08:52:03.652771Z",
     "iopub.status.idle": "2021-09-21T08:52:22.263300Z",
     "shell.execute_reply": "2021-09-21T08:52:22.262557Z",
     "shell.execute_reply.started": "2021-09-21T08:52:03.652950Z"
    }
   },
   "outputs": [
    {
     "name": "stdout",
     "output_type": "stream",
     "text": [
      "Test loss: 0.21019524335861206\n",
      "Test accuracy: 0.9198718070983887\n"
     ]
    }
   ],
   "source": [
    "score = model_pretrained.evaluate(ds_test, steps = len(df_test), verbose = 0)\n",
    "print('Test loss:', score[0])\n",
    "print('Test accuracy:', score[1])"
   ]
  },
  {
   "cell_type": "markdown",
   "metadata": {},
   "source": [
    "As expected, the fine-tuning approach has reached the best score. We end this notebook by showing a few performance metrics."
   ]
  },
  {
   "cell_type": "markdown",
   "metadata": {},
   "source": [
    "# <a id=\"8\">Performance Metrics</a> "
   ]
  },
  {
   "cell_type": "code",
   "execution_count": 64,
   "metadata": {
    "_kg_hide-input": true,
    "execution": {
     "iopub.execute_input": "2021-09-21T08:52:22.266371Z",
     "iopub.status.busy": "2021-09-21T08:52:22.264464Z",
     "iopub.status.idle": "2021-09-21T08:52:22.275386Z",
     "shell.execute_reply": "2021-09-21T08:52:22.274556Z",
     "shell.execute_reply.started": "2021-09-21T08:52:22.266332Z"
    }
   },
   "outputs": [],
   "source": [
    "num_label = {'Normal': 0, 'Pneumonia' : 1}\n",
    "Y_test = df_test['class'].copy().map(num_label).astype('int')"
   ]
  },
  {
   "cell_type": "code",
   "execution_count": 65,
   "metadata": {
    "execution": {
     "iopub.execute_input": "2021-09-21T08:52:22.280022Z",
     "iopub.status.busy": "2021-09-21T08:52:22.278653Z",
     "iopub.status.idle": "2021-09-21T08:52:40.368433Z",
     "shell.execute_reply": "2021-09-21T08:52:40.367682Z",
     "shell.execute_reply.started": "2021-09-21T08:52:22.279987Z"
    }
   },
   "outputs": [],
   "source": [
    "ds_test.reset()\n",
    "predictions = model_pretrained.predict(ds_test, steps=len(ds_test), verbose=0)\n",
    "pred_labels= np.where(predictions>0.5, 1, 0)"
   ]
  },
  {
   "cell_type": "code",
   "execution_count": 66,
   "metadata": {
    "execution": {
     "iopub.execute_input": "2021-09-21T08:52:40.369810Z",
     "iopub.status.busy": "2021-09-21T08:52:40.369536Z",
     "iopub.status.idle": "2021-09-21T08:52:40.379306Z",
     "shell.execute_reply": "2021-09-21T08:52:40.378505Z",
     "shell.execute_reply.started": "2021-09-21T08:52:40.369769Z"
    }
   },
   "outputs": [
    {
     "name": "stdout",
     "output_type": "stream",
     "text": [
      "Test Accuracy:  0.9198717948717948\n"
     ]
    }
   ],
   "source": [
    "print(\"Test Accuracy: \", accuracy_score(Y_test, pred_labels))"
   ]
  },
  {
   "cell_type": "code",
   "execution_count": 67,
   "metadata": {
    "_kg_hide-input": true,
    "_kg_hide-output": false,
    "execution": {
     "iopub.execute_input": "2021-09-21T08:52:40.382218Z",
     "iopub.status.busy": "2021-09-21T08:52:40.382026Z",
     "iopub.status.idle": "2021-09-21T08:52:40.596093Z",
     "shell.execute_reply": "2021-09-21T08:52:40.595419Z",
     "shell.execute_reply.started": "2021-09-21T08:52:40.382196Z"
    }
   },
   "outputs": [
    {
     "data": {
      "image/png": "[encoded data removed]",
      "text/plain": [
       "<Figure size 432x288 with 2 Axes>"
      ]
     },
     "metadata": {
      "needs_background": "light"
     },
     "output_type": "display_data"
    }
   ],
   "source": [
    "confusion_matrix = metrics.confusion_matrix(Y_test, pred_labels)\n",
    "sns.heatmap(confusion_matrix, annot=True, fmt=\"d\")\n",
    "\n",
    "plt.xlabel(\"Predicted Label\", fontsize= 12)\n",
    "plt.ylabel(\"True Label\", fontsize= 12)\n",
    "\n",
    "plt.show()"
   ]
  },
  {
   "cell_type": "code",
   "execution_count": 68,
   "metadata": {
    "_kg_hide-input": true,
    "execution": {
     "iopub.execute_input": "2021-09-21T08:52:40.597617Z",
     "iopub.status.busy": "2021-09-21T08:52:40.597366Z",
     "iopub.status.idle": "2021-09-21T08:52:40.608447Z",
     "shell.execute_reply": "2021-09-21T08:52:40.607586Z",
     "shell.execute_reply.started": "2021-09-21T08:52:40.597583Z"
    }
   },
   "outputs": [
    {
     "name": "stdout",
     "output_type": "stream",
     "text": [
      "              precision    recall  f1-score   support\n",
      "\n",
      "           0       0.96      0.82      0.88       234\n",
      "           1       0.90      0.98      0.94       390\n",
      "\n",
      "    accuracy                           0.92       624\n",
      "   macro avg       0.93      0.90      0.91       624\n",
      "weighted avg       0.92      0.92      0.92       624\n",
      "\n"
     ]
    }
   ],
   "source": [
    "print(metrics.classification_report(Y_test, pred_labels, labels = [0, 1]))"
   ]
  },
  {
   "cell_type": "code",
   "execution_count": 69,
   "metadata": {
    "_kg_hide-input": true,
    "execution": {
     "iopub.execute_input": "2021-09-21T08:52:40.610070Z",
     "iopub.status.busy": "2021-09-21T08:52:40.609803Z",
     "iopub.status.idle": "2021-09-21T08:52:40.798635Z",
     "shell.execute_reply": "2021-09-21T08:52:40.797989Z",
     "shell.execute_reply.started": "2021-09-21T08:52:40.610036Z"
    }
   },
   "outputs": [
    {
     "name": "stdout",
     "output_type": "stream",
     "text": [
      "ROC_AUC:  0.9779092702169625\n"
     ]
    },
    {
     "data": {
      "image/png": "[encoded data removed]",
      "text/plain": [
       "<Figure size 432x288 with 1 Axes>"
      ]
     },
     "metadata": {
      "needs_background": "light"
     },
     "output_type": "display_data"
    }
   ],
   "source": [
    "roc_auc = metrics.roc_auc_score(Y_test, predictions)\n",
    "print('ROC_AUC: ', roc_auc)\n",
    "\n",
    "fpr, tpr, thresholds = metrics.roc_curve(Y_test, predictions)\n",
    "\n",
    "plt.plot(fpr, tpr, label = 'ROC_AUC = %0.3f' % roc_auc)\n",
    "\n",
    "plt.xlabel(\"False Positive Rate\", fontsize= 12)\n",
    "plt.ylabel(\"True Positive Rate\", fontsize= 12)\n",
    "plt.legend(loc=\"lower right\")\n",
    "\n",
    "plt.show()"
   ]
  },
  {
   "cell_type": "markdown",
   "metadata": {},
   "source": [
    "The recall was close to 100%. Even without expertise on the medical field, it’s reasonable to assume that false negatives are more ‘costly’ than false positives in this case. Reaching such recall with a relatively small dataset for training as this one, while also reaching a pretty good recall, is a good indicative of the model’s capabilities. Such capabilities are also confirmed by the high ROC-AUC value."
   ]
  },
  {
   "cell_type": "markdown",
   "metadata": {},
   "source": [
    "# <a id=\"9\">References</a> "
   ]
  },
  {
   "cell_type": "markdown",
   "metadata": {},
   "source": [
    "- https://vijayabhaskar96.medium.com/tutorial-on-keras-flow-from-dataframe-1fd4493d237c\n",
    "- https://github.com/mrdbourke/tensorflow-deep-learning/blob/main/03_convolutional_neural_networks_in_tensorflow.ipynb\n",
    "- https://www.tensorflow.org/guide/keras/transfer_learning\n",
    "- https://www.tensorflow.org/api_docs/python/tf/keras/preprocessing/image/ImageDataGenerator\n",
    "- https://keras.io/api/applications/\n",
    "- https://keras.io/api/applications/resnet/#resnet152v2-function"
   ]
  },
  {
   "cell_type": "markdown",
   "metadata": {},
   "source": [
    "## <center> If you find this notebook useful, support with an upvote! <center>"
   ]
  }
 ],
 "metadata": {
  "kernelspec": {
   "display_name": "Python 3 (ipykernel)",
   "language": "python",
   "name": "python3"
  },
  "language_info": {
   "codemirror_mode": {
    "name": "ipython",
    "version": 3
   },
   "file_extension": ".py",
   "mimetype": "text/x-python",
   "name": "python",
   "nbconvert_exporter": "python",
   "pygments_lexer": "ipython3",
   "version": "3.8.12"
  }
 },
 "nbformat": 4,
 "nbformat_minor": 4
}
