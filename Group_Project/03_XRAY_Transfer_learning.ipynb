{
 "cells": [
  {
   "cell_type": "markdown",
   "metadata": {},
   "source": [
    "## Chest X-Ray (Pneumonia): Transfer Learning \n",
    "\n",
    "Using Several estandard models trained on Imagenet \\\n",
    "This example uses a VGG19 network + some additional layers \\\n",
    "Only the new added layers are trained, the layers from the original VGG19 network are not trained \n",
    "\n",
    "Train accuracy 95.5% \\\n",
    "Val accuracy 95% \\\n",
    "Test accuracy 95.5% \\\n",
    "ROC 98%\n",
    "\n",
    "(*) Thanks to Juan Carlos Aguilar and Prashantram Sunderaraj for suggestions and detecting an error in previous version"
   ]
  },
  {
   "cell_type": "code",
   "execution_count": 1,
   "metadata": {
    "execution": {
     "iopub.execute_input": "2021-09-21T06:50:25.577006Z",
     "iopub.status.busy": "2021-09-21T06:50:25.576634Z",
     "iopub.status.idle": "2021-09-21T06:50:25.603025Z",
     "shell.execute_reply": "2021-09-21T06:50:25.602053Z",
     "shell.execute_reply.started": "2021-09-21T06:50:25.576967Z"
    }
   },
   "outputs": [],
   "source": [
    "import pandas as pd       \n",
    "import matplotlib as mat\n",
    "import matplotlib.pyplot as plt    \n",
    "import numpy as np\n",
    "import seaborn as sns\n",
    "%matplotlib inline\n",
    "\n",
    "pd.options.display.max_colwidth = 100\n",
    "\n",
    "import random\n",
    "import os\n",
    "os.environ['TF_CPP_MIN_LOG_LEVEL'] = '2' # to avoid warning messages\n",
    "\n",
    "from numpy.random import seed\n",
    "seed(42)\n",
    "\n",
    "random.seed(42)\n",
    "os.environ['PYTHONHASHSEED'] = str(42)\n",
    "os.environ['TF_DETERMINISTIC_OPS'] = '1'\n",
    "\n",
    "from sklearn.model_selection import train_test_split\n",
    "from sklearn import metrics\n",
    "from sklearn.metrics import accuracy_score\n",
    "\n",
    "import tensorflow as tf\n",
    "from tensorflow import keras\n",
    "from tensorflow.keras import layers\n",
    "from tensorflow.keras import callbacks\n",
    "from tensorflow.keras.models import Model\n",
    "from tensorflow.keras.preprocessing.image import ImageDataGenerator\n",
    "\n",
    "import glob\n",
    "import cv2\n",
    "\n",
    "from tensorflow.random import set_seed\n",
    "set_seed(421)\n",
    "\n",
    "import warnings\n",
    "warnings.filterwarnings('ignore')"
   ]
  },
  {
   "cell_type": "code",
   "execution_count": 2,
   "metadata": {
    "execution": {
     "iopub.execute_input": "2021-09-21T06:50:25.605966Z",
     "iopub.status.busy": "2021-09-21T06:50:25.605399Z",
     "iopub.status.idle": "2021-09-21T06:50:25.611930Z",
     "shell.execute_reply": "2021-09-21T06:50:25.611215Z",
     "shell.execute_reply.started": "2021-09-21T06:50:25.605929Z"
    }
   },
   "outputs": [],
   "source": [
    "IMG_SIZE = 224\n",
    "BATCH = 32\n",
    "SEED = 42"
   ]
  },
  {
   "cell_type": "code",
   "execution_count": 3,
   "metadata": {},
   "outputs": [
    {
     "name": "stdout",
     "output_type": "stream",
     "text": [
      "there are  1583 normal images and 4273 pneumonia images\n"
     ]
    }
   ],
   "source": [
    "# We shuffle the original dataset and create val and test more balanced (0,6 train, 0.2 test, 0.2 val)\n",
    "# folder structure \n",
    "#Notebook\n",
    "#    !------ chest_xray_data\n",
    "#                  !-------------normal\n",
    "#                  !-------------pneumonia\n",
    "\n",
    "train_normal = glob.glob(\"./chest_xray_data/normal/*.jpeg\")\n",
    "train_pneumonia = glob.glob(\"./chest_xray_data/pneumonia/*.jpeg\")\n",
    "print('there are ',len(train_normal),'normal images and', len(train_pneumonia),'pneumonia images')\n",
    "COUNT_PNEUMONIA = len(train_pneumonia)\n",
    "COUNT_NORMAL = len(train_normal)"
   ]
  },
  {
   "cell_type": "code",
   "execution_count": 4,
   "metadata": {
    "execution": {
     "iopub.execute_input": "2021-09-21T06:50:25.651296Z",
     "iopub.status.busy": "2021-09-21T06:50:25.651010Z",
     "iopub.status.idle": "2021-09-21T06:50:25.667932Z",
     "shell.execute_reply": "2021-09-21T06:50:25.667042Z",
     "shell.execute_reply.started": "2021-09-21T06:50:25.651262Z"
    }
   },
   "outputs": [
    {
     "name": "stdout",
     "output_type": "stream",
     "text": [
      "(5856, 2)\n"
     ]
    }
   ],
   "source": [
    "all_list = [x for x in train_normal]\n",
    "all_list.extend([x for x in train_pneumonia])\n",
    "\n",
    "df_all = pd.DataFrame(np.concatenate([['Normal']*len(train_normal) , ['Pneumonia']*len(train_pneumonia)]), \n",
    "                      columns = ['class'])\n",
    "df_all['image'] = [x for x in all_list]\n",
    "print(df_all.shape)"
   ]
  },
  {
   "cell_type": "code",
   "execution_count": 5,
   "metadata": {},
   "outputs": [
    {
     "name": "stdout",
     "output_type": "stream",
     "text": [
      "train (3923, 2) test (966, 2) val (967, 2)\n"
     ]
    }
   ],
   "source": [
    "train_df, dummy_df = train_test_split(df_all, test_size = 0.33, random_state = SEED, \n",
    "                                    stratify = df_all['class'])\n",
    "test_df, val_df = train_test_split(dummy_df, test_size = 0.50, random_state = SEED, \n",
    "                                    stratify = dummy_df['class'])\n",
    "\n",
    "print('train',train_df.shape, 'test', test_df.shape, 'val', val_df.shape)"
   ]
  },
  {
   "cell_type": "markdown",
   "metadata": {},
   "source": [
    "### Data Preparation is performed in the same way as in previous notebooks"
   ]
  },
  {
   "cell_type": "code",
   "execution_count": 6,
   "metadata": {
    "execution": {
     "iopub.execute_input": "2021-09-21T06:50:31.175831Z",
     "iopub.status.busy": "2021-09-21T06:50:31.172013Z",
     "iopub.status.idle": "2021-09-21T06:50:33.658002Z",
     "shell.execute_reply": "2021-09-21T06:50:33.657320Z",
     "shell.execute_reply.started": "2021-09-21T06:50:31.175748Z"
    }
   },
   "outputs": [
    {
     "name": "stdout",
     "output_type": "stream",
     "text": [
      "Found 3923 validated image filenames belonging to 2 classes.\n",
      "Found 967 validated image filenames belonging to 2 classes.\n",
      "Found 966 validated image filenames belonging to 2 classes.\n"
     ]
    }
   ],
   "source": [
    "# see: https://vijayabhaskar96.medium.com/tutorial-on-keras-flow-from-dataframe-1fd4493d237c\n",
    "\n",
    "train_datagen = ImageDataGenerator(rescale=1/255.,\n",
    "                                  zoom_range = 0.1,\n",
    "                                  #rotation_range = 0.1,\n",
    "                                  width_shift_range = 0.1,\n",
    "                                  height_shift_range = 0.1)\n",
    "\n",
    "val_datagen = ImageDataGenerator(rescale=1/255.)\n",
    "\n",
    "ds_train = train_datagen.flow_from_dataframe(train_df,\n",
    "                                             #directory=train_path, #dataframe contains the full paths\n",
    "                                             x_col = 'image',\n",
    "                                             y_col = 'class',\n",
    "                                             target_size = (IMG_SIZE, IMG_SIZE),\n",
    "                                             class_mode = 'binary',\n",
    "                                             batch_size = BATCH,\n",
    "                                             seed = SEED)\n",
    "\n",
    "ds_val = val_datagen.flow_from_dataframe(val_df,\n",
    "                                            #directory=train_path,\n",
    "                                            x_col = 'image',\n",
    "                                            y_col = 'class',\n",
    "                                            target_size = (IMG_SIZE, IMG_SIZE),\n",
    "                                            class_mode = 'binary',\n",
    "                                            batch_size = BATCH,\n",
    "                                            seed = SEED)\n",
    "\n",
    "ds_test = val_datagen.flow_from_dataframe(test_df,\n",
    "                                            #directory=test_path,\n",
    "                                            x_col = 'image',\n",
    "                                            y_col = 'class',\n",
    "                                            target_size = (IMG_SIZE, IMG_SIZE),\n",
    "                                            class_mode = 'binary',\n",
    "                                            batch_size = 1,\n",
    "                                            shuffle = False)"
   ]
  },
  {
   "cell_type": "code",
   "execution_count": 33,
   "metadata": {},
   "outputs": [
    {
     "name": "stdout",
     "output_type": "stream",
     "text": [
      "Initial bias: 0.99299\n",
      "Weight for class 0: 1.85\n",
      "Weight for class 1: 0.69\n"
     ]
    }
   ],
   "source": [
    "# to improve class balancing we calculate the weights to add to the training process\n",
    "\n",
    "initial_bias = np.log([COUNT_PNEUMONIA / COUNT_NORMAL])\n",
    "print(\"Initial bias: {:.5f}\".format(initial_bias[0]))\n",
    "\n",
    "TRAIN_IMG_COUNT = COUNT_NORMAL + COUNT_PNEUMONIA\n",
    "weight_for_0 = (1 / COUNT_NORMAL) * (TRAIN_IMG_COUNT) / 2.0\n",
    "weight_for_1 = (1 / COUNT_PNEUMONIA) * (TRAIN_IMG_COUNT) / 2.0\n",
    "\n",
    "calculated_class_weight = {0: weight_for_0, 1: weight_for_1}\n",
    "\n",
    "print(\"Weight for class 0: {:.2f}\".format(weight_for_0))\n",
    "print(\"Weight for class 1: {:.2f}\".format(weight_for_1))"
   ]
  },
  {
   "cell_type": "markdown",
   "metadata": {},
   "source": [
    "## Transfer Learning (adding some layers to previously trained network)"
   ]
  },
  {
   "cell_type": "markdown",
   "metadata": {},
   "source": [
    "Consists of using a pretrained model as a feature extractor. In this notebook, the selected model is the VGG19 available on the Keras Package \n",
    "\n",
    "We include a few layers after removing the 'head'. We only train these new layers.The weights of the original VGG19 network remain the same."
   ]
  },
  {
   "cell_type": "code",
   "execution_count": 8,
   "metadata": {},
   "outputs": [],
   "source": [
    "#Setting callbakcs\n",
    "\n",
    "initial_learning_rate = 0.015\n",
    "lr_schedule = tf.keras.optimizers.schedules.ExponentialDecay(\n",
    "    initial_learning_rate, decay_steps=100000, decay_rate=0.96, staircase=True\n",
    ")\n",
    "\n",
    "early_stopping = callbacks.EarlyStopping(\n",
    "    monitor='val_loss',\n",
    "    patience=5,\n",
    "    min_delta=0.0000001,\n",
    "    restore_best_weights=True,\n",
    ")\n",
    "\n",
    "plateau = callbacks.ReduceLROnPlateau(\n",
    "    monitor='val_loss',\n",
    "    factor = 0.2,                                     \n",
    "    patience = 10,                                   \n",
    "    min_delt = 0.0000001,                                \n",
    "    cooldown = 0,                               \n",
    "    verbose = 1\n",
    ") \n",
    "\n",
    "checkpoint_cb = tf.keras.callbacks.ModelCheckpoint(\"xray_model.h5\", save_best_only=True)\n",
    "\n",
    "early_stopping_cb = tf.keras.callbacks.EarlyStopping(\n",
    "    patience=10, restore_best_weights=True\n",
    ")"
   ]
  },
  {
   "cell_type": "code",
   "execution_count": 9,
   "metadata": {
    "execution": {
     "iopub.execute_input": "2021-09-21T07:33:11.539239Z",
     "iopub.status.busy": "2021-09-21T07:33:11.538990Z",
     "iopub.status.idle": "2021-09-21T07:33:16.487892Z",
     "shell.execute_reply": "2021-09-21T07:33:16.487140Z",
     "shell.execute_reply.started": "2021-09-21T07:33:11.539207Z"
    }
   },
   "outputs": [],
   "source": [
    "from keras.applications.vgg19 import VGG19\n",
    "\n",
    "base_model = VGG19(    \n",
    "    weights='imagenet',\n",
    "    input_shape=(IMG_SIZE, IMG_SIZE, 3),\n",
    "    include_top=False)\n",
    "\n",
    "base_model.trainable = False\n",
    "\n",
    "def get_pretrained():\n",
    "    \n",
    "    #Input shape = [width, height, color channels]\n",
    "    inputs = layers.Input(shape=(IMG_SIZE, IMG_SIZE, 3))\n",
    "    \n",
    "    x = base_model(inputs)\n",
    "\n",
    "    # Head\n",
    "    x = layers.GlobalAveragePooling2D()(x)\n",
    "    x = layers.Dense(128, activation='relu')(x)\n",
    "    x = layers.Dropout(0.1)(x)\n",
    "    \n",
    "    #Final Layer (Output)\n",
    "    output = layers.Dense(1, activation='sigmoid')(x)\n",
    "    \n",
    "    model = keras.Model(inputs=[inputs], outputs=output)\n",
    "    \n",
    "    return model"
   ]
  },
  {
   "cell_type": "code",
   "execution_count": 10,
   "metadata": {
    "execution": {
     "iopub.execute_input": "2021-09-21T07:33:16.489387Z",
     "iopub.status.busy": "2021-09-21T07:33:16.489135Z",
     "iopub.status.idle": "2021-09-21T07:33:17.694248Z",
     "shell.execute_reply": "2021-09-21T07:33:17.693474Z",
     "shell.execute_reply.started": "2021-09-21T07:33:16.489357Z"
    }
   },
   "outputs": [
    {
     "name": "stdout",
     "output_type": "stream",
     "text": [
      "Model: \"model\"\n",
      "_________________________________________________________________\n",
      " Layer (type)                Output Shape              Param #   \n",
      "=================================================================\n",
      " input_1 (InputLayer)        [(None, 224, 224, 3)]     0         \n",
      "                                                                 \n",
      " vgg19 (Functional)          (None, 7, 7, 512)         20024384  \n",
      "                                                                 \n",
      " global_average_pooling2d (G  (None, 512)              0         \n",
      " lobalAveragePooling2D)                                          \n",
      "                                                                 \n",
      " dense (Dense)               (None, 128)               65664     \n",
      "                                                                 \n",
      " dropout (Dropout)           (None, 128)               0         \n",
      "                                                                 \n",
      " dense_1 (Dense)             (None, 1)                 129       \n",
      "                                                                 \n",
      "=================================================================\n",
      "Total params: 20,090,177\n",
      "Trainable params: 65,793\n",
      "Non-trainable params: 20,024,384\n",
      "_________________________________________________________________\n"
     ]
    }
   ],
   "source": [
    "keras.backend.clear_session()\n",
    "\n",
    "model_pretrained = get_pretrained()\n",
    "model_pretrained.compile(loss='binary_crossentropy'\n",
    "              , optimizer = keras.optimizers.Adam(learning_rate=lr_schedule), metrics='binary_accuracy')\n",
    "\n",
    "model_pretrained.summary()"
   ]
  },
  {
   "cell_type": "code",
   "execution_count": 11,
   "metadata": {
    "_kg_hide-output": true,
    "execution": {
     "iopub.execute_input": "2021-09-21T07:33:17.695604Z",
     "iopub.status.busy": "2021-09-21T07:33:17.695371Z",
     "iopub.status.idle": "2021-09-21T08:14:43.093210Z",
     "shell.execute_reply": "2021-09-21T08:14:43.092428Z",
     "shell.execute_reply.started": "2021-09-21T07:33:17.695571Z"
    },
    "scrolled": true
   },
   "outputs": [
    {
     "name": "stdout",
     "output_type": "stream",
     "text": [
      "Epoch 1/50\n",
      "123/123 [==============================] - 1171s 10s/step - loss: 0.4900 - binary_accuracy: 0.7716 - val_loss: 0.5746 - val_binary_accuracy: 0.7466\n",
      "Epoch 2/50\n",
      "123/123 [==============================] - 1166s 9s/step - loss: 0.3114 - binary_accuracy: 0.8731 - val_loss: 0.4715 - val_binary_accuracy: 0.7859\n",
      "Epoch 3/50\n",
      "123/123 [==============================] - 1165s 9s/step - loss: 0.2708 - binary_accuracy: 0.8848 - val_loss: 0.2220 - val_binary_accuracy: 0.9038\n",
      "Epoch 4/50\n",
      "123/123 [==============================] - 1164s 9s/step - loss: 0.2495 - binary_accuracy: 0.8980 - val_loss: 0.1756 - val_binary_accuracy: 0.9266\n",
      "Epoch 5/50\n",
      "123/123 [==============================] - 1168s 10s/step - loss: 0.2199 - binary_accuracy: 0.9105 - val_loss: 0.1908 - val_binary_accuracy: 0.9224\n",
      "Epoch 6/50\n",
      "123/123 [==============================] - 1175s 10s/step - loss: 0.2153 - binary_accuracy: 0.9146 - val_loss: 0.5379 - val_binary_accuracy: 0.7580\n",
      "Epoch 7/50\n",
      "123/123 [==============================] - 1174s 10s/step - loss: 0.2206 - binary_accuracy: 0.9115 - val_loss: 0.1625 - val_binary_accuracy: 0.9442\n",
      "Epoch 8/50\n",
      "123/123 [==============================] - 1173s 10s/step - loss: 0.2050 - binary_accuracy: 0.9172 - val_loss: 0.2305 - val_binary_accuracy: 0.9007\n",
      "Epoch 9/50\n",
      "123/123 [==============================] - 1174s 10s/step - loss: 0.2018 - binary_accuracy: 0.9238 - val_loss: 0.1409 - val_binary_accuracy: 0.9473\n",
      "Epoch 10/50\n",
      "123/123 [==============================] - 1172s 10s/step - loss: 0.2059 - binary_accuracy: 0.9220 - val_loss: 0.1460 - val_binary_accuracy: 0.9483\n",
      "Epoch 11/50\n",
      "123/123 [==============================] - 1176s 10s/step - loss: 0.2036 - binary_accuracy: 0.9205 - val_loss: 0.2678 - val_binary_accuracy: 0.8883\n",
      "Epoch 12/50\n",
      "123/123 [==============================] - 1176s 10s/step - loss: 0.1842 - binary_accuracy: 0.9261 - val_loss: 0.1639 - val_binary_accuracy: 0.9359\n",
      "Epoch 13/50\n",
      "123/123 [==============================] - 1172s 10s/step - loss: 0.1906 - binary_accuracy: 0.9286 - val_loss: 0.2244 - val_binary_accuracy: 0.9162\n",
      "Epoch 14/50\n",
      "123/123 [==============================] - 1173s 10s/step - loss: 0.2039 - binary_accuracy: 0.9217 - val_loss: 0.1366 - val_binary_accuracy: 0.9473\n",
      "Epoch 15/50\n",
      "123/123 [==============================] - 1173s 10s/step - loss: 0.1931 - binary_accuracy: 0.9248 - val_loss: 0.1931 - val_binary_accuracy: 0.9297\n",
      "Epoch 16/50\n",
      "123/123 [==============================] - 1173s 10s/step - loss: 0.1936 - binary_accuracy: 0.9261 - val_loss: 0.2064 - val_binary_accuracy: 0.9266\n",
      "Epoch 17/50\n",
      "123/123 [==============================] - 1172s 10s/step - loss: 0.2010 - binary_accuracy: 0.9279 - val_loss: 0.5059 - val_binary_accuracy: 0.8159\n",
      "Epoch 18/50\n",
      "123/123 [==============================] - 1173s 10s/step - loss: 0.2035 - binary_accuracy: 0.9238 - val_loss: 0.1599 - val_binary_accuracy: 0.9400\n",
      "Epoch 19/50\n",
      "123/123 [==============================] - 1172s 10s/step - loss: 0.2078 - binary_accuracy: 0.9205 - val_loss: 0.1214 - val_binary_accuracy: 0.9535\n",
      "Epoch 20/50\n",
      "123/123 [==============================] - 1173s 10s/step - loss: 0.1864 - binary_accuracy: 0.9296 - val_loss: 0.2041 - val_binary_accuracy: 0.9297\n",
      "Epoch 21/50\n",
      "123/123 [==============================] - 1173s 10s/step - loss: 0.1938 - binary_accuracy: 0.9256 - val_loss: 0.1440 - val_binary_accuracy: 0.9452\n",
      "Epoch 22/50\n",
      "123/123 [==============================] - 1172s 10s/step - loss: 0.1874 - binary_accuracy: 0.9240 - val_loss: 0.2391 - val_binary_accuracy: 0.9038\n",
      "Epoch 23/50\n",
      "123/123 [==============================] - 1173s 10s/step - loss: 0.1835 - binary_accuracy: 0.9340 - val_loss: 0.1910 - val_binary_accuracy: 0.9286\n",
      "Epoch 24/50\n",
      "123/123 [==============================] - 1175s 10s/step - loss: 0.1749 - binary_accuracy: 0.9381 - val_loss: 0.1847 - val_binary_accuracy: 0.9359\n",
      "Epoch 25/50\n",
      "123/123 [==============================] - 1174s 10s/step - loss: 0.1739 - binary_accuracy: 0.9386 - val_loss: 0.1178 - val_binary_accuracy: 0.9514\n",
      "Epoch 26/50\n",
      "123/123 [==============================] - 1174s 10s/step - loss: 0.1724 - binary_accuracy: 0.9386 - val_loss: 0.2298 - val_binary_accuracy: 0.9152\n",
      "Epoch 27/50\n",
      "123/123 [==============================] - 1176s 10s/step - loss: 0.1742 - binary_accuracy: 0.9350 - val_loss: 0.1946 - val_binary_accuracy: 0.9297\n",
      "Epoch 28/50\n",
      "123/123 [==============================] - 1176s 10s/step - loss: 0.2008 - binary_accuracy: 0.9220 - val_loss: 0.1685 - val_binary_accuracy: 0.9524\n",
      "Epoch 29/50\n",
      "123/123 [==============================] - 1173s 10s/step - loss: 0.1972 - binary_accuracy: 0.9274 - val_loss: 0.2176 - val_binary_accuracy: 0.9152\n",
      "Epoch 30/50\n",
      "123/123 [==============================] - 1174s 10s/step - loss: 0.1766 - binary_accuracy: 0.9347 - val_loss: 0.1963 - val_binary_accuracy: 0.9328\n",
      "Epoch 31/50\n",
      "123/123 [==============================] - 1177s 10s/step - loss: 0.1883 - binary_accuracy: 0.9284 - val_loss: 0.1663 - val_binary_accuracy: 0.9442\n",
      "Epoch 32/50\n",
      "123/123 [==============================] - 1175s 10s/step - loss: 0.1671 - binary_accuracy: 0.9365 - val_loss: 0.1246 - val_binary_accuracy: 0.9524\n",
      "Epoch 33/50\n",
      "123/123 [==============================] - 1177s 10s/step - loss: 0.1676 - binary_accuracy: 0.9383 - val_loss: 0.3413 - val_binary_accuracy: 0.8718\n",
      "Epoch 34/50\n",
      "123/123 [==============================] - 1175s 10s/step - loss: 0.1641 - binary_accuracy: 0.9393 - val_loss: 0.1803 - val_binary_accuracy: 0.9380\n",
      "Epoch 35/50\n",
      "123/123 [==============================] - 1176s 10s/step - loss: 0.1716 - binary_accuracy: 0.9340 - val_loss: 0.1837 - val_binary_accuracy: 0.9390\n"
     ]
    }
   ],
   "source": [
    "history = model_pretrained.fit(ds_train,\n",
    "          batch_size = BATCH, epochs = 50,\n",
    "          class_weight = calculated_class_weight,\n",
    "          validation_data=ds_val,\n",
    "          callbacks=[early_stopping_cb,checkpoint_cb]);"
   ]
  },
  {
   "cell_type": "code",
   "execution_count": 12,
   "metadata": {
    "_kg_hide-input": true,
    "execution": {
     "iopub.execute_input": "2021-09-21T08:14:43.095020Z",
     "iopub.status.busy": "2021-09-21T08:14:43.094763Z",
     "iopub.status.idle": "2021-09-21T08:14:43.428910Z",
     "shell.execute_reply": "2021-09-21T08:14:43.428249Z",
     "shell.execute_reply.started": "2021-09-21T08:14:43.094986Z"
    }
   },
   "outputs": [
    {
     "data": {
      "image/png": "[encoded data removed]",
      "text/plain": [
       "<Figure size 864x576 with 1 Axes>"
      ]
     },
     "metadata": {
      "needs_background": "light"
     },
     "output_type": "display_data"
    }
   ],
   "source": [
    "fig, ax = plt.subplots(figsize=(12,8))\n",
    "sns.lineplot(x = history.epoch, y = history.history['loss'])\n",
    "sns.lineplot(x = history.epoch, y = history.history['val_loss'])\n",
    "ax.set_title('Learning Curve (Loss)')\n",
    "ax.set_ylabel('Loss')\n",
    "ax.set_xlabel('Epoch')\n",
    "ax.set_ylim(0, 1)\n",
    "ax.legend(['train', 'val'], loc='best')\n",
    "plt.show()"
   ]
  },
  {
   "cell_type": "code",
   "execution_count": 13,
   "metadata": {
    "_kg_hide-input": true,
    "execution": {
     "iopub.execute_input": "2021-09-21T08:14:43.435469Z",
     "iopub.status.busy": "2021-09-21T08:14:43.432402Z",
     "iopub.status.idle": "2021-09-21T08:14:43.765906Z",
     "shell.execute_reply": "2021-09-21T08:14:43.765231Z",
     "shell.execute_reply.started": "2021-09-21T08:14:43.435431Z"
    }
   },
   "outputs": [
    {
     "data": {
      "image/png": "[encoded data removed]",
      "text/plain": [
       "<Figure size 864x576 with 1 Axes>"
      ]
     },
     "metadata": {
      "needs_background": "light"
     },
     "output_type": "display_data"
    }
   ],
   "source": [
    "fig, ax = plt.subplots(figsize=(12,8))\n",
    "sns.lineplot(x = history.epoch, y = history.history['binary_accuracy'])\n",
    "sns.lineplot(x = history.epoch, y = history.history['val_binary_accuracy'])\n",
    "ax.set_title('Learning Curve (Accuracy)')\n",
    "ax.set_ylabel('Accuracy')\n",
    "ax.set_xlabel('Epoch')\n",
    "ax.set_ylim(0.0, 1.0)\n",
    "ax.legend(['train', 'val'], loc='best')\n",
    "plt.show()"
   ]
  },
  {
   "cell_type": "code",
   "execution_count": 14,
   "metadata": {
    "execution": {
     "iopub.execute_input": "2021-09-21T08:14:43.771683Z",
     "iopub.status.busy": "2021-09-21T08:14:43.769498Z",
     "iopub.status.idle": "2021-09-21T08:14:57.190558Z",
     "shell.execute_reply": "2021-09-21T08:14:57.189827Z",
     "shell.execute_reply.started": "2021-09-21T08:14:43.771646Z"
    }
   },
   "outputs": [
    {
     "name": "stdout",
     "output_type": "stream",
     "text": [
      "Val loss: 0.117757149040699\n",
      "Val accuracy: 0.9513960480690002\n"
     ]
    }
   ],
   "source": [
    "score = model_pretrained.evaluate(ds_val, steps = len(val_df)/BATCH, verbose = 0)\n",
    "print('Val loss:', score[0])\n",
    "print('Val accuracy:', score[1])"
   ]
  },
  {
   "cell_type": "code",
   "execution_count": 16,
   "metadata": {
    "_kg_hide-input": false,
    "execution": {
     "iopub.execute_input": "2021-09-21T08:14:57.192472Z",
     "iopub.status.busy": "2021-09-21T08:14:57.191679Z",
     "iopub.status.idle": "2021-09-21T08:15:15.705981Z",
     "shell.execute_reply": "2021-09-21T08:15:15.705205Z",
     "shell.execute_reply.started": "2021-09-21T08:14:57.192435Z"
    }
   },
   "outputs": [
    {
     "name": "stdout",
     "output_type": "stream",
     "text": [
      "Test loss: 0.1231636106967926\n",
      "Test accuracy: 0.955486536026001\n"
     ]
    }
   ],
   "source": [
    "score = model_pretrained.evaluate(ds_test, steps = len(test_df), verbose = 0)\n",
    "print('Test loss:', score[0])\n",
    "print('Test accuracy:', score[1])"
   ]
  },
  {
   "cell_type": "markdown",
   "metadata": {},
   "source": [
    "### Result Performance Evaluation</a>  "
   ]
  },
  {
   "cell_type": "code",
   "execution_count": 21,
   "metadata": {
    "_kg_hide-input": true,
    "execution": {
     "iopub.execute_input": "2021-09-21T08:52:22.266371Z",
     "iopub.status.busy": "2021-09-21T08:52:22.264464Z",
     "iopub.status.idle": "2021-09-21T08:52:22.275386Z",
     "shell.execute_reply": "2021-09-21T08:52:22.274556Z",
     "shell.execute_reply.started": "2021-09-21T08:52:22.266332Z"
    }
   },
   "outputs": [],
   "source": [
    "num_label = {'Normal': 0, 'Pneumonia' : 1}\n",
    "Y_test = test_df['class'].copy().map(num_label).astype('int')"
   ]
  },
  {
   "cell_type": "code",
   "execution_count": 25,
   "metadata": {
    "execution": {
     "iopub.execute_input": "2021-09-21T08:52:40.369810Z",
     "iopub.status.busy": "2021-09-21T08:52:40.369536Z",
     "iopub.status.idle": "2021-09-21T08:52:40.379306Z",
     "shell.execute_reply": "2021-09-21T08:52:40.378505Z",
     "shell.execute_reply.started": "2021-09-21T08:52:40.369769Z"
    }
   },
   "outputs": [
    {
     "name": "stdout",
     "output_type": "stream",
     "text": [
      "Test Accuracy:  0.9554865424430642\n"
     ]
    }
   ],
   "source": [
    "print(\"Test Accuracy: \", accuracy_score(Y_test, pred_labels))"
   ]
  },
  {
   "cell_type": "code",
   "execution_count": 26,
   "metadata": {
    "_kg_hide-input": true,
    "_kg_hide-output": false,
    "execution": {
     "iopub.execute_input": "2021-09-21T08:52:40.382218Z",
     "iopub.status.busy": "2021-09-21T08:52:40.382026Z",
     "iopub.status.idle": "2021-09-21T08:52:40.596093Z",
     "shell.execute_reply": "2021-09-21T08:52:40.595419Z",
     "shell.execute_reply.started": "2021-09-21T08:52:40.382196Z"
    }
   },
   "outputs": [
    {
     "data": {
      "image/png": "[encoded data removed]",
      "text/plain": [
       "<Figure size 432x288 with 2 Axes>"
      ]
     },
     "metadata": {
      "needs_background": "light"
     },
     "output_type": "display_data"
    }
   ],
   "source": [
    "confusion_matrix = metrics.confusion_matrix(Y_test, pred_labels)\n",
    "sns.heatmap(confusion_matrix, annot=True, fmt=\"d\")\n",
    "\n",
    "plt.xlabel(\"Predicted Label\", fontsize= 12)\n",
    "plt.ylabel(\"True Label\", fontsize= 12)\n",
    "\n",
    "plt.show()"
   ]
  },
  {
   "cell_type": "code",
   "execution_count": 27,
   "metadata": {
    "_kg_hide-input": true,
    "execution": {
     "iopub.execute_input": "2021-09-21T08:52:40.597617Z",
     "iopub.status.busy": "2021-09-21T08:52:40.597366Z",
     "iopub.status.idle": "2021-09-21T08:52:40.608447Z",
     "shell.execute_reply": "2021-09-21T08:52:40.607586Z",
     "shell.execute_reply.started": "2021-09-21T08:52:40.597583Z"
    }
   },
   "outputs": [
    {
     "name": "stdout",
     "output_type": "stream",
     "text": [
      "              precision    recall  f1-score   support\n",
      "\n",
      "           0       0.95      0.89      0.91       261\n",
      "           1       0.96      0.98      0.97       705\n",
      "\n",
      "    accuracy                           0.96       966\n",
      "   macro avg       0.95      0.93      0.94       966\n",
      "weighted avg       0.96      0.96      0.96       966\n",
      "\n"
     ]
    }
   ],
   "source": [
    "print(metrics.classification_report(Y_test, pred_labels, labels = [0, 1]))"
   ]
  },
  {
   "cell_type": "code",
   "execution_count": 28,
   "metadata": {
    "_kg_hide-input": true,
    "execution": {
     "iopub.execute_input": "2021-09-21T08:52:40.610070Z",
     "iopub.status.busy": "2021-09-21T08:52:40.609803Z",
     "iopub.status.idle": "2021-09-21T08:52:40.798635Z",
     "shell.execute_reply": "2021-09-21T08:52:40.797989Z",
     "shell.execute_reply.started": "2021-09-21T08:52:40.610036Z"
    }
   },
   "outputs": [
    {
     "name": "stdout",
     "output_type": "stream",
     "text": [
      "ROC_AUC:  0.9858699491861634\n"
     ]
    },
    {
     "data": {
      "image/png": "[encoded data removed]",
      "text/plain": [
       "<Figure size 432x288 with 1 Axes>"
      ]
     },
     "metadata": {
      "needs_background": "light"
     },
     "output_type": "display_data"
    }
   ],
   "source": [
    "roc_auc = metrics.roc_auc_score(Y_test, predictions)\n",
    "print('ROC_AUC: ', roc_auc)\n",
    "\n",
    "fpr, tpr, thresholds = metrics.roc_curve(Y_test, predictions)\n",
    "\n",
    "plt.plot(fpr, tpr, label = 'ROC_AUC = %0.3f' % roc_auc)\n",
    "\n",
    "plt.xlabel(\"False Positive Rate\", fontsize= 12)\n",
    "plt.ylabel(\"True Positive Rate\", fontsize= 12)\n",
    "plt.legend(loc=\"lower right\")\n",
    "\n",
    "plt.show()"
   ]
  },
  {
   "cell_type": "markdown",
   "metadata": {},
   "source": [
    "The recall was close to 100%. As we are in the medical field a discussion on the impact of false positives and false negatives is required. The impact on people's health will determine the applicability of a DL approach. Remember. Always Human Supervision!!!"
   ]
  },
  {
   "cell_type": "code",
   "execution_count": 29,
   "metadata": {},
   "outputs": [],
   "source": [
    "#EOF"
   ]
  }
 ],
 "metadata": {
  "kernelspec": {
   "display_name": "DL",
   "language": "python",
   "name": "dl"
  },
  "language_info": {
   "codemirror_mode": {
    "name": "ipython",
    "version": 3
   },
   "file_extension": ".py",
   "mimetype": "text/x-python",
   "name": "python",
   "nbconvert_exporter": "python",
   "pygments_lexer": "ipython3",
   "version": "3.8.12"
  }
 },
 "nbformat": 4,
 "nbformat_minor": 4
}
