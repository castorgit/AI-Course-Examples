{
 "cells": [
  {
   "cell_type": "markdown",
   "metadata": {},
   "source": [
    "# Chest X-Ray (Pneumonia): CNN Network\n",
    "\n",
    "New deeper CNN Structure The new CNN structure is based on the proposed by Amy MiHyun Jang\n",
    "in https://keras.io/examples/vision/xray_classification_with_tpus/ \\\n",
    "This structure is deeper than the previous one it has 10 separable CNN layers organized in blocks. \\\n",
    "New callbacks have been programmed and they improve the training effectiveness of the network \\\n",
    "\\\n",
    "Train accuracy 96% \\\n",
    "Val accuracy 97% \\\n",
    "Test accuracy 85% \\\n",
    "ROC 95%"
   ]
  },
  {
   "cell_type": "code",
   "execution_count": 1,
   "metadata": {
    "execution": {
     "iopub.execute_input": "2021-09-21T06:50:25.577006Z",
     "iopub.status.busy": "2021-09-21T06:50:25.576634Z",
     "iopub.status.idle": "2021-09-21T06:50:25.603025Z",
     "shell.execute_reply": "2021-09-21T06:50:25.602053Z",
     "shell.execute_reply.started": "2021-09-21T06:50:25.576967Z"
    }
   },
   "outputs": [],
   "source": [
    "import pandas as pd       \n",
    "import matplotlib as mat\n",
    "import matplotlib.pyplot as plt    \n",
    "import numpy as np\n",
    "import seaborn as sns\n",
    "%matplotlib inline\n",
    "\n",
    "pd.options.display.max_colwidth = 100\n",
    "\n",
    "import random\n",
    "import os\n",
    "os.environ['TF_CPP_MIN_LOG_LEVEL'] = '2' # to avoid warning messages\n",
    "\n",
    "from numpy.random import seed\n",
    "seed(42)\n",
    "\n",
    "random.seed(42)\n",
    "os.environ['PYTHONHASHSEED'] = str(42)\n",
    "os.environ['TF_DETERMINISTIC_OPS'] = '1'\n",
    "\n",
    "from sklearn.model_selection import train_test_split\n",
    "from sklearn import metrics\n",
    "from sklearn.metrics import accuracy_score\n",
    "\n",
    "import tensorflow as tf\n",
    "from tensorflow import keras\n",
    "from tensorflow.keras import layers\n",
    "from tensorflow.keras import callbacks\n",
    "from tensorflow.keras.models import Model\n",
    "from tensorflow.keras.preprocessing.image import ImageDataGenerator\n",
    "from tensorflow.keras.layers import ELU, LeakyReLU,Activation\n",
    "\n",
    "import glob\n",
    "import cv2\n",
    "\n",
    "from tensorflow.random import set_seed\n",
    "set_seed(42)\n",
    "\n",
    "import warnings\n",
    "warnings.filterwarnings('ignore')"
   ]
  },
  {
   "cell_type": "code",
   "execution_count": 2,
   "metadata": {
    "execution": {
     "iopub.execute_input": "2021-09-21T06:50:25.605966Z",
     "iopub.status.busy": "2021-09-21T06:50:25.605399Z",
     "iopub.status.idle": "2021-09-21T06:50:25.611930Z",
     "shell.execute_reply": "2021-09-21T06:50:25.611215Z",
     "shell.execute_reply.started": "2021-09-21T06:50:25.605929Z"
    }
   },
   "outputs": [],
   "source": [
    "IMG_SIZE = 224\n",
    "BATCH = 32\n",
    "SEED = 42"
   ]
  },
  {
   "cell_type": "code",
   "execution_count": 3,
   "metadata": {
    "execution": {
     "iopub.execute_input": "2021-09-21T06:50:25.616438Z",
     "iopub.status.busy": "2021-09-21T06:50:25.614268Z",
     "iopub.status.idle": "2021-09-21T06:50:25.649779Z",
     "shell.execute_reply": "2021-09-21T06:50:25.649140Z",
     "shell.execute_reply.started": "2021-09-21T06:50:25.616404Z"
    }
   },
   "outputs": [
    {
     "name": "stdout",
     "output_type": "stream",
     "text": [
      "there are  1583 normal images and 4273 pneumonia images\n"
     ]
    }
   ],
   "source": [
    "# We shuffle the original dataset and create val and test more balanced (0,6 train, 0.2 test, 0.2 val)\n",
    "# folder structure \n",
    "#Notebook\n",
    "#    !------ chest_xray_data\n",
    "#                  !-------------normal\n",
    "#                  !-------------pneumonia\n",
    "\n",
    "train_normal = glob.glob(\"./chest_xray_data/normal/*.jpeg\")\n",
    "train_pneumonia = glob.glob(\"./chest_xray_data/pneumonia/*.jpeg\")\n",
    "print('there are ',len(train_normal),'normal images and', len(train_pneumonia),'pneumonia images')\n",
    "COUNT_PNEUMONIA = len(train_pneumonia)\n",
    "COUNT_NORMAL = len(train_normal)"
   ]
  },
  {
   "cell_type": "code",
   "execution_count": 4,
   "metadata": {
    "execution": {
     "iopub.execute_input": "2021-09-21T06:50:25.651296Z",
     "iopub.status.busy": "2021-09-21T06:50:25.651010Z",
     "iopub.status.idle": "2021-09-21T06:50:25.667932Z",
     "shell.execute_reply": "2021-09-21T06:50:25.667042Z",
     "shell.execute_reply.started": "2021-09-21T06:50:25.651262Z"
    }
   },
   "outputs": [
    {
     "name": "stdout",
     "output_type": "stream",
     "text": [
      "(5856, 2)\n"
     ]
    }
   ],
   "source": [
    "all_list = [x for x in train_normal]\n",
    "all_list.extend([x for x in train_pneumonia])\n",
    "\n",
    "df_all = pd.DataFrame(np.concatenate([['Normal']*len(train_normal) , ['Pneumonia']*len(train_pneumonia)]), \n",
    "                      columns = ['class'])\n",
    "df_all['image'] = [x for x in all_list]\n",
    "print(df_all.shape)"
   ]
  },
  {
   "cell_type": "code",
   "execution_count": 5,
   "metadata": {},
   "outputs": [
    {
     "name": "stdout",
     "output_type": "stream",
     "text": [
      "train (3923, 2) test (966, 2) val (967, 2)\n"
     ]
    }
   ],
   "source": [
    "train_df, dummy_df = train_test_split(df_all, test_size = 0.33, random_state = SEED, \n",
    "                                    stratify = df_all['class'])\n",
    "test_df, val_df = train_test_split(dummy_df, test_size = 0.50, random_state = SEED, \n",
    "                                    stratify = dummy_df['class'])\n",
    "\n",
    "print('train',train_df.shape, 'test', test_df.shape, 'val', val_df.shape)"
   ]
  },
  {
   "cell_type": "markdown",
   "metadata": {},
   "source": [
    "### Data Preparation\n",
    "We use ImageDataGenerator to perform data augmentation in the dataset. The final number of images is around 5000 but this number does not see enough for a good quality classifier. "
   ]
  },
  {
   "cell_type": "code",
   "execution_count": 6,
   "metadata": {
    "execution": {
     "iopub.execute_input": "2021-09-21T06:50:31.175831Z",
     "iopub.status.busy": "2021-09-21T06:50:31.172013Z",
     "iopub.status.idle": "2021-09-21T06:50:33.658002Z",
     "shell.execute_reply": "2021-09-21T06:50:33.657320Z",
     "shell.execute_reply.started": "2021-09-21T06:50:31.175748Z"
    }
   },
   "outputs": [
    {
     "name": "stdout",
     "output_type": "stream",
     "text": [
      "shapes. Train:  (3923, 2) val :  (967, 2) test :  (966, 2)\n",
      "Found 3923 validated image filenames belonging to 2 classes.\n",
      "Found 967 validated image filenames belonging to 2 classes.\n",
      "Found 966 validated image filenames belonging to 2 classes.\n"
     ]
    }
   ],
   "source": [
    "print ('shapes. Train: ',train_df.shape, 'val : ', val_df.shape, 'test : ',test_df.shape)\n",
    "# https://vijayabhaskar96.medium.com/tutorial-on-keras-flow-from-dataframe-1fd4493d237c\n",
    "\n",
    "train_datagen = ImageDataGenerator(rescale=1/255.,\n",
    "                                  zoom_range = 0.1,\n",
    "                                  #rotation_range = 0.1,\n",
    "                                  width_shift_range = 0.1,\n",
    "                                  height_shift_range = 0.1)\n",
    "\n",
    "val_datagen = ImageDataGenerator(rescale=1/255.)\n",
    "\n",
    "ds_train = train_datagen.flow_from_dataframe(train_df,\n",
    "                                             x_col = 'image',\n",
    "                                             y_col = 'class',\n",
    "                                             target_size = (IMG_SIZE, IMG_SIZE),\n",
    "                                             class_mode = 'binary',\n",
    "                                             batch_size = BATCH,\n",
    "                                             seed = SEED)\n",
    "\n",
    "ds_val = val_datagen.flow_from_dataframe(val_df,\n",
    "                                            x_col = 'image',\n",
    "                                            y_col = 'class',\n",
    "                                            target_size = (IMG_SIZE, IMG_SIZE),\n",
    "                                            class_mode = 'binary',\n",
    "                                            batch_size = BATCH,\n",
    "                                            seed = SEED)\n",
    "\n",
    "ds_test = val_datagen.flow_from_dataframe(test_df,\n",
    "                                            x_col = 'image',\n",
    "                                            y_col = 'class',\n",
    "                                            target_size = (IMG_SIZE, IMG_SIZE),\n",
    "                                            class_mode = 'binary',\n",
    "                                            batch_size = 1,\n",
    "                                            shuffle = False)"
   ]
  },
  {
   "cell_type": "markdown",
   "metadata": {},
   "source": [
    "## Class balancing using class weight parameter in keras"
   ]
  },
  {
   "cell_type": "code",
   "execution_count": 7,
   "metadata": {},
   "outputs": [
    {
     "name": "stdout",
     "output_type": "stream",
     "text": [
      "Initial bias: 0.99299\n",
      "Weight for class 0: 1.85\n",
      "Weight for class 1: 0.69\n"
     ]
    }
   ],
   "source": [
    "initial_bias = np.log([COUNT_PNEUMONIA / COUNT_NORMAL])\n",
    "print(\"Initial bias: {:.5f}\".format(initial_bias[0]))\n",
    "\n",
    "TRAIN_IMG_COUNT = COUNT_NORMAL + COUNT_PNEUMONIA\n",
    "weight_for_0 = (1 / COUNT_NORMAL) * (TRAIN_IMG_COUNT) / 2.0\n",
    "weight_for_1 = (1 / COUNT_PNEUMONIA) * (TRAIN_IMG_COUNT) / 2.0\n",
    "\n",
    "class_weight = {0: weight_for_0, 1: weight_for_1}\n",
    "\n",
    "print(\"Weight for class 0: {:.2f}\".format(weight_for_0))\n",
    "print(\"Weight for class 1: {:.2f}\".format(weight_for_1))\n"
   ]
  },
  {
   "cell_type": "markdown",
   "metadata": {},
   "source": [
    "### CNN\n",
    "Data is ready. Now we define the CNN network and train "
   ]
  },
  {
   "cell_type": "code",
   "execution_count": 8,
   "metadata": {
    "execution": {
     "iopub.execute_input": "2021-09-21T06:50:33.659445Z",
     "iopub.status.busy": "2021-09-21T06:50:33.659187Z",
     "iopub.status.idle": "2021-09-21T06:50:33.665861Z",
     "shell.execute_reply": "2021-09-21T06:50:33.665031Z",
     "shell.execute_reply.started": "2021-09-21T06:50:33.659411Z"
    }
   },
   "outputs": [],
   "source": [
    "#Setting callbakcs\n",
    "\n",
    "initial_learning_rate = 0.015\n",
    "lr_schedule = tf.keras.optimizers.schedules.ExponentialDecay(\n",
    "    initial_learning_rate, decay_steps=100000, decay_rate=0.96, staircase=True\n",
    ")\n",
    "\n",
    "early_stopping = callbacks.EarlyStopping(\n",
    "    monitor='val_loss',\n",
    "    patience=5,\n",
    "    min_delta=0.0000001,\n",
    "    restore_best_weights=True,\n",
    ")\n",
    "\n",
    "plateau = callbacks.ReduceLROnPlateau(\n",
    "    monitor='val_loss',\n",
    "    factor = 0.2,                                     \n",
    "    patience = 10,                                   \n",
    "    min_delt = 0.0000001,                                \n",
    "    cooldown = 0,                               \n",
    "    verbose = 1\n",
    ") \n",
    "\n",
    "checkpoint_cb = tf.keras.callbacks.ModelCheckpoint(\"xray_model.h5\", save_best_only=True)\n",
    "\n",
    "early_stopping_cb = tf.keras.callbacks.EarlyStopping(\n",
    "    patience=10, restore_best_weights=True\n",
    ")\n"
   ]
  },
  {
   "cell_type": "markdown",
   "metadata": {},
   "source": [
    "### CNN structure\n",
    "\n",
    "We will use block structure as in inception"
   ]
  },
  {
   "cell_type": "code",
   "execution_count": 9,
   "metadata": {},
   "outputs": [
    {
     "data": {
      "text/plain": [
       "<keras.layers.core.activation.Activation at 0x7f697c307790>"
      ]
     },
     "execution_count": 9,
     "metadata": {},
     "output_type": "execute_result"
    }
   ],
   "source": [
    "# To ease the choice of activations we generate them from a single entry\n",
    "\n",
    "def generate_activation(act_par):\n",
    "    \"\"\"\n",
    "    Uses the value in the configuration to generate the activation layer\n",
    "    :param act_par:\n",
    "    :return:\n",
    "    \"\"\"\n",
    "\n",
    "    if type(act_par) == list:\n",
    "        if len(act_par) == 2:\n",
    "            atype, par = act_par\n",
    "            if atype == 'elu':\n",
    "                return ELU(alpha=par)\n",
    "            elif atype == 'leaky':\n",
    "                return LeakyReLU(alpha=par)\n",
    "            elif atype == 'prelu':\n",
    "                return PReLU()\n",
    "            else:\n",
    "                raise NameError(\"No such Activation layer\")\n",
    "        elif len(act_par) == 1:\n",
    "            return Activation(act_par[0])\n",
    "        else:\n",
    "            raise NameError(\"No such Activation layer\")\n",
    "    elif type(act_par) == str:\n",
    "        return Activation(act_par)\n",
    "    else:\n",
    "        raise NameError(\"Wrong parameters for activation layer\")\n",
    "    return\n",
    "generate_activation('relu')"
   ]
  },
  {
   "cell_type": "code",
   "execution_count": 10,
   "metadata": {},
   "outputs": [],
   "source": [
    "# This example is with activation ELU \n",
    "activation_list = [\"leaky\",0.3]   # list of two or one components\n",
    "activation_list = [\"elu\",0.1]   # list of two or one components\n",
    "activation_list = [\"relu\"]   # list of two or one components\n",
    "\n",
    "dropout_rate = 0.3 # dropout for CNN layers\n",
    "\n",
    "# block definition\n",
    "\n",
    "def conv_block(filters, inputs):\n",
    "    x = layers.SeparableConv2D(filters, 3, padding=\"same\")(inputs)\n",
    "    x = generate_activation(activation_list)(x)\n",
    "    x = layers.Dropout(dropout_rate)(x)\n",
    "    x = layers.SeparableConv2D(filters, 3,  padding=\"same\")(x)\n",
    "    x = generate_activation(activation_list)(x)\n",
    "    x = layers.BatchNormalization()(x)\n",
    "    outputs = layers.MaxPool2D()(x)\n",
    "\n",
    "    return outputs\n",
    "\n",
    "def dense_block(units, dropout_rate, inputs):\n",
    "    x = layers.Dense(units, activation=\"relu\")(inputs)\n",
    "    x = layers.BatchNormalization()(x)\n",
    "    outputs = layers.Dropout(dropout_rate)(x)\n",
    "\n",
    "    return outputs"
   ]
  },
  {
   "cell_type": "code",
   "execution_count": 11,
   "metadata": {},
   "outputs": [],
   "source": [
    "def block_model():\n",
    "    inputs = layers.Input(shape=(IMG_SIZE, IMG_SIZE, 3))\n",
    "    \n",
    "#   x = layers.Rescaling(1.0 / 255)(inputs)\n",
    "    x = layers.Conv2D(16, 3,  padding=\"same\")(inputs)\n",
    "    x = generate_activation(activation_list)(x)\n",
    "    x = layers.Conv2D(16, 3, padding=\"same\")(x)\n",
    "    x = generate_activation(activation_list)(x)\n",
    "    x = layers.MaxPool2D()(x)\n",
    "\n",
    "    x = conv_block(32, x)\n",
    "    x = conv_block(64, x)\n",
    "\n",
    "    x = conv_block(128, x)\n",
    "#    x = layers.Dropout(0.2)(x)\n",
    "\n",
    "    x = conv_block(256, x)\n",
    "#    x = layers.Dropout(0.2)(x)\n",
    "\n",
    "    x = layers.Flatten()(x)\n",
    "    x = dense_block(512, 0.7, x)\n",
    "#    x = dense_block(128, 0.5, x)\n",
    "    x = dense_block(64, 0.3, x)\n",
    "\n",
    "    outputs = layers.Dense(1, activation=\"sigmoid\")(x)\n",
    "\n",
    "    model = keras.Model(inputs=inputs, outputs=outputs)\n",
    "    return model\n"
   ]
  },
  {
   "cell_type": "code",
   "execution_count": 12,
   "metadata": {
    "execution": {
     "iopub.execute_input": "2021-09-21T06:50:33.681512Z",
     "iopub.status.busy": "2021-09-21T06:50:33.681083Z",
     "iopub.status.idle": "2021-09-21T06:50:33.792110Z",
     "shell.execute_reply": "2021-09-21T06:50:33.790855Z",
     "shell.execute_reply.started": "2021-09-21T06:50:33.681477Z"
    }
   },
   "outputs": [
    {
     "name": "stdout",
     "output_type": "stream",
     "text": [
      "Model: \"model\"\n",
      "_________________________________________________________________\n",
      " Layer (type)                Output Shape              Param #   \n",
      "=================================================================\n",
      " input_1 (InputLayer)        [(None, 224, 224, 3)]     0         \n",
      "                                                                 \n",
      " conv2d (Conv2D)             (None, 224, 224, 16)      448       \n",
      "                                                                 \n",
      " activation (Activation)     (None, 224, 224, 16)      0         \n",
      "                                                                 \n",
      " conv2d_1 (Conv2D)           (None, 224, 224, 16)      2320      \n",
      "                                                                 \n",
      " activation_1 (Activation)   (None, 224, 224, 16)      0         \n",
      "                                                                 \n",
      " max_pooling2d (MaxPooling2D  (None, 112, 112, 16)     0         \n",
      " )                                                               \n",
      "                                                                 \n",
      " separable_conv2d (Separable  (None, 112, 112, 32)     688       \n",
      " Conv2D)                                                         \n",
      "                                                                 \n",
      " activation_2 (Activation)   (None, 112, 112, 32)      0         \n",
      "                                                                 \n",
      " dropout (Dropout)           (None, 112, 112, 32)      0         \n",
      "                                                                 \n",
      " separable_conv2d_1 (Separab  (None, 112, 112, 32)     1344      \n",
      " leConv2D)                                                       \n",
      "                                                                 \n",
      " activation_3 (Activation)   (None, 112, 112, 32)      0         \n",
      "                                                                 \n",
      " batch_normalization (BatchN  (None, 112, 112, 32)     128       \n",
      " ormalization)                                                   \n",
      "                                                                 \n",
      " max_pooling2d_1 (MaxPooling  (None, 56, 56, 32)       0         \n",
      " 2D)                                                             \n",
      "                                                                 \n",
      " separable_conv2d_2 (Separab  (None, 56, 56, 64)       2400      \n",
      " leConv2D)                                                       \n",
      "                                                                 \n",
      " activation_4 (Activation)   (None, 56, 56, 64)        0         \n",
      "                                                                 \n",
      " dropout_1 (Dropout)         (None, 56, 56, 64)        0         \n",
      "                                                                 \n",
      " separable_conv2d_3 (Separab  (None, 56, 56, 64)       4736      \n",
      " leConv2D)                                                       \n",
      "                                                                 \n",
      " activation_5 (Activation)   (None, 56, 56, 64)        0         \n",
      "                                                                 \n",
      " batch_normalization_1 (Batc  (None, 56, 56, 64)       256       \n",
      " hNormalization)                                                 \n",
      "                                                                 \n",
      " max_pooling2d_2 (MaxPooling  (None, 28, 28, 64)       0         \n",
      " 2D)                                                             \n",
      "                                                                 \n",
      " separable_conv2d_4 (Separab  (None, 28, 28, 128)      8896      \n",
      " leConv2D)                                                       \n",
      "                                                                 \n",
      " activation_6 (Activation)   (None, 28, 28, 128)       0         \n",
      "                                                                 \n",
      " dropout_2 (Dropout)         (None, 28, 28, 128)       0         \n",
      "                                                                 \n",
      " separable_conv2d_5 (Separab  (None, 28, 28, 128)      17664     \n",
      " leConv2D)                                                       \n",
      "                                                                 \n",
      " activation_7 (Activation)   (None, 28, 28, 128)       0         \n",
      "                                                                 \n",
      " batch_normalization_2 (Batc  (None, 28, 28, 128)      512       \n",
      " hNormalization)                                                 \n",
      "                                                                 \n",
      " max_pooling2d_3 (MaxPooling  (None, 14, 14, 128)      0         \n",
      " 2D)                                                             \n",
      "                                                                 \n",
      " separable_conv2d_6 (Separab  (None, 14, 14, 256)      34176     \n",
      " leConv2D)                                                       \n",
      "                                                                 \n",
      " activation_8 (Activation)   (None, 14, 14, 256)       0         \n",
      "                                                                 \n",
      " dropout_3 (Dropout)         (None, 14, 14, 256)       0         \n",
      "                                                                 \n",
      " separable_conv2d_7 (Separab  (None, 14, 14, 256)      68096     \n",
      " leConv2D)                                                       \n",
      "                                                                 \n",
      " activation_9 (Activation)   (None, 14, 14, 256)       0         \n",
      "                                                                 \n",
      " batch_normalization_3 (Batc  (None, 14, 14, 256)      1024      \n",
      " hNormalization)                                                 \n",
      "                                                                 \n",
      " max_pooling2d_4 (MaxPooling  (None, 7, 7, 256)        0         \n",
      " 2D)                                                             \n",
      "                                                                 \n",
      " flatten (Flatten)           (None, 12544)             0         \n",
      "                                                                 \n",
      " dense (Dense)               (None, 512)               6423040   \n",
      "                                                                 \n",
      " batch_normalization_4 (Batc  (None, 512)              2048      \n",
      " hNormalization)                                                 \n",
      "                                                                 \n",
      " dropout_4 (Dropout)         (None, 512)               0         \n",
      "                                                                 \n",
      " dense_1 (Dense)             (None, 64)                32832     \n",
      "                                                                 \n",
      " batch_normalization_5 (Batc  (None, 64)               256       \n",
      " hNormalization)                                                 \n",
      "                                                                 \n",
      " dropout_5 (Dropout)         (None, 64)                0         \n",
      "                                                                 \n",
      " dense_2 (Dense)             (None, 1)                 65        \n",
      "                                                                 \n",
      "=================================================================\n",
      "Total params: 6,600,929\n",
      "Trainable params: 6,598,817\n",
      "Non-trainable params: 2,112\n",
      "_________________________________________________________________\n"
     ]
    }
   ],
   "source": [
    "keras.backend.clear_session()\n",
    "\n",
    "model = block_model()\n",
    "model.compile(loss='binary_crossentropy'\n",
    "              , optimizer = keras.optimizers.Adam(learning_rate=lr_schedule), metrics='binary_accuracy')\n",
    "\n",
    "model.summary()"
   ]
  },
  {
   "cell_type": "code",
   "execution_count": 13,
   "metadata": {
    "_kg_hide-output": true,
    "execution": {
     "iopub.execute_input": "2021-09-21T06:50:33.793654Z",
     "iopub.status.busy": "2021-09-21T06:50:33.793409Z",
     "iopub.status.idle": "2021-09-21T07:32:47.116245Z",
     "shell.execute_reply": "2021-09-21T07:32:47.115524Z",
     "shell.execute_reply.started": "2021-09-21T06:50:33.793621Z"
    }
   },
   "outputs": [
    {
     "name": "stdout",
     "output_type": "stream",
     "text": [
      "Epoch 1/50\n",
      "123/123 [==============================] - 247s 2s/step - loss: 0.4861 - binary_accuracy: 0.7767 - val_loss: 0.4004 - val_binary_accuracy: 0.8345\n",
      "Epoch 2/50\n",
      "123/123 [==============================] - 216s 2s/step - loss: 0.3870 - binary_accuracy: 0.8320 - val_loss: 22.4990 - val_binary_accuracy: 0.7270\n",
      "Epoch 3/50\n",
      "123/123 [==============================] - 217s 2s/step - loss: 0.3515 - binary_accuracy: 0.8509 - val_loss: 0.4629 - val_binary_accuracy: 0.8170\n",
      "Epoch 4/50\n",
      "123/123 [==============================] - 217s 2s/step - loss: 0.3044 - binary_accuracy: 0.8652 - val_loss: 0.4971 - val_binary_accuracy: 0.7839\n",
      "Epoch 5/50\n",
      "123/123 [==============================] - 219s 2s/step - loss: 0.2913 - binary_accuracy: 0.8782 - val_loss: 0.3789 - val_binary_accuracy: 0.8800\n",
      "Epoch 6/50\n",
      "123/123 [==============================] - 219s 2s/step - loss: 0.2720 - binary_accuracy: 0.8889 - val_loss: 0.3777 - val_binary_accuracy: 0.8387\n",
      "Epoch 7/50\n",
      "123/123 [==============================] - 219s 2s/step - loss: 0.2524 - binary_accuracy: 0.8945 - val_loss: 2.2420 - val_binary_accuracy: 0.7291\n",
      "Epoch 8/50\n",
      "123/123 [==============================] - 224s 2s/step - loss: 0.2626 - binary_accuracy: 0.8978 - val_loss: 0.9755 - val_binary_accuracy: 0.7642\n",
      "Epoch 9/50\n",
      "123/123 [==============================] - 224s 2s/step - loss: 0.2480 - binary_accuracy: 0.9034 - val_loss: 0.1836 - val_binary_accuracy: 0.9359\n",
      "Epoch 10/50\n",
      "123/123 [==============================] - 223s 2s/step - loss: 0.2241 - binary_accuracy: 0.9164 - val_loss: 0.4167 - val_binary_accuracy: 0.8625\n",
      "Epoch 11/50\n",
      "123/123 [==============================] - 220s 2s/step - loss: 0.2182 - binary_accuracy: 0.9156 - val_loss: 0.2676 - val_binary_accuracy: 0.9038\n",
      "Epoch 12/50\n",
      "123/123 [==============================] - 220s 2s/step - loss: 0.2184 - binary_accuracy: 0.9182 - val_loss: 0.2081 - val_binary_accuracy: 0.9276\n",
      "Epoch 13/50\n",
      "123/123 [==============================] - 267s 2s/step - loss: 0.2192 - binary_accuracy: 0.9131 - val_loss: 0.3270 - val_binary_accuracy: 0.8831\n",
      "Epoch 14/50\n",
      "123/123 [==============================] - 272s 2s/step - loss: 0.2200 - binary_accuracy: 0.9133 - val_loss: 1.0305 - val_binary_accuracy: 0.7229\n",
      "Epoch 15/50\n",
      "123/123 [==============================] - 396s 3s/step - loss: 0.2079 - binary_accuracy: 0.9182 - val_loss: 0.1320 - val_binary_accuracy: 0.9483\n",
      "Epoch 16/50\n",
      "123/123 [==============================] - 381s 3s/step - loss: 0.2218 - binary_accuracy: 0.9115 - val_loss: 0.7709 - val_binary_accuracy: 0.7146\n",
      "Epoch 17/50\n",
      "123/123 [==============================] - 346s 3s/step - loss: 0.2020 - binary_accuracy: 0.9177 - val_loss: 0.2324 - val_binary_accuracy: 0.9090\n",
      "Epoch 18/50\n",
      "123/123 [==============================] - 344s 3s/step - loss: 0.2119 - binary_accuracy: 0.9189 - val_loss: 0.2488 - val_binary_accuracy: 0.9121\n",
      "Epoch 19/50\n",
      "123/123 [==============================] - 325s 3s/step - loss: 0.2210 - binary_accuracy: 0.9179 - val_loss: 0.7276 - val_binary_accuracy: 0.7291\n",
      "Epoch 20/50\n",
      "123/123 [==============================] - 347s 3s/step - loss: 0.2520 - binary_accuracy: 0.8945 - val_loss: 4.8487 - val_binary_accuracy: 0.4292\n",
      "Epoch 21/50\n",
      "123/123 [==============================] - 346s 3s/step - loss: 0.2692 - binary_accuracy: 0.8937 - val_loss: 0.2066 - val_binary_accuracy: 0.9152\n",
      "Epoch 22/50\n",
      "123/123 [==============================] - 346s 3s/step - loss: 0.2209 - binary_accuracy: 0.9205 - val_loss: 0.9724 - val_binary_accuracy: 0.7332\n",
      "Epoch 23/50\n",
      "123/123 [==============================] - 325s 3s/step - loss: 0.2134 - binary_accuracy: 0.9166 - val_loss: 0.1657 - val_binary_accuracy: 0.9359\n",
      "Epoch 24/50\n",
      "123/123 [==============================] - 343s 3s/step - loss: 0.2242 - binary_accuracy: 0.9161 - val_loss: 0.2733 - val_binary_accuracy: 0.8821\n",
      "Epoch 25/50\n",
      "123/123 [==============================] - 315s 3s/step - loss: 0.1947 - binary_accuracy: 0.9261 - val_loss: 0.3741 - val_binary_accuracy: 0.8501\n"
     ]
    }
   ],
   "source": [
    "history = model.fit(ds_train,\n",
    "          batch_size = BATCH, \n",
    "          epochs = 50,\n",
    "          validation_data=ds_val,\n",
    "          class_weight=class_weight,\n",
    "          callbacks=[early_stopping_cb,checkpoint_cb]);\n",
    "\n",
    "#         steps_per_epoch=(len(ds_train)/BATCH),\n",
    "#         validation_steps=(len(ds_val)/BATCH)\n"
   ]
  },
  {
   "cell_type": "markdown",
   "metadata": {},
   "source": [
    "## Measuring the accuracy of the CNN Network"
   ]
  },
  {
   "cell_type": "code",
   "execution_count": 14,
   "metadata": {
    "_kg_hide-input": true,
    "execution": {
     "iopub.execute_input": "2021-09-21T07:32:47.118055Z",
     "iopub.status.busy": "2021-09-21T07:32:47.117796Z",
     "iopub.status.idle": "2021-09-21T07:32:47.380527Z",
     "shell.execute_reply": "2021-09-21T07:32:47.379875Z",
     "shell.execute_reply.started": "2021-09-21T07:32:47.118023Z"
    }
   },
   "outputs": [
    {
     "data": {
      "image/png": "[encoded data removed]",
      "text/plain": [
       "<Figure size 864x576 with 1 Axes>"
      ]
     },
     "metadata": {
      "needs_background": "light"
     },
     "output_type": "display_data"
    }
   ],
   "source": [
    "fig, ax = plt.subplots(figsize=(12,8))\n",
    "sns.lineplot(x = history.epoch, y = history.history['loss'])\n",
    "sns.lineplot(x = history.epoch, y = history.history['val_loss'])\n",
    "ax.set_title('Learning Curve (Loss) /'+activation_list[0]+' / dropout:'+ str(dropout_rate))\n",
    "ax.set_ylabel('Loss')\n",
    "ax.set_xlabel('Epoch')\n",
    "ax.set_ylim(0, 10)\n",
    "ax.legend(['train', 'val'], loc='best')\n",
    "plt.show()"
   ]
  },
  {
   "cell_type": "code",
   "execution_count": 15,
   "metadata": {
    "_kg_hide-input": true,
    "execution": {
     "iopub.execute_input": "2021-09-21T07:32:47.382133Z",
     "iopub.status.busy": "2021-09-21T07:32:47.381888Z",
     "iopub.status.idle": "2021-09-21T07:32:47.650381Z",
     "shell.execute_reply": "2021-09-21T07:32:47.649710Z",
     "shell.execute_reply.started": "2021-09-21T07:32:47.382101Z"
    }
   },
   "outputs": [
    {
     "data": {
      "image/png": "[encoded data removed]",
      "text/plain": [
       "<Figure size 864x576 with 1 Axes>"
      ]
     },
     "metadata": {
      "needs_background": "light"
     },
     "output_type": "display_data"
    }
   ],
   "source": [
    "fig, ax = plt.subplots(figsize=(12,8))\n",
    "sns.lineplot(x = history.epoch, y = history.history['binary_accuracy'])\n",
    "sns.lineplot(x = history.epoch, y = history.history['val_binary_accuracy'])\n",
    "ax.set_title('Learning Curve (Accuracy) /'+activation_list[0]+' / dropout:'+ str(dropout_rate))\n",
    "ax.set_ylabel('Accuracy')\n",
    "ax.set_xlabel('Epoch')\n",
    "ax.set_ylim(0.00, 1.0)\n",
    "ax.legend(['train', 'val'], loc='best')\n",
    "plt.show()"
   ]
  },
  {
   "cell_type": "code",
   "execution_count": 16,
   "metadata": {
    "execution": {
     "iopub.execute_input": "2021-09-21T07:32:47.651965Z",
     "iopub.status.busy": "2021-09-21T07:32:47.651686Z",
     "iopub.status.idle": "2021-09-21T07:32:59.539926Z",
     "shell.execute_reply": "2021-09-21T07:32:59.539200Z",
     "shell.execute_reply.started": "2021-09-21T07:32:47.651932Z"
    }
   },
   "outputs": [
    {
     "name": "stdout",
     "output_type": "stream",
     "text": [
      "Val loss: 0.13196757435798645\n",
      "Val accuracy: 0.9482936859130859\n"
     ]
    }
   ],
   "source": [
    "score = model.evaluate(ds_val, steps = len(val_df)/BATCH, verbose = 0)\n",
    "print('Val loss:', score[0])\n",
    "print('Val accuracy:', score[1])"
   ]
  },
  {
   "cell_type": "code",
   "execution_count": 17,
   "metadata": {
    "_kg_hide-input": false,
    "execution": {
     "iopub.execute_input": "2021-09-21T07:32:59.541808Z",
     "iopub.status.busy": "2021-09-21T07:32:59.541306Z",
     "iopub.status.idle": "2021-09-21T07:33:11.537571Z",
     "shell.execute_reply": "2021-09-21T07:33:11.536848Z",
     "shell.execute_reply.started": "2021-09-21T07:32:59.541759Z"
    }
   },
   "outputs": [
    {
     "name": "stdout",
     "output_type": "stream",
     "text": [
      "Test loss: 0.15318766236305237\n",
      "Test accuracy: 0.9430641531944275\n"
     ]
    }
   ],
   "source": [
    "score = model.evaluate(ds_test, steps = len(test_df), verbose = 0)\n",
    "\n",
    "print('Test loss:', score[0])\n",
    "print('Test accuracy:', score[1])"
   ]
  },
  {
   "cell_type": "markdown",
   "metadata": {},
   "source": [
    "## Confusion Matrix and ROC Curve"
   ]
  },
  {
   "cell_type": "code",
   "execution_count": 18,
   "metadata": {
    "_kg_hide-input": true,
    "execution": {
     "iopub.execute_input": "2021-09-21T08:52:22.266371Z",
     "iopub.status.busy": "2021-09-21T08:52:22.264464Z",
     "iopub.status.idle": "2021-09-21T08:52:22.275386Z",
     "shell.execute_reply": "2021-09-21T08:52:22.274556Z",
     "shell.execute_reply.started": "2021-09-21T08:52:22.266332Z"
    }
   },
   "outputs": [],
   "source": [
    "num_label = {'Normal': 0, 'Pneumonia' : 1}\n",
    "Y_test = test_df['class'].copy().map(num_label).astype('int')"
   ]
  },
  {
   "cell_type": "code",
   "execution_count": 19,
   "metadata": {
    "execution": {
     "iopub.execute_input": "2021-09-21T08:52:22.280022Z",
     "iopub.status.busy": "2021-09-21T08:52:22.278653Z",
     "iopub.status.idle": "2021-09-21T08:52:40.368433Z",
     "shell.execute_reply": "2021-09-21T08:52:40.367682Z",
     "shell.execute_reply.started": "2021-09-21T08:52:22.279987Z"
    }
   },
   "outputs": [],
   "source": [
    "ds_test.reset()\n",
    "predictions = model.predict(ds_test, steps=len(ds_test), verbose=0)\n",
    "pred_labels= np.where(predictions>0.5, 1, 0)"
   ]
  },
  {
   "cell_type": "code",
   "execution_count": 20,
   "metadata": {
    "execution": {
     "iopub.execute_input": "2021-09-21T08:52:40.369810Z",
     "iopub.status.busy": "2021-09-21T08:52:40.369536Z",
     "iopub.status.idle": "2021-09-21T08:52:40.379306Z",
     "shell.execute_reply": "2021-09-21T08:52:40.378505Z",
     "shell.execute_reply.started": "2021-09-21T08:52:40.369769Z"
    }
   },
   "outputs": [
    {
     "name": "stdout",
     "output_type": "stream",
     "text": [
      "Test Accuracy:  0.943064182194617\n"
     ]
    }
   ],
   "source": [
    "print(\"Test Accuracy: \", accuracy_score(Y_test, pred_labels))"
   ]
  },
  {
   "cell_type": "code",
   "execution_count": 21,
   "metadata": {
    "_kg_hide-input": true,
    "_kg_hide-output": false,
    "execution": {
     "iopub.execute_input": "2021-09-21T08:52:40.382218Z",
     "iopub.status.busy": "2021-09-21T08:52:40.382026Z",
     "iopub.status.idle": "2021-09-21T08:52:40.596093Z",
     "shell.execute_reply": "2021-09-21T08:52:40.595419Z",
     "shell.execute_reply.started": "2021-09-21T08:52:40.382196Z"
    }
   },
   "outputs": [
    {
     "data": {
      "image/png": "[encoded data removed]",
      "text/plain": [
       "<Figure size 432x288 with 2 Axes>"
      ]
     },
     "metadata": {
      "needs_background": "light"
     },
     "output_type": "display_data"
    }
   ],
   "source": [
    "confusion_matrix = metrics.confusion_matrix(Y_test, pred_labels)\n",
    "sns.heatmap(confusion_matrix, annot=True, fmt=\"d\")\n",
    "\n",
    "plt.xlabel(\"Predicted Label\", fontsize= 12)\n",
    "plt.ylabel(\"True Label\", fontsize= 12)\n",
    "\n",
    "plt.show()"
   ]
  },
  {
   "cell_type": "code",
   "execution_count": 22,
   "metadata": {
    "_kg_hide-input": true,
    "execution": {
     "iopub.execute_input": "2021-09-21T08:52:40.597617Z",
     "iopub.status.busy": "2021-09-21T08:52:40.597366Z",
     "iopub.status.idle": "2021-09-21T08:52:40.608447Z",
     "shell.execute_reply": "2021-09-21T08:52:40.607586Z",
     "shell.execute_reply.started": "2021-09-21T08:52:40.597583Z"
    }
   },
   "outputs": [
    {
     "name": "stdout",
     "output_type": "stream",
     "text": [
      "              precision    recall  f1-score   support\n",
      "\n",
      "           0       0.92      0.87      0.89       261\n",
      "           1       0.95      0.97      0.96       705\n",
      "\n",
      "    accuracy                           0.94       966\n",
      "   macro avg       0.94      0.92      0.93       966\n",
      "weighted avg       0.94      0.94      0.94       966\n",
      "\n"
     ]
    }
   ],
   "source": [
    "print(metrics.classification_report(Y_test, pred_labels, labels = [0, 1]))"
   ]
  },
  {
   "cell_type": "code",
   "execution_count": 23,
   "metadata": {
    "_kg_hide-input": true,
    "execution": {
     "iopub.execute_input": "2021-09-21T08:52:40.610070Z",
     "iopub.status.busy": "2021-09-21T08:52:40.609803Z",
     "iopub.status.idle": "2021-09-21T08:52:40.798635Z",
     "shell.execute_reply": "2021-09-21T08:52:40.797989Z",
     "shell.execute_reply.started": "2021-09-21T08:52:40.610036Z"
    }
   },
   "outputs": [
    {
     "name": "stdout",
     "output_type": "stream",
     "text": [
      "ROC_AUC:  0.9792831716529442\n"
     ]
    },
    {
     "data": {
      "image/png": "[encoded data removed]",
      "text/plain": [
       "<Figure size 432x288 with 1 Axes>"
      ]
     },
     "metadata": {
      "needs_background": "light"
     },
     "output_type": "display_data"
    }
   ],
   "source": [
    "roc_auc = metrics.roc_auc_score(Y_test, predictions)\n",
    "print('ROC_AUC: ', roc_auc)\n",
    "\n",
    "fpr, tpr, thresholds = metrics.roc_curve(Y_test, predictions)\n",
    "\n",
    "plt.plot(fpr, tpr, label = 'ROC_AUC = %0.3f' % roc_auc)\n",
    "\n",
    "plt.xlabel(\"False Positive Rate\", fontsize= 12)\n",
    "plt.ylabel(\"True Positive Rate\", fontsize= 12)\n",
    "plt.legend(loc=\"lower right\")\n",
    "\n",
    "plt.show()"
   ]
  },
  {
   "cell_type": "code",
   "execution_count": 24,
   "metadata": {},
   "outputs": [],
   "source": [
    "#EOF"
   ]
  }
 ],
 "metadata": {
  "kernelspec": {
   "display_name": "DL",
   "language": "python",
   "name": "dl"
  },
  "language_info": {
   "codemirror_mode": {
    "name": "ipython",
    "version": 3
   },
   "file_extension": ".py",
   "mimetype": "text/x-python",
   "name": "python",
   "nbconvert_exporter": "python",
   "pygments_lexer": "ipython3",
   "version": "3.8.12"
  }
 },
 "nbformat": 4,
 "nbformat_minor": 4
}
