{
 "cells": [
  {
   "cell_type": "markdown",
   "metadata": {},
   "source": [
    "# Simple MNIST MLP Classifier with regularization and Hyperparameter search\n",
    "\n",
    "**Description:** Simple example for Multi Layer Perceptron MNIST Classifier included several regularization \n",
    "examples like dropout, learning rate, early stopping<br>\n",
    "This example has larger layers and more complex training<br>\n",
    "**Dataset:** Classical MNIST dataset <br>\n",
    "."
   ]
  },
  {
   "cell_type": "code",
   "execution_count": 1,
   "metadata": {},
   "outputs": [],
   "source": [
    "import os\n",
    "os.environ['TF_CPP_MIN_LOG_LEVEL'] = '3' # to avoid warning messages\n",
    "\n",
    "import tensorflow as tf\n",
    "import matplotlib.pyplot as plt\n",
    "\n",
    "import keras_tuner as kt\n",
    "from keras.datasets import mnist\n",
    "from keras.models import Sequential\n",
    "from keras.layers import Dense, Dropout\n",
    "from tensorflow.keras.utils import to_categorical\n",
    "from tensorflow.keras.optimizers import RMSprop\n",
    "from tensorflow.keras import callbacks\n",
    "from tensorflow.keras import layers\n",
    "from tensorflow.keras.models import Model\n",
    "\n",
    "\n",
    "def Analyze_training(h):\n",
    "# summarize history for accuracy\n",
    "# history.history.keys() -> dict_keys(['loss', 'accuracy', 'val_loss', 'val_accuracy'])\n",
    "   plt.plot(h.history['accuracy'])\n",
    "   plt.plot(h.history['val_accuracy'])\n",
    "   plt.title('model accuracy')\n",
    "   plt.ylabel('accuracy')\n",
    "   plt.xlabel('epoch')\n",
    "   plt.legend(['train', 'test'], loc='upper left')\n",
    "   plt.show()\n",
    "# summarize history for loss\n",
    "   plt.plot(h.history['loss'])\n",
    "   plt.plot(h.history['val_loss'])\n",
    "   plt.title('model loss')\n",
    "   plt.ylabel('loss')\n",
    "   plt.xlabel('epoch')\n",
    "   plt.legend(['train', 'test'], loc='upper left')\n",
    "   plt.show()\n",
    "   return"
   ]
  },
  {
   "cell_type": "code",
   "execution_count": 20,
   "metadata": {},
   "outputs": [],
   "source": [
    "# Data definitions\n",
    "batch_size = 256\n",
    "epochs = 15\n"
   ]
  },
  {
   "cell_type": "markdown",
   "metadata": {},
   "source": [
    "### Data Preparation"
   ]
  },
  {
   "cell_type": "code",
   "execution_count": 3,
   "metadata": {},
   "outputs": [
    {
     "name": "stdout",
     "output_type": "stream",
     "text": [
      "60000 train samples\n",
      "10000 test samples\n"
     ]
    }
   ],
   "source": [
    "(x_train, y_train), (x_test, y_test) = mnist.load_data()\n",
    "\n",
    "x_train = x_train.reshape(60000, 784)\n",
    "x_test = x_test.reshape(10000, 784)\n",
    "x_train = x_train.astype('float32')\n",
    "x_test = x_test.astype('float32')\n",
    "x_train /= 255\n",
    "x_test /= 255\n",
    "print(x_train.shape[0], 'train samples')\n",
    "print(x_test.shape[0], 'test samples')"
   ]
  },
  {
   "cell_type": "code",
   "execution_count": 4,
   "metadata": {},
   "outputs": [
    {
     "data": {
      "text/plain": [
       "(60000, 10)"
      ]
     },
     "execution_count": 4,
     "metadata": {},
     "output_type": "execute_result"
    }
   ],
   "source": [
    "# convert class vectors to binary class matrices\n",
    "y_train = to_categorical(y_train, 10)\n",
    "y_test = to_categorical(y_test, 10)\n",
    "y_train.shape"
   ]
  },
  {
   "cell_type": "markdown",
   "metadata": {},
   "source": [
    "### Hyperparameter Search"
   ]
  },
  {
   "cell_type": "code",
   "execution_count": 5,
   "metadata": {},
   "outputs": [],
   "source": [
    "# MLP definition & Hyperparameter size\n",
    "\n",
    "def build_model(hp):\n",
    "    \n",
    "   ### Optimization of layer sizes\n",
    "   hlayer1 = hp.Choice('layer1', [8,16,32,128,256,512]) \n",
    "   hlayer2 = hp.Int('layer2', min_value=32, max_value=512, step=32)\n",
    "   hlayer3 = hp.Choice('layer3', [8,16,32,128,256,512]) \n",
    "\n",
    "   # iput layer\n",
    "   inputs = layers.Input(shape=(784,))\n",
    "   # first hidden layer\n",
    "   x = layers.Dense(hlayer1, activation='relu')(inputs)\n",
    "   x = layers.Dropout(0.1)(x)\n",
    "   # second hidden layer\n",
    "   x = layers.Dense(hlayer2, activation='relu')(x)\n",
    "   x = layers.Dropout(0.1)(x)\n",
    "   # third hidden layer\n",
    "   x = layers.Dense(hlayer3, activation='relu')(x)\n",
    "   x = layers.Dropout(0.1)(x)\n",
    "   #Final Layer (Output)\n",
    "   output = layers.Dense(10, activation='softmax')(x)\n",
    "    \n",
    "   model = Model(inputs=[inputs], outputs=output)\n",
    "   model.compile(loss='categorical_crossentropy',optimizer=RMSprop(),\n",
    "              metrics=['accuracy'])   \n",
    "    \n",
    "   return model"
   ]
  },
  {
   "cell_type": "code",
   "execution_count": 6,
   "metadata": {},
   "outputs": [],
   "source": [
    "tuner = kt.RandomSearch(\n",
    "    build_model,\n",
    "    objective='val_accuracy',\n",
    "    max_trials=500,\n",
    "    overwrite = True)"
   ]
  },
  {
   "cell_type": "code",
   "execution_count": 7,
   "metadata": {},
   "outputs": [
    {
     "name": "stdout",
     "output_type": "stream",
     "text": [
      "Trial 222 Complete [00h 01m 17s]\n",
      "val_accuracy: 0.9797000288963318\n",
      "\n",
      "Best val_accuracy So Far: 0.9822999835014343\n",
      "Total elapsed time: 04h 02m 53s\n",
      "INFO:tensorflow:Oracle triggered exit\n"
     ]
    }
   ],
   "source": [
    "tuner.search(x_train, y_train, epochs=15, validation_data=(x_test, y_test))\n",
    "best_model = tuner.get_best_hyperparameters(num_trials=1)[0]"
   ]
  },
  {
   "cell_type": "markdown",
   "metadata": {},
   "source": [
    "### Test the best result "
   ]
  },
  {
   "cell_type": "code",
   "execution_count": 8,
   "metadata": {},
   "outputs": [
    {
     "name": "stdout",
     "output_type": "stream",
     "text": [
      "best model has layer1: 256 layer 2: 192 layer 3: 512\n"
     ]
    }
   ],
   "source": [
    "print('best model has layer1:', best_model.get('layer1'), 'layer 2:', best_model.get('layer2'), 'layer 3:', \n",
    "       best_model.get('layer3'))"
   ]
  },
  {
   "cell_type": "code",
   "execution_count": 9,
   "metadata": {},
   "outputs": [],
   "source": [
    "hlayer1 = best_model.get('layer1')\n",
    "hlayer2 = best_model.get('layer2')\n",
    "hlayer3 = best_model.get('layer3')"
   ]
  },
  {
   "cell_type": "code",
   "execution_count": 10,
   "metadata": {},
   "outputs": [],
   "source": [
    "def get_MLP():\n",
    "    \n",
    "    # iput layer\n",
    "    inputs = layers.Input(shape=(784,))\n",
    "    # first hidden layer\n",
    "    x = layers.Dense(hlayer1, activation='relu')(inputs)\n",
    "    x = layers.Dropout(0.1)(x)\n",
    "    # second hidden layer\n",
    "    x = layers.Dense(hlayer2, activation='relu')(x)\n",
    "    x = layers.Dropout(0.1)(x)\n",
    "    # third hidden layer\n",
    "    x = layers.Dense(hlayer3, activation='relu')(x)\n",
    "    x = layers.Dropout(0.1)(x)\n",
    "    #Final Layer (Output)\n",
    "    output = layers.Dense(10, activation='softmax')(x)\n",
    "    \n",
    "    model = Model(inputs=[inputs], outputs=output)\n",
    "    \n",
    "    return model"
   ]
  },
  {
   "cell_type": "code",
   "execution_count": 16,
   "metadata": {},
   "outputs": [
    {
     "name": "stdout",
     "output_type": "stream",
     "text": [
      "Model: \"model_2\"\n",
      "_________________________________________________________________\n",
      " Layer (type)                Output Shape              Param #   \n",
      "=================================================================\n",
      " input_3 (InputLayer)        [(None, 784)]             0         \n",
      "                                                                 \n",
      " dense_8 (Dense)             (None, 256)               200960    \n",
      "                                                                 \n",
      " dropout_6 (Dropout)         (None, 256)               0         \n",
      "                                                                 \n",
      " dense_9 (Dense)             (None, 192)               49344     \n",
      "                                                                 \n",
      " dropout_7 (Dropout)         (None, 192)               0         \n",
      "                                                                 \n",
      " dense_10 (Dense)            (None, 512)               98816     \n",
      "                                                                 \n",
      " dropout_8 (Dropout)         (None, 512)               0         \n",
      "                                                                 \n",
      " dense_11 (Dense)            (None, 10)                5130      \n",
      "                                                                 \n",
      "=================================================================\n",
      "Total params: 354,250\n",
      "Trainable params: 354,250\n",
      "Non-trainable params: 0\n",
      "_________________________________________________________________\n"
     ]
    }
   ],
   "source": [
    "model = get_MLP()\n",
    "model.compile(loss='categorical_crossentropy',optimizer=RMSprop(), metrics=['accuracy'])\n",
    "\n",
    "model.summary()"
   ]
  },
  {
   "cell_type": "code",
   "execution_count": 22,
   "metadata": {},
   "outputs": [
    {
     "name": "stdout",
     "output_type": "stream",
     "text": [
      "Epoch 1/15\n",
      "235/235 [==============================] - 1s 6ms/step - loss: 0.0584 - accuracy: 0.9878 - val_loss: 0.1052 - val_accuracy: 0.9806\n",
      "Epoch 2/15\n",
      "235/235 [==============================] - 1s 6ms/step - loss: 0.0467 - accuracy: 0.9902 - val_loss: 0.1086 - val_accuracy: 0.9824\n",
      "Epoch 3/15\n",
      "235/235 [==============================] - 1s 6ms/step - loss: 0.0370 - accuracy: 0.9914 - val_loss: 0.1051 - val_accuracy: 0.9820\n",
      "Epoch 4/15\n",
      "235/235 [==============================] - 1s 6ms/step - loss: 0.0320 - accuracy: 0.9925 - val_loss: 0.1143 - val_accuracy: 0.9829\n",
      "Epoch 5/15\n",
      "235/235 [==============================] - 1s 6ms/step - loss: 0.0286 - accuracy: 0.9929 - val_loss: 0.1518 - val_accuracy: 0.9834\n",
      "Epoch 6/15\n",
      "235/235 [==============================] - 1s 6ms/step - loss: 0.0305 - accuracy: 0.9936 - val_loss: 0.1358 - val_accuracy: 0.9838\n",
      "Epoch 7/15\n",
      "235/235 [==============================] - 1s 6ms/step - loss: 0.0239 - accuracy: 0.9939 - val_loss: 0.1522 - val_accuracy: 0.9805\n",
      "Epoch 8/15\n",
      "235/235 [==============================] - 1s 6ms/step - loss: 0.0250 - accuracy: 0.9946 - val_loss: 0.1334 - val_accuracy: 0.9832\n",
      "Epoch 9/15\n",
      "235/235 [==============================] - 1s 6ms/step - loss: 0.0249 - accuracy: 0.9943 - val_loss: 0.1391 - val_accuracy: 0.9832\n",
      "Epoch 10/15\n",
      "235/235 [==============================] - 1s 6ms/step - loss: 0.0264 - accuracy: 0.9940 - val_loss: 0.1251 - val_accuracy: 0.9842\n",
      "Epoch 11/15\n",
      "235/235 [==============================] - 1s 6ms/step - loss: 0.0227 - accuracy: 0.9950 - val_loss: 0.1243 - val_accuracy: 0.9844\n",
      "Epoch 12/15\n",
      "235/235 [==============================] - 2s 8ms/step - loss: 0.0211 - accuracy: 0.9957 - val_loss: 0.1440 - val_accuracy: 0.9831\n",
      "Epoch 13/15\n",
      "235/235 [==============================] - 2s 8ms/step - loss: 0.0200 - accuracy: 0.9952 - val_loss: 0.1660 - val_accuracy: 0.9832\n",
      "Epoch 14/15\n",
      "235/235 [==============================] - 2s 8ms/step - loss: 0.0213 - accuracy: 0.9951 - val_loss: 0.1364 - val_accuracy: 0.9836\n",
      "Epoch 15/15\n",
      "235/235 [==============================] - 2s 8ms/step - loss: 0.0208 - accuracy: 0.9958 - val_loss: 0.1616 - val_accuracy: 0.9839\n"
     ]
    }
   ],
   "source": [
    "history = model.fit(x_train, y_train,\n",
    "                    batch_size=batch_size,\n",
    "                    epochs=epochs,\n",
    "                    verbose=1,\n",
    "                    validation_data=(x_test, y_test))"
   ]
  },
  {
   "cell_type": "code",
   "execution_count": 23,
   "metadata": {},
   "outputs": [
    {
     "name": "stdout",
     "output_type": "stream",
     "text": [
      "Test loss: 0.1616361290216446\n",
      "Test accuracy: 0.9839000105857849\n",
      "Train accuracy: 0.9992166757583618\n"
     ]
    },
    {
     "data": {
      "image/png": "[encoded data removed]",
      "text/plain": [
       "<Figure size 432x288 with 1 Axes>"
      ]
     },
     "metadata": {
      "needs_background": "light"
     },
     "output_type": "display_data"
    },
    {
     "data": {
      "image/png": "[encoded data removed]",
      "text/plain": [
       "<Figure size 432x288 with 1 Axes>"
      ]
     },
     "metadata": {
      "needs_background": "light"
     },
     "output_type": "display_data"
    }
   ],
   "source": [
    "score = model.evaluate(x_test, y_test, verbose=0)\n",
    "print('Test loss:', score[0])\n",
    "print('Test accuracy:', score[1])\n",
    "score = model.evaluate(x_train, y_train, verbose=0)\n",
    "print('Train accuracy:', score[1])\n",
    "\n",
    "Analyze_training(history)"
   ]
  },
  {
   "cell_type": "code",
   "execution_count": null,
   "metadata": {},
   "outputs": [],
   "source": []
  }
 ],
 "metadata": {
  "kernelspec": {
   "display_name": "DL",
   "language": "python",
   "name": "dl"
  },
  "language_info": {
   "codemirror_mode": {
    "name": "ipython",
    "version": 3
   },
   "file_extension": ".py",
   "mimetype": "text/x-python",
   "name": "python",
   "nbconvert_exporter": "python",
   "pygments_lexer": "ipython3",
   "version": "3.8.12"
  }
 },
 "nbformat": 4,
 "nbformat_minor": 2
}
