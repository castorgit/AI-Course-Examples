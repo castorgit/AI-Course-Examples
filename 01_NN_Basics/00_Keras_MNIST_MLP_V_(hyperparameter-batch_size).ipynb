{
 "cells": [
  {
   "cell_type": "markdown",
   "metadata": {},
   "source": [
    "# Simple MNIST MLP Classifier with regularization and Hyperparameter search\n",
    "\n",
    "**Description:** Simple example for Multi Layer Perceptron MNIST Classifier included several regularization \n",
    "examples like dropout, learning rate, early stopping <br>\n",
    "This example has larger layers and more complex training <br>\n",
    "This example has been modified to optimize batch size <br>\n",
    "**Dataset:** Classical MNIST dataset <br>\n",
    "."
   ]
  },
  {
   "cell_type": "code",
   "execution_count": 1,
   "metadata": {},
   "outputs": [],
   "source": [
    "import os\n",
    "os.environ['TF_CPP_MIN_LOG_LEVEL'] = '3' # to avoid warning messages\n",
    "\n",
    "import tensorflow as tf\n",
    "import matplotlib.pyplot as plt\n",
    "\n",
    "import keras_tuner as kt\n",
    "from keras.datasets import mnist\n",
    "from keras.models import Sequential\n",
    "from keras.layers import Dense, Dropout\n",
    "from tensorflow.keras.utils import to_categorical\n",
    "from tensorflow.keras.optimizers import RMSprop\n",
    "from tensorflow.keras import callbacks\n",
    "from tensorflow.keras import layers\n",
    "from tensorflow.keras.models import Model\n",
    "\n",
    "\n",
    "def Analyze_training(h):\n",
    "# summarize history for accuracy\n",
    "# history.history.keys() -> dict_keys(['loss', 'accuracy', 'val_loss', 'val_accuracy'])\n",
    "   plt.plot(h.history['accuracy'])\n",
    "   plt.plot(h.history['val_accuracy'])\n",
    "   plt.title('model accuracy')\n",
    "   plt.ylabel('accuracy')\n",
    "   plt.xlabel('epoch')\n",
    "   plt.legend(['train', 'test'], loc='upper left')\n",
    "   plt.show()\n",
    "# summarize history for loss\n",
    "   plt.plot(h.history['loss'])\n",
    "   plt.plot(h.history['val_loss'])\n",
    "   plt.title('model loss')\n",
    "   plt.ylabel('loss')\n",
    "   plt.xlabel('epoch')\n",
    "   plt.legend(['train', 'test'], loc='upper left')\n",
    "   plt.show()\n",
    "   return"
   ]
  },
  {
   "cell_type": "code",
   "execution_count": 2,
   "metadata": {},
   "outputs": [],
   "source": [
    "# Data definitions\n",
    "epochs_num = 20"
   ]
  },
  {
   "cell_type": "markdown",
   "metadata": {},
   "source": [
    "### Data Preparation"
   ]
  },
  {
   "cell_type": "code",
   "execution_count": 3,
   "metadata": {},
   "outputs": [
    {
     "name": "stdout",
     "output_type": "stream",
     "text": [
      "60000 train samples\n",
      "10000 test samples\n"
     ]
    }
   ],
   "source": [
    "(x_train, y_train), (x_test, y_test) = mnist.load_data()\n",
    "\n",
    "x_train = x_train.reshape(60000, 784)\n",
    "x_test = x_test.reshape(10000, 784)\n",
    "x_train = x_train.astype('float32')\n",
    "x_test = x_test.astype('float32')\n",
    "x_train /= 255\n",
    "x_test /= 255\n",
    "print(x_train.shape[0], 'train samples')\n",
    "print(x_test.shape[0], 'test samples')"
   ]
  },
  {
   "cell_type": "code",
   "execution_count": 4,
   "metadata": {},
   "outputs": [
    {
     "data": {
      "text/plain": [
       "(60000, 10)"
      ]
     },
     "execution_count": 4,
     "metadata": {},
     "output_type": "execute_result"
    }
   ],
   "source": [
    "# convert class vectors to binary class matrices\n",
    "y_train = to_categorical(y_train, 10)\n",
    "y_test = to_categorical(y_test, 10)\n",
    "y_train.shape"
   ]
  },
  {
   "cell_type": "markdown",
   "metadata": {},
   "source": [
    "### Hyperparameter Search"
   ]
  },
  {
   "cell_type": "code",
   "execution_count": 5,
   "metadata": {},
   "outputs": [],
   "source": [
    "# MLP definition & Hyperparameter size\n",
    "class HyperModel_MNIST(kt.HyperModel):\n",
    "\n",
    "   def build(self, hp):\n",
    "    \n",
    "      ### Optimization of layer sizes\n",
    "      hlayer1 = hp.Choice('layer1', [8,16,32,128,256,512]) \n",
    "      hlayer2 = hp.Int('layer2', min_value=32, max_value=512, step=32)\n",
    "      hlayer3 = hp.Choice('layer3', [8,16,32,128,256,512]) \n",
    "        \n",
    "      # iput layer\n",
    "      inputs = layers.Input(shape=(784,))\n",
    "      # first hidden layer\n",
    "      x = layers.Dense(hlayer1, activation='relu')(inputs)\n",
    "      x = layers.Dropout(0.1)(x)\n",
    "      # second hidden layer\n",
    "      x = layers.Dense(hlayer2, activation='relu')(x)\n",
    "      x = layers.Dropout(0.1)(x)\n",
    "      # third hidden layer\n",
    "      x = layers.Dense(hlayer3, activation='relu')(x)\n",
    "      x = layers.Dropout(0.1)(x)\n",
    "      #Final Layer (Output)\n",
    "      output = layers.Dense(10, activation='softmax')(x)\n",
    "    \n",
    "      model = Model(inputs=[inputs], outputs=output)\n",
    "      model.compile(loss='categorical_crossentropy',optimizer=RMSprop(),\n",
    "              metrics=['accuracy'])   \n",
    "      model.summary()\n",
    "      return model\n",
    "    \n",
    "   def fit(self, hp, model, *args, **kwargs):\n",
    "        return model.fit(\n",
    "           *args,\n",
    "          batch_size = hp.Choice('bsize', [8,16,32,128,256,512]),\n",
    "           **kwargs,\n",
    "        )\n",
    "        "
   ]
  },
  {
   "cell_type": "code",
   "execution_count": 6,
   "metadata": {},
   "outputs": [
    {
     "name": "stdout",
     "output_type": "stream",
     "text": [
      "Model: \"model\"\n",
      "_________________________________________________________________\n",
      " Layer (type)                Output Shape              Param #   \n",
      "=================================================================\n",
      " input_1 (InputLayer)        [(None, 784)]             0         \n",
      "                                                                 \n",
      " dense (Dense)               (None, 8)                 6280      \n",
      "                                                                 \n",
      " dropout (Dropout)           (None, 8)                 0         \n",
      "                                                                 \n",
      " dense_1 (Dense)             (None, 32)                288       \n",
      "                                                                 \n",
      " dropout_1 (Dropout)         (None, 32)                0         \n",
      "                                                                 \n",
      " dense_2 (Dense)             (None, 8)                 264       \n",
      "                                                                 \n",
      " dropout_2 (Dropout)         (None, 8)                 0         \n",
      "                                                                 \n",
      " dense_3 (Dense)             (None, 10)                90        \n",
      "                                                                 \n",
      "=================================================================\n",
      "Total params: 6,922\n",
      "Trainable params: 6,922\n",
      "Non-trainable params: 0\n",
      "_________________________________________________________________\n",
      "7500/7500 [==============================] - 22s 3ms/step - loss: 0.9798 - accuracy: 0.6824 - val_loss: 0.4534 - val_accuracy: 0.8835\n"
     ]
    },
    {
     "data": {
      "text/plain": [
       "<keras.callbacks.History at 0x7fede011abe0>"
      ]
     },
     "execution_count": 6,
     "metadata": {},
     "output_type": "execute_result"
    }
   ],
   "source": [
    "from tensorflow.keras.utils import Sequence\n",
    "import numpy as np\n",
    "\n",
    "hp = kt.HyperParameters()\n",
    "hypermodel = HyperModel_MNIST()\n",
    "model = hypermodel.build(hp)  \n",
    "#hypermodel.fit(hp, model,np.random.rand(100, 28, 28), np.random.rand(100, 10))\n",
    "hypermodel.fit(hp, model, x_train, y_train, validation_data=(x_test, y_test) )\n",
    "\n",
    "\n"
   ]
  },
  {
   "cell_type": "code",
   "execution_count": 7,
   "metadata": {},
   "outputs": [
    {
     "name": "stdout",
     "output_type": "stream",
     "text": [
      "Trial 750 Complete [00h 00m 49s]\n",
      "val_accuracy: 0.9847000241279602\n",
      "\n",
      "Best val_accuracy So Far: 0.9861999750137329\n",
      "Total elapsed time: 06h 29m 09s\n",
      "INFO:tensorflow:Oracle triggered exit\n"
     ]
    }
   ],
   "source": [
    "tuner = kt.RandomSearch(\n",
    "    hypermodel,\n",
    "    objective='val_accuracy',\n",
    "    max_trials=750,\n",
    "    overwrite = True)\n",
    "tuner.search(x_train, y_train, epochs=epochs_num, validation_data=(x_test, y_test))"
   ]
  },
  {
   "cell_type": "code",
   "execution_count": 8,
   "metadata": {},
   "outputs": [],
   "source": [
    "best_model = tuner.get_best_hyperparameters(num_trials=1)[0]\n"
   ]
  },
  {
   "cell_type": "markdown",
   "metadata": {},
   "source": [
    "### Test the best result "
   ]
  },
  {
   "cell_type": "code",
   "execution_count": 9,
   "metadata": {},
   "outputs": [
    {
     "name": "stdout",
     "output_type": "stream",
     "text": [
      "best model has layer1: 512 layer 2: 416 layer 3: 128\n",
      "the best batch size is:  256\n"
     ]
    }
   ],
   "source": [
    "print('best model has layer1:', best_model.get('layer1'), 'layer 2:', best_model.get('layer2'), 'layer 3:', \n",
    "       best_model.get('layer3'))\n",
    "print('the best batch size is: ', best_model.get('bsize'))"
   ]
  },
  {
   "cell_type": "code",
   "execution_count": 10,
   "metadata": {},
   "outputs": [],
   "source": [
    "hlayer1 = best_model.get('layer1')\n",
    "hlayer2 = best_model.get('layer2')\n",
    "hlayer3 = best_model.get('layer3')\n",
    "bsize = best_model.get('bsize')"
   ]
  },
  {
   "cell_type": "code",
   "execution_count": 11,
   "metadata": {},
   "outputs": [],
   "source": [
    "def get_MLP():\n",
    "    \n",
    "    # iput layer\n",
    "    inputs = layers.Input(shape=(784,))\n",
    "    # first hidden layer\n",
    "    x = layers.Dense(hlayer1, activation='relu')(inputs)\n",
    "    x = layers.Dropout(0.1)(x)\n",
    "    # second hidden layer\n",
    "    x = layers.Dense(hlayer2, activation='relu')(x)\n",
    "    x = layers.Dropout(0.1)(x)\n",
    "    # third hidden layer\n",
    "    x = layers.Dense(hlayer3, activation='relu')(x)\n",
    "    x = layers.Dropout(0.1)(x)\n",
    "    #Final Layer (Output)\n",
    "    output = layers.Dense(10, activation='softmax')(x)\n",
    "    \n",
    "    model = Model(inputs=[inputs], outputs=output)\n",
    "    \n",
    "    return model"
   ]
  },
  {
   "cell_type": "code",
   "execution_count": 12,
   "metadata": {},
   "outputs": [
    {
     "name": "stdout",
     "output_type": "stream",
     "text": [
      "Model: \"model_1\"\n",
      "_________________________________________________________________\n",
      " Layer (type)                Output Shape              Param #   \n",
      "=================================================================\n",
      " input_2 (InputLayer)        [(None, 784)]             0         \n",
      "                                                                 \n",
      " dense_4 (Dense)             (None, 512)               401920    \n",
      "                                                                 \n",
      " dropout_3 (Dropout)         (None, 512)               0         \n",
      "                                                                 \n",
      " dense_5 (Dense)             (None, 416)               213408    \n",
      "                                                                 \n",
      " dropout_4 (Dropout)         (None, 416)               0         \n",
      "                                                                 \n",
      " dense_6 (Dense)             (None, 128)               53376     \n",
      "                                                                 \n",
      " dropout_5 (Dropout)         (None, 128)               0         \n",
      "                                                                 \n",
      " dense_7 (Dense)             (None, 10)                1290      \n",
      "                                                                 \n",
      "=================================================================\n",
      "Total params: 669,994\n",
      "Trainable params: 669,994\n",
      "Non-trainable params: 0\n",
      "_________________________________________________________________\n"
     ]
    }
   ],
   "source": [
    "model = get_MLP()\n",
    "model.compile(loss='categorical_crossentropy',optimizer=RMSprop(), metrics=['accuracy'])\n",
    "\n",
    "model.summary()"
   ]
  },
  {
   "cell_type": "code",
   "execution_count": 13,
   "metadata": {},
   "outputs": [
    {
     "name": "stdout",
     "output_type": "stream",
     "text": [
      "Epoch 1/20\n",
      "235/235 [==============================] - 3s 10ms/step - loss: 0.3098 - accuracy: 0.9042 - val_loss: 0.1090 - val_accuracy: 0.9638\n",
      "Epoch 2/20\n",
      "235/235 [==============================] - 3s 11ms/step - loss: 0.1124 - accuracy: 0.9656 - val_loss: 0.1156 - val_accuracy: 0.9669\n",
      "Epoch 3/20\n",
      "235/235 [==============================] - 3s 11ms/step - loss: 0.0742 - accuracy: 0.9771 - val_loss: 0.0870 - val_accuracy: 0.9741\n",
      "Epoch 4/20\n",
      "235/235 [==============================] - 3s 11ms/step - loss: 0.0577 - accuracy: 0.9823 - val_loss: 0.0912 - val_accuracy: 0.9740\n",
      "Epoch 5/20\n",
      "235/235 [==============================] - 3s 11ms/step - loss: 0.0448 - accuracy: 0.9861 - val_loss: 0.0669 - val_accuracy: 0.9817\n",
      "Epoch 6/20\n",
      "235/235 [==============================] - 3s 11ms/step - loss: 0.0348 - accuracy: 0.9892 - val_loss: 0.0752 - val_accuracy: 0.9798\n",
      "Epoch 7/20\n",
      "235/235 [==============================] - 3s 11ms/step - loss: 0.0289 - accuracy: 0.9910 - val_loss: 0.1075 - val_accuracy: 0.9729\n",
      "Epoch 8/20\n",
      "235/235 [==============================] - 3s 11ms/step - loss: 0.0256 - accuracy: 0.9917 - val_loss: 0.0959 - val_accuracy: 0.9778\n",
      "Epoch 9/20\n",
      "235/235 [==============================] - 3s 11ms/step - loss: 0.0220 - accuracy: 0.9933 - val_loss: 0.0832 - val_accuracy: 0.9807\n",
      "Epoch 10/20\n",
      "235/235 [==============================] - 3s 11ms/step - loss: 0.0196 - accuracy: 0.9939 - val_loss: 0.0890 - val_accuracy: 0.9811\n",
      "Epoch 11/20\n",
      "235/235 [==============================] - 3s 11ms/step - loss: 0.0184 - accuracy: 0.9944 - val_loss: 0.0919 - val_accuracy: 0.9822\n",
      "Epoch 12/20\n",
      "235/235 [==============================] - 3s 11ms/step - loss: 0.0168 - accuracy: 0.9948 - val_loss: 0.0829 - val_accuracy: 0.9827\n",
      "Epoch 13/20\n",
      "235/235 [==============================] - 3s 11ms/step - loss: 0.0152 - accuracy: 0.9954 - val_loss: 0.0939 - val_accuracy: 0.9829\n",
      "Epoch 14/20\n",
      "235/235 [==============================] - 3s 11ms/step - loss: 0.0156 - accuracy: 0.9951 - val_loss: 0.0932 - val_accuracy: 0.9830\n",
      "Epoch 15/20\n",
      "235/235 [==============================] - 3s 11ms/step - loss: 0.0128 - accuracy: 0.9960 - val_loss: 0.0982 - val_accuracy: 0.9819\n",
      "Epoch 16/20\n",
      "235/235 [==============================] - 3s 11ms/step - loss: 0.0109 - accuracy: 0.9965 - val_loss: 0.1034 - val_accuracy: 0.9814\n",
      "Epoch 17/20\n",
      "235/235 [==============================] - 3s 11ms/step - loss: 0.0127 - accuracy: 0.9963 - val_loss: 0.1092 - val_accuracy: 0.9806\n",
      "Epoch 18/20\n",
      "235/235 [==============================] - 3s 11ms/step - loss: 0.0100 - accuracy: 0.9970 - val_loss: 0.0989 - val_accuracy: 0.9852\n",
      "Epoch 19/20\n",
      "235/235 [==============================] - 3s 11ms/step - loss: 0.0104 - accuracy: 0.9971 - val_loss: 0.1224 - val_accuracy: 0.9821\n",
      "Epoch 20/20\n",
      "235/235 [==============================] - 3s 11ms/step - loss: 0.0089 - accuracy: 0.9975 - val_loss: 0.1103 - val_accuracy: 0.9834\n"
     ]
    }
   ],
   "source": [
    "history = model.fit(x_train, y_train,\n",
    "                    batch_size=bsize,\n",
    "                    epochs=epochs_num,\n",
    "                    verbose=1,\n",
    "                    validation_data=(x_test, y_test))"
   ]
  },
  {
   "cell_type": "code",
   "execution_count": 14,
   "metadata": {},
   "outputs": [
    {
     "name": "stdout",
     "output_type": "stream",
     "text": [
      "Test loss: 0.11029605567455292\n",
      "Test accuracy: 0.9833999872207642\n",
      "Train accuracy: 0.9991333484649658\n"
     ]
    },
    {
     "data": {
      "image/png": "[encoded data removed]",
      "text/plain": [
       "<Figure size 432x288 with 1 Axes>"
      ]
     },
     "metadata": {
      "needs_background": "light"
     },
     "output_type": "display_data"
    },
    {
     "data": {
      "image/png": "[encoded data removed]",
      "text/plain": [
       "<Figure size 432x288 with 1 Axes>"
      ]
     },
     "metadata": {
      "needs_background": "light"
     },
     "output_type": "display_data"
    }
   ],
   "source": [
    "score = model.evaluate(x_test, y_test, verbose=0)\n",
    "print('Test loss:', score[0])\n",
    "print('Test accuracy:', score[1])\n",
    "score = model.evaluate(x_train, y_train, verbose=0)\n",
    "print('Train accuracy:', score[1])\n",
    "\n",
    "Analyze_training(history)"
   ]
  },
  {
   "cell_type": "code",
   "execution_count": null,
   "metadata": {},
   "outputs": [],
   "source": []
  },
  {
   "cell_type": "code",
   "execution_count": null,
   "metadata": {},
   "outputs": [],
   "source": []
  }
 ],
 "metadata": {
  "kernelspec": {
   "display_name": "DL",
   "language": "python",
   "name": "dl"
  },
  "language_info": {
   "codemirror_mode": {
    "name": "ipython",
    "version": 3
   },
   "file_extension": ".py",
   "mimetype": "text/x-python",
   "name": "python",
   "nbconvert_exporter": "python",
   "pygments_lexer": "ipython3",
   "version": "3.8.12"
  }
 },
 "nbformat": 4,
 "nbformat_minor": 2
}
