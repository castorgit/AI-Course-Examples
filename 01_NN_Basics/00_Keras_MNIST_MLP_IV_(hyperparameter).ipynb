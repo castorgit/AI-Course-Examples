{
 "cells": [
  {
   "cell_type": "markdown",
   "metadata": {},
   "source": [
    "# Simple MNIST MLP Classifier with regularization and Hyperparameter search\n",
    "\n",
    "**Description:** Simple example for Multi Layer Perceptron MNIST Classifier included several regularization \n",
    "examples like dropout, learning rate, early stopping<br>\n",
    "This example has larger layers and more complex training<br>\n",
    "**Dataset:** Classical MNIST dataset <br>\n",
    "."
   ]
  },
  {
   "cell_type": "code",
   "execution_count": 1,
   "metadata": {},
   "outputs": [],
   "source": [
    "import os\n",
    "os.environ['TF_CPP_MIN_LOG_LEVEL'] = '3' # to avoid warning messages\n",
    "\n",
    "import tensorflow as tf\n",
    "import matplotlib.pyplot as plt\n",
    "\n",
    "import keras_tuner as kt\n",
    "from keras.datasets import mnist\n",
    "from keras.models import Sequential\n",
    "from keras.layers import Dense, Dropout\n",
    "from tensorflow.keras.utils import to_categorical\n",
    "from tensorflow.keras.optimizers import RMSprop\n",
    "from tensorflow.keras import callbacks\n",
    "from tensorflow.keras import layers\n",
    "from tensorflow.keras.models import Model\n",
    "\n",
    "\n",
    "def Analyze_training(h):\n",
    "# summarize history for accuracy\n",
    "# history.history.keys() -> dict_keys(['loss', 'accuracy', 'val_loss', 'val_accuracy'])\n",
    "   plt.plot(h.history['accuracy'])\n",
    "   plt.plot(h.history['val_accuracy'])\n",
    "   plt.title('model accuracy')\n",
    "   plt.ylabel('accuracy')\n",
    "   plt.xlabel('epoch')\n",
    "   plt.legend(['train', 'test'], loc='upper left')\n",
    "   plt.show()\n",
    "# summarize history for loss\n",
    "   plt.plot(h.history['loss'])\n",
    "   plt.plot(h.history['val_loss'])\n",
    "   plt.title('model loss')\n",
    "   plt.ylabel('loss')\n",
    "   plt.xlabel('epoch')\n",
    "   plt.legend(['train', 'test'], loc='upper left')\n",
    "   plt.show()\n",
    "   return"
   ]
  },
  {
   "cell_type": "code",
   "execution_count": 2,
   "metadata": {},
   "outputs": [],
   "source": [
    "# Data definitions\n",
    "bsize = 256\n",
    "epochs = 15\n"
   ]
  },
  {
   "cell_type": "markdown",
   "metadata": {},
   "source": [
    "### Data Preparation"
   ]
  },
  {
   "cell_type": "code",
   "execution_count": 3,
   "metadata": {},
   "outputs": [
    {
     "name": "stdout",
     "output_type": "stream",
     "text": [
      "60000 train samples\n",
      "10000 test samples\n"
     ]
    }
   ],
   "source": [
    "(x_train, y_train), (x_test, y_test) = mnist.load_data()\n",
    "\n",
    "x_train = x_train.reshape(60000, 784)\n",
    "x_test = x_test.reshape(10000, 784)\n",
    "x_train = x_train.astype('float32')\n",
    "x_test = x_test.astype('float32')\n",
    "x_train /= 255\n",
    "x_test /= 255\n",
    "print(x_train.shape[0], 'train samples')\n",
    "print(x_test.shape[0], 'test samples')"
   ]
  },
  {
   "cell_type": "code",
   "execution_count": 4,
   "metadata": {},
   "outputs": [
    {
     "data": {
      "text/plain": [
       "(60000, 10)"
      ]
     },
     "execution_count": 4,
     "metadata": {},
     "output_type": "execute_result"
    }
   ],
   "source": [
    "# convert class vectors to binary class matrices\n",
    "y_train = to_categorical(y_train, 10)\n",
    "y_test = to_categorical(y_test, 10)\n",
    "y_train.shape"
   ]
  },
  {
   "cell_type": "markdown",
   "metadata": {},
   "source": [
    "### Hyperparameter Search"
   ]
  },
  {
   "cell_type": "code",
   "execution_count": 5,
   "metadata": {},
   "outputs": [],
   "source": [
    "# MLP definition & Hyperparameter size\n",
    "\n",
    "def build_model(hp):\n",
    "    \n",
    "   ### Optimization of layer sizes\n",
    "   hlayer1 = hp.Choice('layer1', [8,16,32,128,256,512]) \n",
    "   hlayer2 = hp.Int('layer2', min_value=32, max_value=512, step=32)\n",
    "   hlayer3 = hp.Choice('layer3', [8,16,32,128,256,512]) \n",
    "   bsize = hp.Int('layer2', min_value=32, max_value=512, step=32)\n",
    "   # iput layer\n",
    "   inputs = layers.Input(shape=(784,))\n",
    "   # first hidden layer\n",
    "   x = layers.Dense(hlayer1, activation='relu')(inputs)\n",
    "   x = layers.Dropout(0.1)(x)\n",
    "   # second hidden layer\n",
    "   x = layers.Dense(hlayer2, activation='relu')(x)\n",
    "   x = layers.Dropout(0.1)(x)\n",
    "   # third hidden layer\n",
    "   x = layers.Dense(hlayer3, activation='relu')(x)\n",
    "   x = layers.Dropout(0.1)(x)\n",
    "   #Final Layer (Output)\n",
    "   output = layers.Dense(10, activation='softmax')(x)\n",
    "    \n",
    "   model = Model(inputs=[inputs], outputs=output)\n",
    "   model.compile(loss='categorical_crossentropy',optimizer=RMSprop(),\n",
    "              metrics=['accuracy'])   \n",
    "    \n",
    "   return model"
   ]
  },
  {
   "cell_type": "code",
   "execution_count": 7,
   "metadata": {},
   "outputs": [],
   "source": [
    "tuner = kt.RandomSearch(\n",
    "    build_model,\n",
    "    objective='val_accuracy',\n",
    "    max_trials=500,\n",
    "    overwrite = True)"
   ]
  },
  {
   "cell_type": "code",
   "execution_count": 8,
   "metadata": {},
   "outputs": [
    {
     "name": "stdout",
     "output_type": "stream",
     "text": [
      "Trial 277 Complete [00h 00m 16s]\n",
      "val_accuracy: 0.9824000000953674\n",
      "\n",
      "Best val_accuracy So Far: 0.9854000210762024\n",
      "Total elapsed time: 01h 38m 11s\n",
      "INFO:tensorflow:Oracle triggered exit\n"
     ]
    }
   ],
   "source": [
    "tuner.search(x_train, y_train, epochs=15, batch_size = bsize, validation_data=(x_test, y_test))\n",
    "best_model = tuner.get_best_hyperparameters(num_trials=1)[0]"
   ]
  },
  {
   "cell_type": "markdown",
   "metadata": {},
   "source": [
    "### Test the best result "
   ]
  },
  {
   "cell_type": "code",
   "execution_count": 9,
   "metadata": {},
   "outputs": [
    {
     "name": "stdout",
     "output_type": "stream",
     "text": [
      "best model has layer1: 512 layer 2: 64 layer 3: 128\n"
     ]
    }
   ],
   "source": [
    "print('best model has layer1:', best_model.get('layer1'), 'layer 2:', best_model.get('layer2'), 'layer 3:', \n",
    "       best_model.get('layer3'))"
   ]
  },
  {
   "cell_type": "code",
   "execution_count": 10,
   "metadata": {},
   "outputs": [],
   "source": [
    "hlayer1 = best_model.get('layer1')\n",
    "hlayer2 = best_model.get('layer2')\n",
    "hlayer3 = best_model.get('layer3')"
   ]
  },
  {
   "cell_type": "code",
   "execution_count": 11,
   "metadata": {},
   "outputs": [],
   "source": [
    "def get_MLP():\n",
    "    \n",
    "    # iput layer\n",
    "    inputs = layers.Input(shape=(784,))\n",
    "    # first hidden layer\n",
    "    x = layers.Dense(hlayer1, activation='relu')(inputs)\n",
    "    x = layers.Dropout(0.1)(x)\n",
    "    # second hidden layer\n",
    "    x = layers.Dense(hlayer2, activation='relu')(x)\n",
    "    x = layers.Dropout(0.1)(x)\n",
    "    # third hidden layer\n",
    "    x = layers.Dense(hlayer3, activation='relu')(x)\n",
    "    x = layers.Dropout(0.1)(x)\n",
    "    #Final Layer (Output)\n",
    "    output = layers.Dense(10, activation='softmax')(x)\n",
    "    \n",
    "    model = Model(inputs=[inputs], outputs=output)\n",
    "    \n",
    "    return model"
   ]
  },
  {
   "cell_type": "code",
   "execution_count": 12,
   "metadata": {},
   "outputs": [
    {
     "name": "stdout",
     "output_type": "stream",
     "text": [
      "Model: \"model_1\"\n",
      "_________________________________________________________________\n",
      " Layer (type)                Output Shape              Param #   \n",
      "=================================================================\n",
      " input_2 (InputLayer)        [(None, 784)]             0         \n",
      "                                                                 \n",
      " dense_4 (Dense)             (None, 512)               401920    \n",
      "                                                                 \n",
      " dropout_3 (Dropout)         (None, 512)               0         \n",
      "                                                                 \n",
      " dense_5 (Dense)             (None, 64)                32832     \n",
      "                                                                 \n",
      " dropout_4 (Dropout)         (None, 64)                0         \n",
      "                                                                 \n",
      " dense_6 (Dense)             (None, 128)               8320      \n",
      "                                                                 \n",
      " dropout_5 (Dropout)         (None, 128)               0         \n",
      "                                                                 \n",
      " dense_7 (Dense)             (None, 10)                1290      \n",
      "                                                                 \n",
      "=================================================================\n",
      "Total params: 444,362\n",
      "Trainable params: 444,362\n",
      "Non-trainable params: 0\n",
      "_________________________________________________________________\n"
     ]
    }
   ],
   "source": [
    "model = get_MLP()\n",
    "model.compile(loss='categorical_crossentropy',optimizer=RMSprop(), metrics=['accuracy'])\n",
    "\n",
    "model.summary()"
   ]
  },
  {
   "cell_type": "code",
   "execution_count": 13,
   "metadata": {},
   "outputs": [
    {
     "name": "stdout",
     "output_type": "stream",
     "text": [
      "Epoch 1/15\n",
      "235/235 [==============================] - 2s 7ms/step - loss: 0.3665 - accuracy: 0.8891 - val_loss: 0.1525 - val_accuracy: 0.9522\n",
      "Epoch 2/15\n",
      "235/235 [==============================] - 2s 7ms/step - loss: 0.1332 - accuracy: 0.9601 - val_loss: 0.1292 - val_accuracy: 0.9609\n",
      "Epoch 3/15\n",
      "235/235 [==============================] - 2s 7ms/step - loss: 0.0890 - accuracy: 0.9729 - val_loss: 0.0798 - val_accuracy: 0.9753\n",
      "Epoch 4/15\n",
      "235/235 [==============================] - 2s 6ms/step - loss: 0.0678 - accuracy: 0.9792 - val_loss: 0.0713 - val_accuracy: 0.9780\n",
      "Epoch 5/15\n",
      "235/235 [==============================] - 2s 6ms/step - loss: 0.0548 - accuracy: 0.9833 - val_loss: 0.0735 - val_accuracy: 0.9791\n",
      "Epoch 6/15\n",
      "235/235 [==============================] - 2s 7ms/step - loss: 0.0440 - accuracy: 0.9863 - val_loss: 0.0759 - val_accuracy: 0.9780\n",
      "Epoch 7/15\n",
      "235/235 [==============================] - 2s 6ms/step - loss: 0.0373 - accuracy: 0.9880 - val_loss: 0.0866 - val_accuracy: 0.9769\n",
      "Epoch 8/15\n",
      "235/235 [==============================] - 2s 7ms/step - loss: 0.0336 - accuracy: 0.9896 - val_loss: 0.0762 - val_accuracy: 0.9789\n",
      "Epoch 9/15\n",
      "235/235 [==============================] - 2s 6ms/step - loss: 0.0287 - accuracy: 0.9912 - val_loss: 0.0712 - val_accuracy: 0.9814\n",
      "Epoch 10/15\n",
      "235/235 [==============================] - 2s 6ms/step - loss: 0.0229 - accuracy: 0.9929 - val_loss: 0.0819 - val_accuracy: 0.9813\n",
      "Epoch 11/15\n",
      "235/235 [==============================] - 2s 6ms/step - loss: 0.0213 - accuracy: 0.9934 - val_loss: 0.0816 - val_accuracy: 0.9819\n",
      "Epoch 12/15\n",
      "235/235 [==============================] - 2s 6ms/step - loss: 0.0194 - accuracy: 0.9941 - val_loss: 0.0822 - val_accuracy: 0.9812\n",
      "Epoch 13/15\n",
      "235/235 [==============================] - 2s 6ms/step - loss: 0.0172 - accuracy: 0.9948 - val_loss: 0.0884 - val_accuracy: 0.9820\n",
      "Epoch 14/15\n",
      "235/235 [==============================] - 2s 6ms/step - loss: 0.0151 - accuracy: 0.9948 - val_loss: 0.0798 - val_accuracy: 0.9837\n",
      "Epoch 15/15\n",
      "235/235 [==============================] - 2s 6ms/step - loss: 0.0147 - accuracy: 0.9954 - val_loss: 0.0918 - val_accuracy: 0.9816\n"
     ]
    }
   ],
   "source": [
    "history = model.fit(x_train, y_train,\n",
    "                    batch_size=bsize,\n",
    "                    epochs=epochs,\n",
    "                    verbose=1,\n",
    "                    validation_data=(x_test, y_test))"
   ]
  },
  {
   "cell_type": "code",
   "execution_count": 14,
   "metadata": {},
   "outputs": [
    {
     "name": "stdout",
     "output_type": "stream",
     "text": [
      "Test loss: 0.09177038818597794\n",
      "Test accuracy: 0.9815999865531921\n",
      "Train accuracy: 0.9972166419029236\n"
     ]
    },
    {
     "data": {
      "image/png": "[encoded data removed]",
      "text/plain": [
       "<Figure size 432x288 with 1 Axes>"
      ]
     },
     "metadata": {
      "needs_background": "light"
     },
     "output_type": "display_data"
    },
    {
     "data": {
      "image/png": "[encoded data removed]",
      "text/plain": [
       "<Figure size 432x288 with 1 Axes>"
      ]
     },
     "metadata": {
      "needs_background": "light"
     },
     "output_type": "display_data"
    }
   ],
   "source": [
    "score = model.evaluate(x_test, y_test, verbose=0)\n",
    "print('Test loss:', score[0])\n",
    "print('Test accuracy:', score[1])\n",
    "score = model.evaluate(x_train, y_train, verbose=0)\n",
    "print('Train accuracy:', score[1])\n",
    "\n",
    "Analyze_training(history)"
   ]
  },
  {
   "cell_type": "code",
   "execution_count": null,
   "metadata": {},
   "outputs": [],
   "source": []
  },
  {
   "cell_type": "code",
   "execution_count": null,
   "metadata": {},
   "outputs": [],
   "source": []
  }
 ],
 "metadata": {
  "kernelspec": {
   "display_name": "DL",
   "language": "python",
   "name": "dl"
  },
  "language_info": {
   "codemirror_mode": {
    "name": "ipython",
    "version": 3
   },
   "file_extension": ".py",
   "mimetype": "text/x-python",
   "name": "python",
   "nbconvert_exporter": "python",
   "pygments_lexer": "ipython3",
   "version": "3.8.12"
  }
 },
 "nbformat": 4,
 "nbformat_minor": 2
}
