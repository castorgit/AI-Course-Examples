{
 "cells": [
  {
   "cell_type": "markdown",
   "metadata": {},
   "source": [
    "# Conversational API with GPT-3\n",
    "\n",
    "**Description:** An example of a chatbot using GPT-3<br>\n",
    "**Dataset:** We created a training dataset to define the Persona : Martin  <br>\n",
    "The datasets contain two columns. First Column has questions and second its answers, in this way we describe the personality of a person that will become the chatbot later\n",
    "\n",
    "https://github.com/reach-the-sky/GPT3-Chatbot/blob/main/GPT3-ChatBot.py\n"
   ]
  },
  {
   "cell_type": "code",
   "execution_count": 1,
   "metadata": {},
   "outputs": [],
   "source": [
    "import os\n",
    "import openai as ai\n",
    "import json\n",
    "import pandas as pd\n",
    "import sys\n",
    "\n",
    "f = open('api-keys.json')\n",
    "data = json.load(f)\n",
    "for v in data.values():\n",
    "   token = v['token']"
   ]
  },
  {
   "cell_type": "code",
   "execution_count": null,
   "metadata": {},
   "outputs": [
    {
     "name": "stdout",
     "output_type": "stream",
     "text": [
      "To train batch a .csv file with two columns Question/Answer is required\n",
      "\n",
      "Do you want to train the openai chatbot (True/False/Batch): Batch\n",
      "name of the file for training (without .csv)Martin\n",
      "\n",
      "-processed questions: 13\n",
      "\n",
      "Enter the questions to openai (to quit type \"stop\")\n",
      "Question: Hello\n"
     ]
    }
   ],
   "source": [
    "ai.api_key = token\n",
    "\n",
    "def chat(question,chat_log = None) -> str:\n",
    "    if(chat_log == None):\n",
    "        chat_log = start_chat_log\n",
    "    prompt = f\"{chat_log}Human: {question}\\nAI:\"\n",
    "    response = completion.create(prompt = prompt, engine =  \"davinci\", \n",
    "                                 temperature = 0.75,top_p=1, frequency_penalty=0.2, \n",
    "                                 presence_penalty=0.7, best_of=1, max_tokens=100,stop = \"\\nHuman: \")\n",
    "    return response.choices[0].text\n",
    "\n",
    "def modify_start_message(chat_log,question,answer) -> str:\n",
    "    if chat_log == None:\n",
    "        chat_log = start_chat_log\n",
    "    chat_log += f\"Human: {question}\\nAI: {answer}\\n\"\n",
    "    return chat_log\n",
    "\n",
    "if __name__ == \"__main__\":\n",
    "    i=0\n",
    "    completion = ai.Completion()\n",
    "\n",
    "    start_chat_log = \"\"\"Human: Hello, I am Human.\n",
    "    AI: Hello, human I am openai gpt3.\n",
    "    Human: How are you?\n",
    "    AI: I am fine, thanks for asking. \n",
    "    \"\"\"\n",
    "    print('To train batch a .csv file with two columns Question/Answer is required')\n",
    "    train = input(\"\\nDo you want to train the openai chatbot (True/False/Batch): \")\n",
    "    if(train == \"True\"):\n",
    "        print(\"\\n(To stop the training enter stop in the qestion)\\n\")\n",
    "        while(True):\n",
    "            question = input(\"Question: \")\n",
    "            if question == \"stop\":\n",
    "                break\n",
    "            answer = input(\"Answer: \")\n",
    "            start_chat_log = modify_start_message(start_chat_log,question,answer)\n",
    "            print(\"\\n\")\n",
    "    elif (train == 'Batch'):\n",
    "        file_name = input(\"name of the file for training (without .csv)\")\n",
    "        q_and_a = pd.read_csv(file_name+'.csv',index_col=False)\n",
    "        for index, row in q_and_a.iterrows():\n",
    "           i = i+1\n",
    "           start_chat_log = modify_start_message(start_chat_log,row['Question'],row['Answer'])\n",
    "    print()\n",
    "    print('-processed questions:',i\n",
    "         )\n",
    "    question = \"\"\n",
    "    print(\"\\nEnter the questions to openai (to quit type \\\"stop\\\")\")\n",
    "    while True:\n",
    "        question = input(\"Question: \")\n",
    "        if question == \"stop\":\n",
    "            break\n",
    "        print(\"AI: \",chat(question,start_chat_log))"
   ]
  }
 ],
 "metadata": {
  "kernelspec": {
   "display_name": "NLP",
   "language": "python",
   "name": "nlp"
  },
  "language_info": {
   "codemirror_mode": {
    "name": "ipython",
    "version": 3
   },
   "file_extension": ".py",
   "mimetype": "text/x-python",
   "name": "python",
   "nbconvert_exporter": "python",
   "pygments_lexer": "ipython3",
   "version": "3.8.12"
  }
 },
 "nbformat": 4,
 "nbformat_minor": 2
}
