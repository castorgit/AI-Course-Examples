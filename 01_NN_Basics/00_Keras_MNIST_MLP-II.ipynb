{
 "cells": [
  {
   "cell_type": "markdown",
   "metadata": {},
   "source": [
    "# Simple MNIST MLP Classifier with regularization\n",
    "\n",
    "**Description:** Simple example for Multi Layer Perceptron MNIST Classifier included several regularization examples like dropout, learning rate, early stopping<br>\n",
    "**Dataset:** Classical MNIST dataset <br>\n",
    "."
   ]
  },
  {
   "cell_type": "code",
   "execution_count": 1,
   "metadata": {},
   "outputs": [],
   "source": [
    "import os\n",
    "os.environ['TF_CPP_MIN_LOG_LEVEL'] = '3' # to avoid warning messages\n",
    "\n",
    "import tensorflow as tf\n",
    "import matplotlib.pyplot as plt\n",
    "\n",
    "from keras.datasets import mnist\n",
    "from keras.models import Sequential\n",
    "from keras.layers import Dense, Dropout\n",
    "from tensorflow.keras.utils import to_categorical\n",
    "from tensorflow.keras.optimizers import RMSprop\n",
    "from tensorflow.keras import layers\n",
    "from tensorflow.keras.models import Model\n",
    "\n",
    "\n",
    "def Analyze_training(h):\n",
    "# summarize history for accuracy\n",
    "# history.history.keys() -> dict_keys(['loss', 'accuracy', 'val_loss', 'val_accuracy'])\n",
    "   plt.plot(h.history['accuracy'])\n",
    "   plt.plot(h.history['val_accuracy'])\n",
    "   plt.title('model accuracy')\n",
    "   plt.ylabel('accuracy')\n",
    "   plt.xlabel('epoch')\n",
    "   plt.legend(['train', 'test'], loc='upper left')\n",
    "   plt.show()\n",
    "# summarize history for loss\n",
    "   plt.plot(h.history['loss'])\n",
    "   plt.plot(h.history['val_loss'])\n",
    "   plt.title('model loss')\n",
    "   plt.ylabel('loss')\n",
    "   plt.xlabel('epoch')\n",
    "   plt.legend(['train', 'test'], loc='upper left')\n",
    "   plt.show()\n",
    "   return"
   ]
  },
  {
   "cell_type": "code",
   "execution_count": 2,
   "metadata": {},
   "outputs": [],
   "source": [
    "# layers structure\n",
    "batch_size = 128\n",
    "epochs = 10\n",
    "hlayer1 = 64\n",
    "hlayer2 = 64"
   ]
  },
  {
   "cell_type": "markdown",
   "metadata": {},
   "source": [
    "    Prepare Data"
   ]
  },
  {
   "cell_type": "code",
   "execution_count": 3,
   "metadata": {},
   "outputs": [
    {
     "name": "stdout",
     "output_type": "stream",
     "text": [
      "60000 train samples\n",
      "10000 test samples\n"
     ]
    }
   ],
   "source": [
    "(x_train, y_train), (x_test, y_test) = mnist.load_data()\n",
    "\n",
    "x_train = x_train.reshape(60000, 784)\n",
    "x_test = x_test.reshape(10000, 784)\n",
    "x_train = x_train.astype('float32')\n",
    "x_test = x_test.astype('float32')\n",
    "x_train /= 255\n",
    "x_test /= 255\n",
    "print(x_train.shape[0], 'train samples')\n",
    "print(x_test.shape[0], 'test samples')"
   ]
  },
  {
   "cell_type": "code",
   "execution_count": 4,
   "metadata": {},
   "outputs": [
    {
     "data": {
      "text/plain": [
       "(60000, 10)"
      ]
     },
     "execution_count": 4,
     "metadata": {},
     "output_type": "execute_result"
    }
   ],
   "source": [
    "# convert class vectors to binary class matrices\n",
    "y_train = to_categorical(y_train, 10)\n",
    "y_test = to_categorical(y_test, 10)\n",
    "y_train.shape"
   ]
  },
  {
   "cell_type": "code",
   "execution_count": 5,
   "metadata": {},
   "outputs": [],
   "source": [
    "def get_MLP():\n",
    "    \n",
    "    # iput layer\n",
    "    inputs = layers.Input(shape=(784,))\n",
    "    # first hidden layer\n",
    "    x = layers.Dense(hlayer1, activation='relu')(inputs)\n",
    "    x = layers.Dropout(0.1)(x)\n",
    "    # second hidden layer\n",
    "    x = layers.Dense(hlayer2, activation='relu')(x)\n",
    "    x = layers.Dropout(0.1)(x)\n",
    "    #Final Layer (Output)\n",
    "    output = layers.Dense(10, activation='softmax')(x)\n",
    "    \n",
    "    model = Model(inputs=[inputs], outputs=output)\n",
    "    \n",
    "    return model"
   ]
  },
  {
   "cell_type": "code",
   "execution_count": 6,
   "metadata": {},
   "outputs": [
    {
     "name": "stdout",
     "output_type": "stream",
     "text": [
      "Model: \"model\"\n",
      "_________________________________________________________________\n",
      " Layer (type)                Output Shape              Param #   \n",
      "=================================================================\n",
      " input_1 (InputLayer)        [(None, 784)]             0         \n",
      "                                                                 \n",
      " dense (Dense)               (None, 64)                50240     \n",
      "                                                                 \n",
      " dropout (Dropout)           (None, 64)                0         \n",
      "                                                                 \n",
      " dense_1 (Dense)             (None, 64)                4160      \n",
      "                                                                 \n",
      " dropout_1 (Dropout)         (None, 64)                0         \n",
      "                                                                 \n",
      " dense_2 (Dense)             (None, 10)                650       \n",
      "                                                                 \n",
      "=================================================================\n",
      "Total params: 55,050\n",
      "Trainable params: 55,050\n",
      "Non-trainable params: 0\n",
      "_________________________________________________________________\n"
     ]
    }
   ],
   "source": [
    "model = get_MLP()\n",
    "model.compile(loss='categorical_crossentropy',optimizer=RMSprop(learning_rate=0.0015), metrics=['accuracy'])\n",
    "\n",
    "model.summary()"
   ]
  },
  {
   "cell_type": "markdown",
   "metadata": {},
   "source": [
    "#####    Definition of a Simple [784:64:64:10] Network"
   ]
  },
  {
   "cell_type": "code",
   "execution_count": 7,
   "metadata": {
    "scrolled": true
   },
   "outputs": [
    {
     "name": "stdout",
     "output_type": "stream",
     "text": [
      "Epoch 1/10\n",
      "469/469 [==============================] - 2s 2ms/step - loss: 0.3867 - accuracy: 0.8844 - val_loss: 0.1714 - val_accuracy: 0.9480\n",
      "Epoch 2/10\n",
      "469/469 [==============================] - 1s 2ms/step - loss: 0.1856 - accuracy: 0.9462 - val_loss: 0.1287 - val_accuracy: 0.9605\n",
      "Epoch 3/10\n",
      "469/469 [==============================] - 1s 2ms/step - loss: 0.1447 - accuracy: 0.9567 - val_loss: 0.1065 - val_accuracy: 0.9690\n",
      "Epoch 4/10\n",
      "469/469 [==============================] - 1s 2ms/step - loss: 0.1234 - accuracy: 0.9626 - val_loss: 0.1033 - val_accuracy: 0.9710\n",
      "Epoch 5/10\n",
      "469/469 [==============================] - 1s 2ms/step - loss: 0.1076 - accuracy: 0.9675 - val_loss: 0.1064 - val_accuracy: 0.9686\n",
      "Epoch 6/10\n",
      "469/469 [==============================] - 1s 2ms/step - loss: 0.0982 - accuracy: 0.9707 - val_loss: 0.0981 - val_accuracy: 0.9730\n",
      "Epoch 7/10\n",
      "469/469 [==============================] - 1s 2ms/step - loss: 0.0925 - accuracy: 0.9715 - val_loss: 0.0953 - val_accuracy: 0.9726\n",
      "Epoch 8/10\n",
      "469/469 [==============================] - 1s 2ms/step - loss: 0.0845 - accuracy: 0.9746 - val_loss: 0.0843 - val_accuracy: 0.9767\n",
      "Epoch 9/10\n",
      "469/469 [==============================] - 1s 2ms/step - loss: 0.0804 - accuracy: 0.9748 - val_loss: 0.0840 - val_accuracy: 0.9762\n",
      "Epoch 10/10\n",
      "469/469 [==============================] - 1s 2ms/step - loss: 0.0752 - accuracy: 0.9763 - val_loss: 0.0911 - val_accuracy: 0.9745\n"
     ]
    }
   ],
   "source": [
    "history = model.fit(x_train, y_train,\n",
    "                    batch_size=batch_size,\n",
    "                    epochs=epochs,\n",
    "                    verbose=1,\n",
    "                    validation_data=(x_test, y_test))"
   ]
  },
  {
   "cell_type": "code",
   "execution_count": 8,
   "metadata": {},
   "outputs": [
    {
     "name": "stdout",
     "output_type": "stream",
     "text": [
      "Test loss: 0.09112328290939331\n",
      "Test accuracy: 0.9745000004768372\n",
      "Train accuracy: 0.9888833165168762\n"
     ]
    },
    {
     "data": {
      "image/png": "[encoded data removed]",
      "text/plain": [
       "<Figure size 432x288 with 1 Axes>"
      ]
     },
     "metadata": {
      "needs_background": "light"
     },
     "output_type": "display_data"
    },
    {
     "data": {
      "image/png": "[encoded data removed]",
      "text/plain": [
       "<Figure size 432x288 with 1 Axes>"
      ]
     },
     "metadata": {
      "needs_background": "light"
     },
     "output_type": "display_data"
    }
   ],
   "source": [
    "score = model.evaluate(x_test, y_test, verbose=0)\n",
    "print('Test loss:', score[0])\n",
    "print('Test accuracy:', score[1])\n",
    "score = model.evaluate(x_train, y_train, verbose=0)\n",
    "print('Train accuracy:', score[1])\n",
    "\n",
    "Analyze_training(history)"
   ]
  }
 ],
 "metadata": {
  "kernelspec": {
   "display_name": "DL",
   "language": "python",
   "name": "dl"
  },
  "language_info": {
   "codemirror_mode": {
    "name": "ipython",
    "version": 3
   },
   "file_extension": ".py",
   "mimetype": "text/x-python",
   "name": "python",
   "nbconvert_exporter": "python",
   "pygments_lexer": "ipython3",
   "version": "3.8.12"
  }
 },
 "nbformat": 4,
 "nbformat_minor": 2
}
