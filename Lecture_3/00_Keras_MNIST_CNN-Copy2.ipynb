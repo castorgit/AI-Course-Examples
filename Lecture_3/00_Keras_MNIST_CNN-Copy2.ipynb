{
 "cells": [
  {
   "cell_type": "markdown",
   "id": "37025201",
   "metadata": {},
   "source": [
    "# Simple MNIST CNN Classifier \n",
    "\n",
    "**Description:** Simple example of CNN MNIST Classifier <br>\n",
    "Accuracy is 99% test dataset<br>\n",
    "**Dataset:** Classical MNIST dataset <br>"
   ]
  },
  {
   "cell_type": "code",
   "execution_count": 1,
   "id": "fe10ab3f",
   "metadata": {},
   "outputs": [],
   "source": [
    "import os\n",
    "os.environ['TF_CPP_MIN_LOG_LEVEL'] = '3' # to avoid warning messages\n",
    "\n",
    "import tensorflow as tf\n",
    "import matplotlib.pyplot as plt\n",
    "\n",
    "import keras\n",
    "from keras.datasets import mnist\n",
    "from tensorflow.keras.utils import to_categorical\n",
    "from keras.models import Sequential\n",
    "from keras.layers import Dense, Dropout, Flatten\n",
    "from keras.layers import Conv2D, MaxPooling2D\n",
    "from tensorflow.keras.optimizers import Adamax\n",
    "from keras import backend as K"
   ]
  },
  {
   "cell_type": "code",
   "execution_count": 2,
   "id": "e189c8fe",
   "metadata": {},
   "outputs": [],
   "source": [
    "def Analyze_training(h):\n",
    "# summarize history for accuracy\n",
    "# history.history.keys() -> dict_keys(['loss', 'accuracy', 'val_loss', 'val_accuracy'])\n",
    "   plt.plot(h.history['accuracy'])\n",
    "   plt.plot(h.history['val_accuracy'])\n",
    "   plt.title('model accuracy')\n",
    "   plt.ylabel('accuracy')\n",
    "   plt.xlabel('epoch')\n",
    "   plt.legend(['train', 'test'], loc='upper left')\n",
    "   plt.show()\n",
    "# summarize history for loss\n",
    "   plt.plot(h.history['loss'])\n",
    "   plt.plot(h.history['val_loss'])\n",
    "   plt.title('model loss')\n",
    "   plt.ylabel('loss')\n",
    "   plt.xlabel('epoch')\n",
    "   plt.legend(['train', 'test'], loc='upper left')\n",
    "   plt.show()\n",
    "   return"
   ]
  },
  {
   "cell_type": "code",
   "execution_count": 3,
   "id": "dccf3dfc",
   "metadata": {},
   "outputs": [],
   "source": [
    "batch_size = 128\n",
    "epochs = 15"
   ]
  },
  {
   "cell_type": "code",
   "execution_count": 4,
   "id": "3a25b1a5",
   "metadata": {},
   "outputs": [
    {
     "name": "stdout",
     "output_type": "stream",
     "text": [
      "x_train shape: (60000, 28, 28, 1)\n",
      "60000 train samples\n",
      "10000 test samples\n"
     ]
    }
   ],
   "source": [
    "(x_train, y_train), (x_test, y_test) = mnist.load_data()\n",
    "# In Keras, Default usually is 'channels_last'\n",
    "if K.image_data_format() == 'channels_first':\n",
    "    x_train = x_train.reshape(x_train.shape[0], 1, 28,28)\n",
    "    x_test = x_test.reshape(x_test.shape[0], 1, 28,28)\n",
    "    input_shape = (1, 28,28)\n",
    "else:\n",
    "    x_train = x_train.reshape(x_train.shape[0], 28,28, 1)\n",
    "    x_test = x_test.reshape(x_test.shape[0], 28,28, 1)\n",
    "    input_shape = (28,28, 1)\n",
    "    \n",
    "x_train = x_train.astype('float32')\n",
    "x_test = x_test.astype('float32')\n",
    "x_train /= 255\n",
    "x_test /= 255\n",
    "print('x_train shape:', x_train.shape)\n",
    "print(x_train.shape[0], 'train samples')\n",
    "print(x_test.shape[0], 'test samples')\n",
    "\n",
    "# convert class vectors to binary class matrices\n",
    "y_train = to_categorical(y_train, 10)\n",
    "y_test = to_categorical(y_test, 10)"
   ]
  },
  {
   "cell_type": "code",
   "execution_count": 5,
   "id": "cda7966a",
   "metadata": {},
   "outputs": [
    {
     "name": "stdout",
     "output_type": "stream",
     "text": [
      "Model: \"sequential\"\n",
      "_________________________________________________________________\n",
      " Layer (type)                Output Shape              Param #   \n",
      "=================================================================\n",
      " conv2d (Conv2D)             (None, 26, 26, 32)        320       \n",
      "                                                                 \n",
      " conv2d_1 (Conv2D)           (None, 24, 24, 64)        18496     \n",
      "                                                                 \n",
      " max_pooling2d (MaxPooling2D  (None, 12, 12, 64)       0         \n",
      " )                                                               \n",
      "                                                                 \n",
      " dropout (Dropout)           (None, 12, 12, 64)        0         \n",
      "                                                                 \n",
      " flatten (Flatten)           (None, 9216)              0         \n",
      "                                                                 \n",
      " dense (Dense)               (None, 128)               1179776   \n",
      "                                                                 \n",
      " dropout_1 (Dropout)         (None, 128)               0         \n",
      "                                                                 \n",
      " dense_1 (Dense)             (None, 10)                1290      \n",
      "                                                                 \n",
      "=================================================================\n",
      "Total params: 1,199,882\n",
      "Trainable params: 1,199,882\n",
      "Non-trainable params: 0\n",
      "_________________________________________________________________\n",
      "Epoch 1/15\n",
      "469/469 [==============================] - 111s 236ms/step - loss: 0.2306 - accuracy: 0.9297 - val_loss: 0.0477 - val_accuracy: 0.9841\n",
      "Epoch 2/15\n",
      "469/469 [==============================] - 105s 224ms/step - loss: 0.0829 - accuracy: 0.9760 - val_loss: 0.0372 - val_accuracy: 0.9885\n",
      "Epoch 3/15\n",
      "469/469 [==============================] - 116s 248ms/step - loss: 0.0591 - accuracy: 0.9815 - val_loss: 0.0332 - val_accuracy: 0.9888\n",
      "Epoch 4/15\n",
      "469/469 [==============================] - 108s 231ms/step - loss: 0.0491 - accuracy: 0.9845 - val_loss: 0.0308 - val_accuracy: 0.9897\n",
      "Epoch 5/15\n",
      "469/469 [==============================] - 92s 196ms/step - loss: 0.0434 - accuracy: 0.9860 - val_loss: 0.0262 - val_accuracy: 0.9918\n",
      "Epoch 6/15\n",
      "469/469 [==============================] - 70s 150ms/step - loss: 0.0366 - accuracy: 0.9887 - val_loss: 0.0254 - val_accuracy: 0.9919\n",
      "Epoch 7/15\n",
      "469/469 [==============================] - 69s 147ms/step - loss: 0.0335 - accuracy: 0.9893 - val_loss: 0.0299 - val_accuracy: 0.9916\n",
      "Epoch 8/15\n",
      "469/469 [==============================] - 67s 144ms/step - loss: 0.0282 - accuracy: 0.9905 - val_loss: 0.0290 - val_accuracy: 0.9916\n",
      "Epoch 9/15\n",
      "469/469 [==============================] - 68s 144ms/step - loss: 0.0261 - accuracy: 0.9914 - val_loss: 0.0274 - val_accuracy: 0.9915\n",
      "Epoch 10/15\n",
      "469/469 [==============================] - 67s 142ms/step - loss: 0.0234 - accuracy: 0.9919 - val_loss: 0.0267 - val_accuracy: 0.9917\n",
      "Epoch 11/15\n",
      "469/469 [==============================] - 66s 142ms/step - loss: 0.0222 - accuracy: 0.9927 - val_loss: 0.0270 - val_accuracy: 0.9926\n",
      "Epoch 12/15\n",
      "469/469 [==============================] - 69s 148ms/step - loss: 0.0208 - accuracy: 0.9932 - val_loss: 0.0293 - val_accuracy: 0.9925\n",
      "Epoch 13/15\n",
      "469/469 [==============================] - 69s 146ms/step - loss: 0.0187 - accuracy: 0.9936 - val_loss: 0.0274 - val_accuracy: 0.9929\n",
      "Epoch 14/15\n",
      "469/469 [==============================] - 68s 144ms/step - loss: 0.0184 - accuracy: 0.9941 - val_loss: 0.0286 - val_accuracy: 0.9926\n",
      "Epoch 15/15\n",
      "469/469 [==============================] - 67s 143ms/step - loss: 0.0164 - accuracy: 0.9947 - val_loss: 0.0294 - val_accuracy: 0.9929\n"
     ]
    },
    {
     "data": {
      "text/plain": [
       "<keras.callbacks.History at 0x7ff8c6835460>"
      ]
     },
     "execution_count": 5,
     "metadata": {},
     "output_type": "execute_result"
    }
   ],
   "source": [
    "model = Sequential()\n",
    "model.add(Conv2D(32, kernel_size=(3, 3),activation='relu',input_shape=input_shape))\n",
    "model.add(Conv2D(64, (3, 3), activation='relu'))\n",
    "model.add(MaxPooling2D(pool_size=(2, 2)))\n",
    "model.add(Dropout(0.25))\n",
    "model.add(Flatten())\n",
    "model.add(Dense(128, activation='relu'))\n",
    "model.add(Dropout(0.5))\n",
    "model.add(Dense(10, activation='softmax'))\n",
    "model.summary()\n",
    "\n",
    "#model.compile(loss=keras.losses.categorical_crossentropy,optimizer=tf.keras.optimizers.Adadelta(),\n",
    "model.compile(loss=\"categorical_crossentropy\", optimizer=\"adam\", metrics=[\"accuracy\"])\n",
    "\n",
    "history = model.fit(x_train, y_train, batch_size=batch_size, epochs=epochs, validation_data=(x_test, y_test))"
   ]
  },
  {
   "cell_type": "code",
   "execution_count": 7,
   "id": "cbd985e4",
   "metadata": {},
   "outputs": [
    {
     "name": "stdout",
     "output_type": "stream",
     "text": [
      "Test loss: 0.02944761887192726\n",
      "Test accuracy: 0.992900013923645\n",
      "Train accuracy: 0.9992833137512207\n"
     ]
    },
    {
     "ename": "NameError",
     "evalue": "name 'history' is not defined",
     "output_type": "error",
     "traceback": [
      "\u001b[0;31m---------------------------------------------------------------------------\u001b[0m",
      "\u001b[0;31mNameError\u001b[0m                                 Traceback (most recent call last)",
      "\u001b[0;32m/tmp/ipykernel_269553/972269430.py\u001b[0m in \u001b[0;36m<module>\u001b[0;34m\u001b[0m\n\u001b[1;32m      5\u001b[0m \u001b[0mprint\u001b[0m\u001b[0;34m(\u001b[0m\u001b[0;34m'Train accuracy:'\u001b[0m\u001b[0;34m,\u001b[0m \u001b[0mscore\u001b[0m\u001b[0;34m[\u001b[0m\u001b[0;36m1\u001b[0m\u001b[0;34m]\u001b[0m\u001b[0;34m)\u001b[0m\u001b[0;34m\u001b[0m\u001b[0;34m\u001b[0m\u001b[0m\n\u001b[1;32m      6\u001b[0m \u001b[0;34m\u001b[0m\u001b[0m\n\u001b[0;32m----> 7\u001b[0;31m \u001b[0mAnalyze_training\u001b[0m\u001b[0;34m(\u001b[0m\u001b[0mhistory\u001b[0m\u001b[0;34m)\u001b[0m\u001b[0;34m\u001b[0m\u001b[0;34m\u001b[0m\u001b[0m\n\u001b[0m",
      "\u001b[0;31mNameError\u001b[0m: name 'history' is not defined"
     ]
    }
   ],
   "source": [
    "score = model.evaluate(x_test, y_test, verbose=0)\n",
    "print('Test loss:', score[0])\n",
    "print('Test accuracy:', score[1])\n",
    "score = model.evaluate(x_train, y_train, verbose=0)\n",
    "print('Train accuracy:', score[1])\n",
    "\n",
    "Analyze_training(history)"
   ]
  },
  {
   "cell_type": "code",
   "execution_count": 8,
   "id": "bff3ebe5",
   "metadata": {},
   "outputs": [
    {
     "name": "stdout",
     "output_type": "stream",
     "text": [
      "import os\n",
      "os.environ['TF_CPP_MIN_LOG_LEVEL'] = '3' # to avoid warning messages\n",
      "\n",
      "import tensorflow as tf\n",
      "import matplotlib.pyplot as plt\n",
      "\n",
      "import keras\n",
      "from keras.datasets import mnist\n",
      "from tensorflow.keras.utils import to_categorical\n",
      "from keras.models import Sequential\n",
      "from keras.layers import Dense, Dropout, Flatten\n",
      "from keras.layers import Conv2D, MaxPooling2D\n",
      "from tensorflow.keras.optimizers import Adamax\n",
      "from keras import backend as K\n",
      "def Analyze_training(h):\n",
      "# summarize history for accuracy\n",
      "# history.history.keys() -> dict_keys(['loss', 'accuracy', 'val_loss', 'val_accuracy'])\n",
      "   plt.plot(h.history['accuracy'])\n",
      "   plt.plot(h.history['val_accuracy'])\n",
      "   plt.title('model accuracy')\n",
      "   plt.ylabel('accuracy')\n",
      "   plt.xlabel('epoch')\n",
      "   plt.legend(['train', 'test'], loc='upper left')\n",
      "   plt.show()\n",
      "# summarize history for loss\n",
      "   plt.plot(h.history['loss'])\n",
      "   plt.plot(h.history['val_loss'])\n",
      "   plt.title('model loss')\n",
      "   plt.ylabel('loss')\n",
      "   plt.xlabel('epoch')\n",
      "   plt.legend(['train', 'test'], loc='upper left')\n",
      "   plt.show()\n",
      "   return\n",
      "batch_size = 128\n",
      "epochs = 15\n",
      "(x_train, y_train), (x_test, y_test) = mnist.load_data()\n",
      "# In Keras, Default usually is 'channels_last'\n",
      "if K.image_data_format() == 'channels_first':\n",
      "    x_train = x_train.reshape(x_train.shape[0], 1, 28,28)\n",
      "    x_test = x_test.reshape(x_test.shape[0], 1, 28,28)\n",
      "    input_shape = (1, 28,28)\n",
      "else:\n",
      "    x_train = x_train.reshape(x_train.shape[0], 28,28, 1)\n",
      "    x_test = x_test.reshape(x_test.shape[0], 28,28, 1)\n",
      "    input_shape = (28,28, 1)\n",
      "    \n",
      "x_train = x_train.astype('float32')\n",
      "x_test = x_test.astype('float32')\n",
      "x_train /= 255\n",
      "x_test /= 255\n",
      "print('x_train shape:', x_train.shape)\n",
      "print(x_train.shape[0], 'train samples')\n",
      "print(x_test.shape[0], 'test samples')\n",
      "\n",
      "# convert class vectors to binary class matrices\n",
      "y_train = to_categorical(y_train, 10)\n",
      "y_test = to_categorical(y_test, 10)\n",
      "model = Sequential()\n",
      "model.add(Conv2D(32, kernel_size=(3, 3),activation='relu',input_shape=input_shape))\n",
      "model.add(Conv2D(64, (3, 3), activation='relu'))\n",
      "model.add(MaxPooling2D(pool_size=(2, 2)))\n",
      "model.add(Dropout(0.25))\n",
      "model.add(Flatten())\n",
      "model.add(Dense(128, activation='relu'))\n",
      "model.add(Dropout(0.5))\n",
      "model.add(Dense(10, activation='softmax'))\n",
      "model.summary()\n",
      "\n",
      "#model.compile(loss=keras.losses.categorical_crossentropy,optimizer=tf.keras.optimizers.Adadelta(),\n",
      "model.compile(loss=\"categorical_crossentropy\", optimizer=\"adam\", metrics=[\"accuracy\"])\n",
      "\n",
      "model.fit(x_train, y_train, batch_size=batch_size, epochs=epochs, validation_data=(x_test, y_test))\n",
      "score = model.evaluate(x_test, y_test, verbose=0)\n",
      "print('Test loss:', score[0])\n",
      "print('Test accuracy:', score[1])\n",
      "score = model.evaluate(x_train, y_train, verbose=0)\n",
      "print('Train accuracy:', score[1])\n",
      "\n",
      "Analyze_training(history)\n",
      "score = model.evaluate(x_test, y_test, verbose=0)\n",
      "print('Test loss:', score[0])\n",
      "print('Test accuracy:', score[1])\n",
      "score = model.evaluate(x_train, y_train, verbose=0)\n",
      "print('Train accuracy:', score[1])\n",
      "\n",
      "Analyze_training(history)\n",
      "history\n"
     ]
    }
   ],
   "source": [
    "history"
   ]
  },
  {
   "cell_type": "code",
   "execution_count": null,
   "id": "2d009d2a",
   "metadata": {},
   "outputs": [],
   "source": []
  }
 ],
 "metadata": {
  "kernelspec": {
   "display_name": "DL",
   "language": "python",
   "name": "dl"
  },
  "language_info": {
   "codemirror_mode": {
    "name": "ipython",
    "version": 3
   },
   "file_extension": ".py",
   "mimetype": "text/x-python",
   "name": "python",
   "nbconvert_exporter": "python",
   "pygments_lexer": "ipython3",
   "version": "3.8.12"
  }
 },
 "nbformat": 4,
 "nbformat_minor": 5
}
